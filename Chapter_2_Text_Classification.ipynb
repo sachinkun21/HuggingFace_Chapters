{
  "nbformat": 4,
  "nbformat_minor": 0,
  "metadata": {
    "colab": {
      "name": "Chapter 2: Text Classification.ipynb",
      "provenance": [],
      "collapsed_sections": [
        "YJTtRC1FvzFc",
        "lDbMdX6fEeO8",
        "W0UeuJRSAcMD",
        "33SLNNROexxv",
        "eEgZRb4RGIUd",
        "hN8nE-hOGrHP"
      ],
      "authorship_tag": "ABX9TyMeLaeaB741chFEt4ARZame",
      "include_colab_link": true
    },
    "kernelspec": {
      "name": "python3",
      "display_name": "Python 3"
    },
    "language_info": {
      "name": "python"
    },
    "accelerator": "GPU",
    "widgets": {
      "application/vnd.jupyter.widget-state+json": {
        "7e23f2db45444343b7262f8cc3a48c97": {
          "model_module": "@jupyter-widgets/controls",
          "model_name": "HBoxModel",
          "model_module_version": "1.5.0",
          "state": {
            "_dom_classes": [],
            "_model_module": "@jupyter-widgets/controls",
            "_model_module_version": "1.5.0",
            "_model_name": "HBoxModel",
            "_view_count": null,
            "_view_module": "@jupyter-widgets/controls",
            "_view_module_version": "1.5.0",
            "_view_name": "HBoxView",
            "box_style": "",
            "children": [
              "IPY_MODEL_edd4c357a52e45dca7097b7def1d8ccf",
              "IPY_MODEL_cfd5f604b4694206b390b32fd4a465d4",
              "IPY_MODEL_fef34d4f22aa42c38a145b1b36dd40b5"
            ],
            "layout": "IPY_MODEL_991ed6bd87f1473285af3835b588c665"
          }
        },
        "edd4c357a52e45dca7097b7def1d8ccf": {
          "model_module": "@jupyter-widgets/controls",
          "model_name": "HTMLModel",
          "model_module_version": "1.5.0",
          "state": {
            "_dom_classes": [],
            "_model_module": "@jupyter-widgets/controls",
            "_model_module_version": "1.5.0",
            "_model_name": "HTMLModel",
            "_view_count": null,
            "_view_module": "@jupyter-widgets/controls",
            "_view_module_version": "1.5.0",
            "_view_name": "HTMLView",
            "description": "",
            "description_tooltip": null,
            "layout": "IPY_MODEL_2a3bb0c03a114d6fa8a93ade027c8b0e",
            "placeholder": "​",
            "style": "IPY_MODEL_8a6351d3dcb148b784c8b7777e493a14",
            "value": "100%"
          }
        },
        "cfd5f604b4694206b390b32fd4a465d4": {
          "model_module": "@jupyter-widgets/controls",
          "model_name": "FloatProgressModel",
          "model_module_version": "1.5.0",
          "state": {
            "_dom_classes": [],
            "_model_module": "@jupyter-widgets/controls",
            "_model_module_version": "1.5.0",
            "_model_name": "FloatProgressModel",
            "_view_count": null,
            "_view_module": "@jupyter-widgets/controls",
            "_view_module_version": "1.5.0",
            "_view_name": "ProgressView",
            "bar_style": "success",
            "description": "",
            "description_tooltip": null,
            "layout": "IPY_MODEL_e891d18bd22342c2baffdb7831dc43e9",
            "max": 3,
            "min": 0,
            "orientation": "horizontal",
            "style": "IPY_MODEL_b763f2b38eda4bcebea154cb141eab58",
            "value": 3
          }
        },
        "fef34d4f22aa42c38a145b1b36dd40b5": {
          "model_module": "@jupyter-widgets/controls",
          "model_name": "HTMLModel",
          "model_module_version": "1.5.0",
          "state": {
            "_dom_classes": [],
            "_model_module": "@jupyter-widgets/controls",
            "_model_module_version": "1.5.0",
            "_model_name": "HTMLModel",
            "_view_count": null,
            "_view_module": "@jupyter-widgets/controls",
            "_view_module_version": "1.5.0",
            "_view_name": "HTMLView",
            "description": "",
            "description_tooltip": null,
            "layout": "IPY_MODEL_f597cb7197b44aef892ebb6e1215f9d7",
            "placeholder": "​",
            "style": "IPY_MODEL_19be872a70e3471595d463347e51ce1e",
            "value": " 3/3 [00:00&lt;00:00, 55.65it/s]"
          }
        },
        "991ed6bd87f1473285af3835b588c665": {
          "model_module": "@jupyter-widgets/base",
          "model_name": "LayoutModel",
          "model_module_version": "1.2.0",
          "state": {
            "_model_module": "@jupyter-widgets/base",
            "_model_module_version": "1.2.0",
            "_model_name": "LayoutModel",
            "_view_count": null,
            "_view_module": "@jupyter-widgets/base",
            "_view_module_version": "1.2.0",
            "_view_name": "LayoutView",
            "align_content": null,
            "align_items": null,
            "align_self": null,
            "border": null,
            "bottom": null,
            "display": null,
            "flex": null,
            "flex_flow": null,
            "grid_area": null,
            "grid_auto_columns": null,
            "grid_auto_flow": null,
            "grid_auto_rows": null,
            "grid_column": null,
            "grid_gap": null,
            "grid_row": null,
            "grid_template_areas": null,
            "grid_template_columns": null,
            "grid_template_rows": null,
            "height": null,
            "justify_content": null,
            "justify_items": null,
            "left": null,
            "margin": null,
            "max_height": null,
            "max_width": null,
            "min_height": null,
            "min_width": null,
            "object_fit": null,
            "object_position": null,
            "order": null,
            "overflow": null,
            "overflow_x": null,
            "overflow_y": null,
            "padding": null,
            "right": null,
            "top": null,
            "visibility": null,
            "width": null
          }
        },
        "2a3bb0c03a114d6fa8a93ade027c8b0e": {
          "model_module": "@jupyter-widgets/base",
          "model_name": "LayoutModel",
          "model_module_version": "1.2.0",
          "state": {
            "_model_module": "@jupyter-widgets/base",
            "_model_module_version": "1.2.0",
            "_model_name": "LayoutModel",
            "_view_count": null,
            "_view_module": "@jupyter-widgets/base",
            "_view_module_version": "1.2.0",
            "_view_name": "LayoutView",
            "align_content": null,
            "align_items": null,
            "align_self": null,
            "border": null,
            "bottom": null,
            "display": null,
            "flex": null,
            "flex_flow": null,
            "grid_area": null,
            "grid_auto_columns": null,
            "grid_auto_flow": null,
            "grid_auto_rows": null,
            "grid_column": null,
            "grid_gap": null,
            "grid_row": null,
            "grid_template_areas": null,
            "grid_template_columns": null,
            "grid_template_rows": null,
            "height": null,
            "justify_content": null,
            "justify_items": null,
            "left": null,
            "margin": null,
            "max_height": null,
            "max_width": null,
            "min_height": null,
            "min_width": null,
            "object_fit": null,
            "object_position": null,
            "order": null,
            "overflow": null,
            "overflow_x": null,
            "overflow_y": null,
            "padding": null,
            "right": null,
            "top": null,
            "visibility": null,
            "width": null
          }
        },
        "8a6351d3dcb148b784c8b7777e493a14": {
          "model_module": "@jupyter-widgets/controls",
          "model_name": "DescriptionStyleModel",
          "model_module_version": "1.5.0",
          "state": {
            "_model_module": "@jupyter-widgets/controls",
            "_model_module_version": "1.5.0",
            "_model_name": "DescriptionStyleModel",
            "_view_count": null,
            "_view_module": "@jupyter-widgets/base",
            "_view_module_version": "1.2.0",
            "_view_name": "StyleView",
            "description_width": ""
          }
        },
        "e891d18bd22342c2baffdb7831dc43e9": {
          "model_module": "@jupyter-widgets/base",
          "model_name": "LayoutModel",
          "model_module_version": "1.2.0",
          "state": {
            "_model_module": "@jupyter-widgets/base",
            "_model_module_version": "1.2.0",
            "_model_name": "LayoutModel",
            "_view_count": null,
            "_view_module": "@jupyter-widgets/base",
            "_view_module_version": "1.2.0",
            "_view_name": "LayoutView",
            "align_content": null,
            "align_items": null,
            "align_self": null,
            "border": null,
            "bottom": null,
            "display": null,
            "flex": null,
            "flex_flow": null,
            "grid_area": null,
            "grid_auto_columns": null,
            "grid_auto_flow": null,
            "grid_auto_rows": null,
            "grid_column": null,
            "grid_gap": null,
            "grid_row": null,
            "grid_template_areas": null,
            "grid_template_columns": null,
            "grid_template_rows": null,
            "height": null,
            "justify_content": null,
            "justify_items": null,
            "left": null,
            "margin": null,
            "max_height": null,
            "max_width": null,
            "min_height": null,
            "min_width": null,
            "object_fit": null,
            "object_position": null,
            "order": null,
            "overflow": null,
            "overflow_x": null,
            "overflow_y": null,
            "padding": null,
            "right": null,
            "top": null,
            "visibility": null,
            "width": null
          }
        },
        "b763f2b38eda4bcebea154cb141eab58": {
          "model_module": "@jupyter-widgets/controls",
          "model_name": "ProgressStyleModel",
          "model_module_version": "1.5.0",
          "state": {
            "_model_module": "@jupyter-widgets/controls",
            "_model_module_version": "1.5.0",
            "_model_name": "ProgressStyleModel",
            "_view_count": null,
            "_view_module": "@jupyter-widgets/base",
            "_view_module_version": "1.2.0",
            "_view_name": "StyleView",
            "bar_color": null,
            "description_width": ""
          }
        },
        "f597cb7197b44aef892ebb6e1215f9d7": {
          "model_module": "@jupyter-widgets/base",
          "model_name": "LayoutModel",
          "model_module_version": "1.2.0",
          "state": {
            "_model_module": "@jupyter-widgets/base",
            "_model_module_version": "1.2.0",
            "_model_name": "LayoutModel",
            "_view_count": null,
            "_view_module": "@jupyter-widgets/base",
            "_view_module_version": "1.2.0",
            "_view_name": "LayoutView",
            "align_content": null,
            "align_items": null,
            "align_self": null,
            "border": null,
            "bottom": null,
            "display": null,
            "flex": null,
            "flex_flow": null,
            "grid_area": null,
            "grid_auto_columns": null,
            "grid_auto_flow": null,
            "grid_auto_rows": null,
            "grid_column": null,
            "grid_gap": null,
            "grid_row": null,
            "grid_template_areas": null,
            "grid_template_columns": null,
            "grid_template_rows": null,
            "height": null,
            "justify_content": null,
            "justify_items": null,
            "left": null,
            "margin": null,
            "max_height": null,
            "max_width": null,
            "min_height": null,
            "min_width": null,
            "object_fit": null,
            "object_position": null,
            "order": null,
            "overflow": null,
            "overflow_x": null,
            "overflow_y": null,
            "padding": null,
            "right": null,
            "top": null,
            "visibility": null,
            "width": null
          }
        },
        "19be872a70e3471595d463347e51ce1e": {
          "model_module": "@jupyter-widgets/controls",
          "model_name": "DescriptionStyleModel",
          "model_module_version": "1.5.0",
          "state": {
            "_model_module": "@jupyter-widgets/controls",
            "_model_module_version": "1.5.0",
            "_model_name": "DescriptionStyleModel",
            "_view_count": null,
            "_view_module": "@jupyter-widgets/base",
            "_view_module_version": "1.2.0",
            "_view_name": "StyleView",
            "description_width": ""
          }
        },
        "1e70d4516cad4cb5b31e4f871fc39d3c": {
          "model_module": "@jupyter-widgets/controls",
          "model_name": "HBoxModel",
          "model_module_version": "1.5.0",
          "state": {
            "_dom_classes": [],
            "_model_module": "@jupyter-widgets/controls",
            "_model_module_version": "1.5.0",
            "_model_name": "HBoxModel",
            "_view_count": null,
            "_view_module": "@jupyter-widgets/controls",
            "_view_module_version": "1.5.0",
            "_view_name": "HBoxView",
            "box_style": "",
            "children": [
              "IPY_MODEL_abeec0ae8ae54df0b9a239955d44a99e",
              "IPY_MODEL_112bb0d1ca4d40c2b0988e65abf33e60",
              "IPY_MODEL_b47a0358d92b4b0b8c5a68e430ca0fe0"
            ],
            "layout": "IPY_MODEL_12f57f99145a49318869f00304805095"
          }
        },
        "abeec0ae8ae54df0b9a239955d44a99e": {
          "model_module": "@jupyter-widgets/controls",
          "model_name": "HTMLModel",
          "model_module_version": "1.5.0",
          "state": {
            "_dom_classes": [],
            "_model_module": "@jupyter-widgets/controls",
            "_model_module_version": "1.5.0",
            "_model_name": "HTMLModel",
            "_view_count": null,
            "_view_module": "@jupyter-widgets/controls",
            "_view_module_version": "1.5.0",
            "_view_name": "HTMLView",
            "description": "",
            "description_tooltip": null,
            "layout": "IPY_MODEL_e540d8232daa45f79c72079c62a6e6e7",
            "placeholder": "​",
            "style": "IPY_MODEL_dfbe6a1398974cae992718dbcce97cc0",
            "value": "100%"
          }
        },
        "112bb0d1ca4d40c2b0988e65abf33e60": {
          "model_module": "@jupyter-widgets/controls",
          "model_name": "FloatProgressModel",
          "model_module_version": "1.5.0",
          "state": {
            "_dom_classes": [],
            "_model_module": "@jupyter-widgets/controls",
            "_model_module_version": "1.5.0",
            "_model_name": "FloatProgressModel",
            "_view_count": null,
            "_view_module": "@jupyter-widgets/controls",
            "_view_module_version": "1.5.0",
            "_view_name": "ProgressView",
            "bar_style": "success",
            "description": "",
            "description_tooltip": null,
            "layout": "IPY_MODEL_1538a54db8f5478da5d21c68492ec612",
            "max": 16,
            "min": 0,
            "orientation": "horizontal",
            "style": "IPY_MODEL_66f2b749414f4dffb2801d4ebb315c52",
            "value": 16
          }
        },
        "b47a0358d92b4b0b8c5a68e430ca0fe0": {
          "model_module": "@jupyter-widgets/controls",
          "model_name": "HTMLModel",
          "model_module_version": "1.5.0",
          "state": {
            "_dom_classes": [],
            "_model_module": "@jupyter-widgets/controls",
            "_model_module_version": "1.5.0",
            "_model_name": "HTMLModel",
            "_view_count": null,
            "_view_module": "@jupyter-widgets/controls",
            "_view_module_version": "1.5.0",
            "_view_name": "HTMLView",
            "description": "",
            "description_tooltip": null,
            "layout": "IPY_MODEL_5888dbbe7958490f878bd77f9cd15c8e",
            "placeholder": "​",
            "style": "IPY_MODEL_6bf504f5ecf44bb3937e244ea67eba57",
            "value": " 16/16 [01:16&lt;00:00,  4.69s/ba]"
          }
        },
        "12f57f99145a49318869f00304805095": {
          "model_module": "@jupyter-widgets/base",
          "model_name": "LayoutModel",
          "model_module_version": "1.2.0",
          "state": {
            "_model_module": "@jupyter-widgets/base",
            "_model_module_version": "1.2.0",
            "_model_name": "LayoutModel",
            "_view_count": null,
            "_view_module": "@jupyter-widgets/base",
            "_view_module_version": "1.2.0",
            "_view_name": "LayoutView",
            "align_content": null,
            "align_items": null,
            "align_self": null,
            "border": null,
            "bottom": null,
            "display": null,
            "flex": null,
            "flex_flow": null,
            "grid_area": null,
            "grid_auto_columns": null,
            "grid_auto_flow": null,
            "grid_auto_rows": null,
            "grid_column": null,
            "grid_gap": null,
            "grid_row": null,
            "grid_template_areas": null,
            "grid_template_columns": null,
            "grid_template_rows": null,
            "height": null,
            "justify_content": null,
            "justify_items": null,
            "left": null,
            "margin": null,
            "max_height": null,
            "max_width": null,
            "min_height": null,
            "min_width": null,
            "object_fit": null,
            "object_position": null,
            "order": null,
            "overflow": null,
            "overflow_x": null,
            "overflow_y": null,
            "padding": null,
            "right": null,
            "top": null,
            "visibility": null,
            "width": null
          }
        },
        "e540d8232daa45f79c72079c62a6e6e7": {
          "model_module": "@jupyter-widgets/base",
          "model_name": "LayoutModel",
          "model_module_version": "1.2.0",
          "state": {
            "_model_module": "@jupyter-widgets/base",
            "_model_module_version": "1.2.0",
            "_model_name": "LayoutModel",
            "_view_count": null,
            "_view_module": "@jupyter-widgets/base",
            "_view_module_version": "1.2.0",
            "_view_name": "LayoutView",
            "align_content": null,
            "align_items": null,
            "align_self": null,
            "border": null,
            "bottom": null,
            "display": null,
            "flex": null,
            "flex_flow": null,
            "grid_area": null,
            "grid_auto_columns": null,
            "grid_auto_flow": null,
            "grid_auto_rows": null,
            "grid_column": null,
            "grid_gap": null,
            "grid_row": null,
            "grid_template_areas": null,
            "grid_template_columns": null,
            "grid_template_rows": null,
            "height": null,
            "justify_content": null,
            "justify_items": null,
            "left": null,
            "margin": null,
            "max_height": null,
            "max_width": null,
            "min_height": null,
            "min_width": null,
            "object_fit": null,
            "object_position": null,
            "order": null,
            "overflow": null,
            "overflow_x": null,
            "overflow_y": null,
            "padding": null,
            "right": null,
            "top": null,
            "visibility": null,
            "width": null
          }
        },
        "dfbe6a1398974cae992718dbcce97cc0": {
          "model_module": "@jupyter-widgets/controls",
          "model_name": "DescriptionStyleModel",
          "model_module_version": "1.5.0",
          "state": {
            "_model_module": "@jupyter-widgets/controls",
            "_model_module_version": "1.5.0",
            "_model_name": "DescriptionStyleModel",
            "_view_count": null,
            "_view_module": "@jupyter-widgets/base",
            "_view_module_version": "1.2.0",
            "_view_name": "StyleView",
            "description_width": ""
          }
        },
        "1538a54db8f5478da5d21c68492ec612": {
          "model_module": "@jupyter-widgets/base",
          "model_name": "LayoutModel",
          "model_module_version": "1.2.0",
          "state": {
            "_model_module": "@jupyter-widgets/base",
            "_model_module_version": "1.2.0",
            "_model_name": "LayoutModel",
            "_view_count": null,
            "_view_module": "@jupyter-widgets/base",
            "_view_module_version": "1.2.0",
            "_view_name": "LayoutView",
            "align_content": null,
            "align_items": null,
            "align_self": null,
            "border": null,
            "bottom": null,
            "display": null,
            "flex": null,
            "flex_flow": null,
            "grid_area": null,
            "grid_auto_columns": null,
            "grid_auto_flow": null,
            "grid_auto_rows": null,
            "grid_column": null,
            "grid_gap": null,
            "grid_row": null,
            "grid_template_areas": null,
            "grid_template_columns": null,
            "grid_template_rows": null,
            "height": null,
            "justify_content": null,
            "justify_items": null,
            "left": null,
            "margin": null,
            "max_height": null,
            "max_width": null,
            "min_height": null,
            "min_width": null,
            "object_fit": null,
            "object_position": null,
            "order": null,
            "overflow": null,
            "overflow_x": null,
            "overflow_y": null,
            "padding": null,
            "right": null,
            "top": null,
            "visibility": null,
            "width": null
          }
        },
        "66f2b749414f4dffb2801d4ebb315c52": {
          "model_module": "@jupyter-widgets/controls",
          "model_name": "ProgressStyleModel",
          "model_module_version": "1.5.0",
          "state": {
            "_model_module": "@jupyter-widgets/controls",
            "_model_module_version": "1.5.0",
            "_model_name": "ProgressStyleModel",
            "_view_count": null,
            "_view_module": "@jupyter-widgets/base",
            "_view_module_version": "1.2.0",
            "_view_name": "StyleView",
            "bar_color": null,
            "description_width": ""
          }
        },
        "5888dbbe7958490f878bd77f9cd15c8e": {
          "model_module": "@jupyter-widgets/base",
          "model_name": "LayoutModel",
          "model_module_version": "1.2.0",
          "state": {
            "_model_module": "@jupyter-widgets/base",
            "_model_module_version": "1.2.0",
            "_model_name": "LayoutModel",
            "_view_count": null,
            "_view_module": "@jupyter-widgets/base",
            "_view_module_version": "1.2.0",
            "_view_name": "LayoutView",
            "align_content": null,
            "align_items": null,
            "align_self": null,
            "border": null,
            "bottom": null,
            "display": null,
            "flex": null,
            "flex_flow": null,
            "grid_area": null,
            "grid_auto_columns": null,
            "grid_auto_flow": null,
            "grid_auto_rows": null,
            "grid_column": null,
            "grid_gap": null,
            "grid_row": null,
            "grid_template_areas": null,
            "grid_template_columns": null,
            "grid_template_rows": null,
            "height": null,
            "justify_content": null,
            "justify_items": null,
            "left": null,
            "margin": null,
            "max_height": null,
            "max_width": null,
            "min_height": null,
            "min_width": null,
            "object_fit": null,
            "object_position": null,
            "order": null,
            "overflow": null,
            "overflow_x": null,
            "overflow_y": null,
            "padding": null,
            "right": null,
            "top": null,
            "visibility": null,
            "width": null
          }
        },
        "6bf504f5ecf44bb3937e244ea67eba57": {
          "model_module": "@jupyter-widgets/controls",
          "model_name": "DescriptionStyleModel",
          "model_module_version": "1.5.0",
          "state": {
            "_model_module": "@jupyter-widgets/controls",
            "_model_module_version": "1.5.0",
            "_model_name": "DescriptionStyleModel",
            "_view_count": null,
            "_view_module": "@jupyter-widgets/base",
            "_view_module_version": "1.2.0",
            "_view_name": "StyleView",
            "description_width": ""
          }
        },
        "d610651c51204ca8ade51a58653ba401": {
          "model_module": "@jupyter-widgets/controls",
          "model_name": "HBoxModel",
          "model_module_version": "1.5.0",
          "state": {
            "_dom_classes": [],
            "_model_module": "@jupyter-widgets/controls",
            "_model_module_version": "1.5.0",
            "_model_name": "HBoxModel",
            "_view_count": null,
            "_view_module": "@jupyter-widgets/controls",
            "_view_module_version": "1.5.0",
            "_view_name": "HBoxView",
            "box_style": "",
            "children": [
              "IPY_MODEL_cf67e9f0a0864cb9967665b2fd54048f",
              "IPY_MODEL_ca1215cacd5a4aeeb6756113fc9e61c1",
              "IPY_MODEL_6f440b86168548b7a4480266cce594f5"
            ],
            "layout": "IPY_MODEL_3f2d5a490e0a4ee6a7b33e5d24af9a17"
          }
        },
        "cf67e9f0a0864cb9967665b2fd54048f": {
          "model_module": "@jupyter-widgets/controls",
          "model_name": "HTMLModel",
          "model_module_version": "1.5.0",
          "state": {
            "_dom_classes": [],
            "_model_module": "@jupyter-widgets/controls",
            "_model_module_version": "1.5.0",
            "_model_name": "HTMLModel",
            "_view_count": null,
            "_view_module": "@jupyter-widgets/controls",
            "_view_module_version": "1.5.0",
            "_view_name": "HTMLView",
            "description": "",
            "description_tooltip": null,
            "layout": "IPY_MODEL_ece832a9206a4913ad1a0a6a9e2c8655",
            "placeholder": "​",
            "style": "IPY_MODEL_a8e34e72a4f64f69895a6ea1c2ba4efe",
            "value": "100%"
          }
        },
        "ca1215cacd5a4aeeb6756113fc9e61c1": {
          "model_module": "@jupyter-widgets/controls",
          "model_name": "FloatProgressModel",
          "model_module_version": "1.5.0",
          "state": {
            "_dom_classes": [],
            "_model_module": "@jupyter-widgets/controls",
            "_model_module_version": "1.5.0",
            "_model_name": "FloatProgressModel",
            "_view_count": null,
            "_view_module": "@jupyter-widgets/controls",
            "_view_module_version": "1.5.0",
            "_view_name": "ProgressView",
            "bar_style": "success",
            "description": "",
            "description_tooltip": null,
            "layout": "IPY_MODEL_7c818f2daa0042e08c25b7ffe2068ddb",
            "max": 2,
            "min": 0,
            "orientation": "horizontal",
            "style": "IPY_MODEL_39fccf800f0449d389f722b9cb990912",
            "value": 2
          }
        },
        "6f440b86168548b7a4480266cce594f5": {
          "model_module": "@jupyter-widgets/controls",
          "model_name": "HTMLModel",
          "model_module_version": "1.5.0",
          "state": {
            "_dom_classes": [],
            "_model_module": "@jupyter-widgets/controls",
            "_model_module_version": "1.5.0",
            "_model_name": "HTMLModel",
            "_view_count": null,
            "_view_module": "@jupyter-widgets/controls",
            "_view_module_version": "1.5.0",
            "_view_name": "HTMLView",
            "description": "",
            "description_tooltip": null,
            "layout": "IPY_MODEL_b5eee2e10c004c5b8c11961109d217e0",
            "placeholder": "​",
            "style": "IPY_MODEL_1cdee5e672024068bc95c83573b20595",
            "value": " 2/2 [00:07&lt;00:00,  3.81s/ba]"
          }
        },
        "3f2d5a490e0a4ee6a7b33e5d24af9a17": {
          "model_module": "@jupyter-widgets/base",
          "model_name": "LayoutModel",
          "model_module_version": "1.2.0",
          "state": {
            "_model_module": "@jupyter-widgets/base",
            "_model_module_version": "1.2.0",
            "_model_name": "LayoutModel",
            "_view_count": null,
            "_view_module": "@jupyter-widgets/base",
            "_view_module_version": "1.2.0",
            "_view_name": "LayoutView",
            "align_content": null,
            "align_items": null,
            "align_self": null,
            "border": null,
            "bottom": null,
            "display": null,
            "flex": null,
            "flex_flow": null,
            "grid_area": null,
            "grid_auto_columns": null,
            "grid_auto_flow": null,
            "grid_auto_rows": null,
            "grid_column": null,
            "grid_gap": null,
            "grid_row": null,
            "grid_template_areas": null,
            "grid_template_columns": null,
            "grid_template_rows": null,
            "height": null,
            "justify_content": null,
            "justify_items": null,
            "left": null,
            "margin": null,
            "max_height": null,
            "max_width": null,
            "min_height": null,
            "min_width": null,
            "object_fit": null,
            "object_position": null,
            "order": null,
            "overflow": null,
            "overflow_x": null,
            "overflow_y": null,
            "padding": null,
            "right": null,
            "top": null,
            "visibility": null,
            "width": null
          }
        },
        "ece832a9206a4913ad1a0a6a9e2c8655": {
          "model_module": "@jupyter-widgets/base",
          "model_name": "LayoutModel",
          "model_module_version": "1.2.0",
          "state": {
            "_model_module": "@jupyter-widgets/base",
            "_model_module_version": "1.2.0",
            "_model_name": "LayoutModel",
            "_view_count": null,
            "_view_module": "@jupyter-widgets/base",
            "_view_module_version": "1.2.0",
            "_view_name": "LayoutView",
            "align_content": null,
            "align_items": null,
            "align_self": null,
            "border": null,
            "bottom": null,
            "display": null,
            "flex": null,
            "flex_flow": null,
            "grid_area": null,
            "grid_auto_columns": null,
            "grid_auto_flow": null,
            "grid_auto_rows": null,
            "grid_column": null,
            "grid_gap": null,
            "grid_row": null,
            "grid_template_areas": null,
            "grid_template_columns": null,
            "grid_template_rows": null,
            "height": null,
            "justify_content": null,
            "justify_items": null,
            "left": null,
            "margin": null,
            "max_height": null,
            "max_width": null,
            "min_height": null,
            "min_width": null,
            "object_fit": null,
            "object_position": null,
            "order": null,
            "overflow": null,
            "overflow_x": null,
            "overflow_y": null,
            "padding": null,
            "right": null,
            "top": null,
            "visibility": null,
            "width": null
          }
        },
        "a8e34e72a4f64f69895a6ea1c2ba4efe": {
          "model_module": "@jupyter-widgets/controls",
          "model_name": "DescriptionStyleModel",
          "model_module_version": "1.5.0",
          "state": {
            "_model_module": "@jupyter-widgets/controls",
            "_model_module_version": "1.5.0",
            "_model_name": "DescriptionStyleModel",
            "_view_count": null,
            "_view_module": "@jupyter-widgets/base",
            "_view_module_version": "1.2.0",
            "_view_name": "StyleView",
            "description_width": ""
          }
        },
        "7c818f2daa0042e08c25b7ffe2068ddb": {
          "model_module": "@jupyter-widgets/base",
          "model_name": "LayoutModel",
          "model_module_version": "1.2.0",
          "state": {
            "_model_module": "@jupyter-widgets/base",
            "_model_module_version": "1.2.0",
            "_model_name": "LayoutModel",
            "_view_count": null,
            "_view_module": "@jupyter-widgets/base",
            "_view_module_version": "1.2.0",
            "_view_name": "LayoutView",
            "align_content": null,
            "align_items": null,
            "align_self": null,
            "border": null,
            "bottom": null,
            "display": null,
            "flex": null,
            "flex_flow": null,
            "grid_area": null,
            "grid_auto_columns": null,
            "grid_auto_flow": null,
            "grid_auto_rows": null,
            "grid_column": null,
            "grid_gap": null,
            "grid_row": null,
            "grid_template_areas": null,
            "grid_template_columns": null,
            "grid_template_rows": null,
            "height": null,
            "justify_content": null,
            "justify_items": null,
            "left": null,
            "margin": null,
            "max_height": null,
            "max_width": null,
            "min_height": null,
            "min_width": null,
            "object_fit": null,
            "object_position": null,
            "order": null,
            "overflow": null,
            "overflow_x": null,
            "overflow_y": null,
            "padding": null,
            "right": null,
            "top": null,
            "visibility": null,
            "width": null
          }
        },
        "39fccf800f0449d389f722b9cb990912": {
          "model_module": "@jupyter-widgets/controls",
          "model_name": "ProgressStyleModel",
          "model_module_version": "1.5.0",
          "state": {
            "_model_module": "@jupyter-widgets/controls",
            "_model_module_version": "1.5.0",
            "_model_name": "ProgressStyleModel",
            "_view_count": null,
            "_view_module": "@jupyter-widgets/base",
            "_view_module_version": "1.2.0",
            "_view_name": "StyleView",
            "bar_color": null,
            "description_width": ""
          }
        },
        "b5eee2e10c004c5b8c11961109d217e0": {
          "model_module": "@jupyter-widgets/base",
          "model_name": "LayoutModel",
          "model_module_version": "1.2.0",
          "state": {
            "_model_module": "@jupyter-widgets/base",
            "_model_module_version": "1.2.0",
            "_model_name": "LayoutModel",
            "_view_count": null,
            "_view_module": "@jupyter-widgets/base",
            "_view_module_version": "1.2.0",
            "_view_name": "LayoutView",
            "align_content": null,
            "align_items": null,
            "align_self": null,
            "border": null,
            "bottom": null,
            "display": null,
            "flex": null,
            "flex_flow": null,
            "grid_area": null,
            "grid_auto_columns": null,
            "grid_auto_flow": null,
            "grid_auto_rows": null,
            "grid_column": null,
            "grid_gap": null,
            "grid_row": null,
            "grid_template_areas": null,
            "grid_template_columns": null,
            "grid_template_rows": null,
            "height": null,
            "justify_content": null,
            "justify_items": null,
            "left": null,
            "margin": null,
            "max_height": null,
            "max_width": null,
            "min_height": null,
            "min_width": null,
            "object_fit": null,
            "object_position": null,
            "order": null,
            "overflow": null,
            "overflow_x": null,
            "overflow_y": null,
            "padding": null,
            "right": null,
            "top": null,
            "visibility": null,
            "width": null
          }
        },
        "1cdee5e672024068bc95c83573b20595": {
          "model_module": "@jupyter-widgets/controls",
          "model_name": "DescriptionStyleModel",
          "model_module_version": "1.5.0",
          "state": {
            "_model_module": "@jupyter-widgets/controls",
            "_model_module_version": "1.5.0",
            "_model_name": "DescriptionStyleModel",
            "_view_count": null,
            "_view_module": "@jupyter-widgets/base",
            "_view_module_version": "1.2.0",
            "_view_name": "StyleView",
            "description_width": ""
          }
        },
        "369fd394033e4a218c96c2aae6ce4e41": {
          "model_module": "@jupyter-widgets/controls",
          "model_name": "HBoxModel",
          "model_module_version": "1.5.0",
          "state": {
            "_dom_classes": [],
            "_model_module": "@jupyter-widgets/controls",
            "_model_module_version": "1.5.0",
            "_model_name": "HBoxModel",
            "_view_count": null,
            "_view_module": "@jupyter-widgets/controls",
            "_view_module_version": "1.5.0",
            "_view_name": "HBoxView",
            "box_style": "",
            "children": [
              "IPY_MODEL_e36a76390b294c63b4cc56fb63663f35",
              "IPY_MODEL_fd792db81dad461baa3b657bc585c10d",
              "IPY_MODEL_5c6c946a558e4949a626e77d3ac7d046"
            ],
            "layout": "IPY_MODEL_f414667e6c894686838fea12653b4b94"
          }
        },
        "e36a76390b294c63b4cc56fb63663f35": {
          "model_module": "@jupyter-widgets/controls",
          "model_name": "HTMLModel",
          "model_module_version": "1.5.0",
          "state": {
            "_dom_classes": [],
            "_model_module": "@jupyter-widgets/controls",
            "_model_module_version": "1.5.0",
            "_model_name": "HTMLModel",
            "_view_count": null,
            "_view_module": "@jupyter-widgets/controls",
            "_view_module_version": "1.5.0",
            "_view_name": "HTMLView",
            "description": "",
            "description_tooltip": null,
            "layout": "IPY_MODEL_5355a198542b487b8e34a9c77ec4cb92",
            "placeholder": "​",
            "style": "IPY_MODEL_e73913fd236142ce9f8f678255f7f106",
            "value": "100%"
          }
        },
        "fd792db81dad461baa3b657bc585c10d": {
          "model_module": "@jupyter-widgets/controls",
          "model_name": "FloatProgressModel",
          "model_module_version": "1.5.0",
          "state": {
            "_dom_classes": [],
            "_model_module": "@jupyter-widgets/controls",
            "_model_module_version": "1.5.0",
            "_model_name": "FloatProgressModel",
            "_view_count": null,
            "_view_module": "@jupyter-widgets/controls",
            "_view_module_version": "1.5.0",
            "_view_name": "ProgressView",
            "bar_style": "success",
            "description": "",
            "description_tooltip": null,
            "layout": "IPY_MODEL_31f08498e60b4f7ea8af3c7c0537c4a0",
            "max": 2,
            "min": 0,
            "orientation": "horizontal",
            "style": "IPY_MODEL_4ae0a72caee04af99d75e319de832394",
            "value": 2
          }
        },
        "5c6c946a558e4949a626e77d3ac7d046": {
          "model_module": "@jupyter-widgets/controls",
          "model_name": "HTMLModel",
          "model_module_version": "1.5.0",
          "state": {
            "_dom_classes": [],
            "_model_module": "@jupyter-widgets/controls",
            "_model_module_version": "1.5.0",
            "_model_name": "HTMLModel",
            "_view_count": null,
            "_view_module": "@jupyter-widgets/controls",
            "_view_module_version": "1.5.0",
            "_view_name": "HTMLView",
            "description": "",
            "description_tooltip": null,
            "layout": "IPY_MODEL_343b16566fe746a6aef592211b72648a",
            "placeholder": "​",
            "style": "IPY_MODEL_485a4386fcfb449e87611665da859f74",
            "value": " 2/2 [00:07&lt;00:00,  3.70s/ba]"
          }
        },
        "f414667e6c894686838fea12653b4b94": {
          "model_module": "@jupyter-widgets/base",
          "model_name": "LayoutModel",
          "model_module_version": "1.2.0",
          "state": {
            "_model_module": "@jupyter-widgets/base",
            "_model_module_version": "1.2.0",
            "_model_name": "LayoutModel",
            "_view_count": null,
            "_view_module": "@jupyter-widgets/base",
            "_view_module_version": "1.2.0",
            "_view_name": "LayoutView",
            "align_content": null,
            "align_items": null,
            "align_self": null,
            "border": null,
            "bottom": null,
            "display": null,
            "flex": null,
            "flex_flow": null,
            "grid_area": null,
            "grid_auto_columns": null,
            "grid_auto_flow": null,
            "grid_auto_rows": null,
            "grid_column": null,
            "grid_gap": null,
            "grid_row": null,
            "grid_template_areas": null,
            "grid_template_columns": null,
            "grid_template_rows": null,
            "height": null,
            "justify_content": null,
            "justify_items": null,
            "left": null,
            "margin": null,
            "max_height": null,
            "max_width": null,
            "min_height": null,
            "min_width": null,
            "object_fit": null,
            "object_position": null,
            "order": null,
            "overflow": null,
            "overflow_x": null,
            "overflow_y": null,
            "padding": null,
            "right": null,
            "top": null,
            "visibility": null,
            "width": null
          }
        },
        "5355a198542b487b8e34a9c77ec4cb92": {
          "model_module": "@jupyter-widgets/base",
          "model_name": "LayoutModel",
          "model_module_version": "1.2.0",
          "state": {
            "_model_module": "@jupyter-widgets/base",
            "_model_module_version": "1.2.0",
            "_model_name": "LayoutModel",
            "_view_count": null,
            "_view_module": "@jupyter-widgets/base",
            "_view_module_version": "1.2.0",
            "_view_name": "LayoutView",
            "align_content": null,
            "align_items": null,
            "align_self": null,
            "border": null,
            "bottom": null,
            "display": null,
            "flex": null,
            "flex_flow": null,
            "grid_area": null,
            "grid_auto_columns": null,
            "grid_auto_flow": null,
            "grid_auto_rows": null,
            "grid_column": null,
            "grid_gap": null,
            "grid_row": null,
            "grid_template_areas": null,
            "grid_template_columns": null,
            "grid_template_rows": null,
            "height": null,
            "justify_content": null,
            "justify_items": null,
            "left": null,
            "margin": null,
            "max_height": null,
            "max_width": null,
            "min_height": null,
            "min_width": null,
            "object_fit": null,
            "object_position": null,
            "order": null,
            "overflow": null,
            "overflow_x": null,
            "overflow_y": null,
            "padding": null,
            "right": null,
            "top": null,
            "visibility": null,
            "width": null
          }
        },
        "e73913fd236142ce9f8f678255f7f106": {
          "model_module": "@jupyter-widgets/controls",
          "model_name": "DescriptionStyleModel",
          "model_module_version": "1.5.0",
          "state": {
            "_model_module": "@jupyter-widgets/controls",
            "_model_module_version": "1.5.0",
            "_model_name": "DescriptionStyleModel",
            "_view_count": null,
            "_view_module": "@jupyter-widgets/base",
            "_view_module_version": "1.2.0",
            "_view_name": "StyleView",
            "description_width": ""
          }
        },
        "31f08498e60b4f7ea8af3c7c0537c4a0": {
          "model_module": "@jupyter-widgets/base",
          "model_name": "LayoutModel",
          "model_module_version": "1.2.0",
          "state": {
            "_model_module": "@jupyter-widgets/base",
            "_model_module_version": "1.2.0",
            "_model_name": "LayoutModel",
            "_view_count": null,
            "_view_module": "@jupyter-widgets/base",
            "_view_module_version": "1.2.0",
            "_view_name": "LayoutView",
            "align_content": null,
            "align_items": null,
            "align_self": null,
            "border": null,
            "bottom": null,
            "display": null,
            "flex": null,
            "flex_flow": null,
            "grid_area": null,
            "grid_auto_columns": null,
            "grid_auto_flow": null,
            "grid_auto_rows": null,
            "grid_column": null,
            "grid_gap": null,
            "grid_row": null,
            "grid_template_areas": null,
            "grid_template_columns": null,
            "grid_template_rows": null,
            "height": null,
            "justify_content": null,
            "justify_items": null,
            "left": null,
            "margin": null,
            "max_height": null,
            "max_width": null,
            "min_height": null,
            "min_width": null,
            "object_fit": null,
            "object_position": null,
            "order": null,
            "overflow": null,
            "overflow_x": null,
            "overflow_y": null,
            "padding": null,
            "right": null,
            "top": null,
            "visibility": null,
            "width": null
          }
        },
        "4ae0a72caee04af99d75e319de832394": {
          "model_module": "@jupyter-widgets/controls",
          "model_name": "ProgressStyleModel",
          "model_module_version": "1.5.0",
          "state": {
            "_model_module": "@jupyter-widgets/controls",
            "_model_module_version": "1.5.0",
            "_model_name": "ProgressStyleModel",
            "_view_count": null,
            "_view_module": "@jupyter-widgets/base",
            "_view_module_version": "1.2.0",
            "_view_name": "StyleView",
            "bar_color": null,
            "description_width": ""
          }
        },
        "343b16566fe746a6aef592211b72648a": {
          "model_module": "@jupyter-widgets/base",
          "model_name": "LayoutModel",
          "model_module_version": "1.2.0",
          "state": {
            "_model_module": "@jupyter-widgets/base",
            "_model_module_version": "1.2.0",
            "_model_name": "LayoutModel",
            "_view_count": null,
            "_view_module": "@jupyter-widgets/base",
            "_view_module_version": "1.2.0",
            "_view_name": "LayoutView",
            "align_content": null,
            "align_items": null,
            "align_self": null,
            "border": null,
            "bottom": null,
            "display": null,
            "flex": null,
            "flex_flow": null,
            "grid_area": null,
            "grid_auto_columns": null,
            "grid_auto_flow": null,
            "grid_auto_rows": null,
            "grid_column": null,
            "grid_gap": null,
            "grid_row": null,
            "grid_template_areas": null,
            "grid_template_columns": null,
            "grid_template_rows": null,
            "height": null,
            "justify_content": null,
            "justify_items": null,
            "left": null,
            "margin": null,
            "max_height": null,
            "max_width": null,
            "min_height": null,
            "min_width": null,
            "object_fit": null,
            "object_position": null,
            "order": null,
            "overflow": null,
            "overflow_x": null,
            "overflow_y": null,
            "padding": null,
            "right": null,
            "top": null,
            "visibility": null,
            "width": null
          }
        },
        "485a4386fcfb449e87611665da859f74": {
          "model_module": "@jupyter-widgets/controls",
          "model_name": "DescriptionStyleModel",
          "model_module_version": "1.5.0",
          "state": {
            "_model_module": "@jupyter-widgets/controls",
            "_model_module_version": "1.5.0",
            "_model_name": "DescriptionStyleModel",
            "_view_count": null,
            "_view_module": "@jupyter-widgets/base",
            "_view_module_version": "1.2.0",
            "_view_name": "StyleView",
            "description_width": ""
          }
        },
        "cb9063b9971646e7adb925b28b6167f3": {
          "model_module": "@jupyter-widgets/controls",
          "model_name": "HBoxModel",
          "model_module_version": "1.5.0",
          "state": {
            "_dom_classes": [],
            "_model_module": "@jupyter-widgets/controls",
            "_model_module_version": "1.5.0",
            "_model_name": "HBoxModel",
            "_view_count": null,
            "_view_module": "@jupyter-widgets/controls",
            "_view_module_version": "1.5.0",
            "_view_name": "HBoxView",
            "box_style": "",
            "children": [
              "IPY_MODEL_7fad51d4378d4d84ba390040c0b48e20",
              "IPY_MODEL_d2731802742b47879ed8ddae033b8190",
              "IPY_MODEL_640157ac105d4335b9bad2ca033fc711"
            ],
            "layout": "IPY_MODEL_e5f0a505840f4012a5b208aed8bdc0bf"
          }
        },
        "7fad51d4378d4d84ba390040c0b48e20": {
          "model_module": "@jupyter-widgets/controls",
          "model_name": "HTMLModel",
          "model_module_version": "1.5.0",
          "state": {
            "_dom_classes": [],
            "_model_module": "@jupyter-widgets/controls",
            "_model_module_version": "1.5.0",
            "_model_name": "HTMLModel",
            "_view_count": null,
            "_view_module": "@jupyter-widgets/controls",
            "_view_module_version": "1.5.0",
            "_view_name": "HTMLView",
            "description": "",
            "description_tooltip": null,
            "layout": "IPY_MODEL_11e76771956d4ba6ae8a600962168de7",
            "placeholder": "​",
            "style": "IPY_MODEL_f421fda6d1d24f9eaad531fd552c2787",
            "value": "100%"
          }
        },
        "d2731802742b47879ed8ddae033b8190": {
          "model_module": "@jupyter-widgets/controls",
          "model_name": "FloatProgressModel",
          "model_module_version": "1.5.0",
          "state": {
            "_dom_classes": [],
            "_model_module": "@jupyter-widgets/controls",
            "_model_module_version": "1.5.0",
            "_model_name": "FloatProgressModel",
            "_view_count": null,
            "_view_module": "@jupyter-widgets/controls",
            "_view_module_version": "1.5.0",
            "_view_name": "ProgressView",
            "bar_style": "success",
            "description": "",
            "description_tooltip": null,
            "layout": "IPY_MODEL_a0aed2aa912a4994a21642d67d507bbf",
            "max": 125,
            "min": 0,
            "orientation": "horizontal",
            "style": "IPY_MODEL_12c6842e16f14219bd117c5b28ffc1ab",
            "value": 125
          }
        },
        "640157ac105d4335b9bad2ca033fc711": {
          "model_module": "@jupyter-widgets/controls",
          "model_name": "HTMLModel",
          "model_module_version": "1.5.0",
          "state": {
            "_dom_classes": [],
            "_model_module": "@jupyter-widgets/controls",
            "_model_module_version": "1.5.0",
            "_model_name": "HTMLModel",
            "_view_count": null,
            "_view_module": "@jupyter-widgets/controls",
            "_view_module_version": "1.5.0",
            "_view_name": "HTMLView",
            "description": "",
            "description_tooltip": null,
            "layout": "IPY_MODEL_0ea635043b0e466bb13164e9c8af5ca2",
            "placeholder": "​",
            "style": "IPY_MODEL_200f4e3298de414ebb9aaa544a32afd9",
            "value": " 125/125 [00:09&lt;00:00, 13.26ba/s]"
          }
        },
        "e5f0a505840f4012a5b208aed8bdc0bf": {
          "model_module": "@jupyter-widgets/base",
          "model_name": "LayoutModel",
          "model_module_version": "1.2.0",
          "state": {
            "_model_module": "@jupyter-widgets/base",
            "_model_module_version": "1.2.0",
            "_model_name": "LayoutModel",
            "_view_count": null,
            "_view_module": "@jupyter-widgets/base",
            "_view_module_version": "1.2.0",
            "_view_name": "LayoutView",
            "align_content": null,
            "align_items": null,
            "align_self": null,
            "border": null,
            "bottom": null,
            "display": null,
            "flex": null,
            "flex_flow": null,
            "grid_area": null,
            "grid_auto_columns": null,
            "grid_auto_flow": null,
            "grid_auto_rows": null,
            "grid_column": null,
            "grid_gap": null,
            "grid_row": null,
            "grid_template_areas": null,
            "grid_template_columns": null,
            "grid_template_rows": null,
            "height": null,
            "justify_content": null,
            "justify_items": null,
            "left": null,
            "margin": null,
            "max_height": null,
            "max_width": null,
            "min_height": null,
            "min_width": null,
            "object_fit": null,
            "object_position": null,
            "order": null,
            "overflow": null,
            "overflow_x": null,
            "overflow_y": null,
            "padding": null,
            "right": null,
            "top": null,
            "visibility": null,
            "width": null
          }
        },
        "11e76771956d4ba6ae8a600962168de7": {
          "model_module": "@jupyter-widgets/base",
          "model_name": "LayoutModel",
          "model_module_version": "1.2.0",
          "state": {
            "_model_module": "@jupyter-widgets/base",
            "_model_module_version": "1.2.0",
            "_model_name": "LayoutModel",
            "_view_count": null,
            "_view_module": "@jupyter-widgets/base",
            "_view_module_version": "1.2.0",
            "_view_name": "LayoutView",
            "align_content": null,
            "align_items": null,
            "align_self": null,
            "border": null,
            "bottom": null,
            "display": null,
            "flex": null,
            "flex_flow": null,
            "grid_area": null,
            "grid_auto_columns": null,
            "grid_auto_flow": null,
            "grid_auto_rows": null,
            "grid_column": null,
            "grid_gap": null,
            "grid_row": null,
            "grid_template_areas": null,
            "grid_template_columns": null,
            "grid_template_rows": null,
            "height": null,
            "justify_content": null,
            "justify_items": null,
            "left": null,
            "margin": null,
            "max_height": null,
            "max_width": null,
            "min_height": null,
            "min_width": null,
            "object_fit": null,
            "object_position": null,
            "order": null,
            "overflow": null,
            "overflow_x": null,
            "overflow_y": null,
            "padding": null,
            "right": null,
            "top": null,
            "visibility": null,
            "width": null
          }
        },
        "f421fda6d1d24f9eaad531fd552c2787": {
          "model_module": "@jupyter-widgets/controls",
          "model_name": "DescriptionStyleModel",
          "model_module_version": "1.5.0",
          "state": {
            "_model_module": "@jupyter-widgets/controls",
            "_model_module_version": "1.5.0",
            "_model_name": "DescriptionStyleModel",
            "_view_count": null,
            "_view_module": "@jupyter-widgets/base",
            "_view_module_version": "1.2.0",
            "_view_name": "StyleView",
            "description_width": ""
          }
        },
        "a0aed2aa912a4994a21642d67d507bbf": {
          "model_module": "@jupyter-widgets/base",
          "model_name": "LayoutModel",
          "model_module_version": "1.2.0",
          "state": {
            "_model_module": "@jupyter-widgets/base",
            "_model_module_version": "1.2.0",
            "_model_name": "LayoutModel",
            "_view_count": null,
            "_view_module": "@jupyter-widgets/base",
            "_view_module_version": "1.2.0",
            "_view_name": "LayoutView",
            "align_content": null,
            "align_items": null,
            "align_self": null,
            "border": null,
            "bottom": null,
            "display": null,
            "flex": null,
            "flex_flow": null,
            "grid_area": null,
            "grid_auto_columns": null,
            "grid_auto_flow": null,
            "grid_auto_rows": null,
            "grid_column": null,
            "grid_gap": null,
            "grid_row": null,
            "grid_template_areas": null,
            "grid_template_columns": null,
            "grid_template_rows": null,
            "height": null,
            "justify_content": null,
            "justify_items": null,
            "left": null,
            "margin": null,
            "max_height": null,
            "max_width": null,
            "min_height": null,
            "min_width": null,
            "object_fit": null,
            "object_position": null,
            "order": null,
            "overflow": null,
            "overflow_x": null,
            "overflow_y": null,
            "padding": null,
            "right": null,
            "top": null,
            "visibility": null,
            "width": null
          }
        },
        "12c6842e16f14219bd117c5b28ffc1ab": {
          "model_module": "@jupyter-widgets/controls",
          "model_name": "ProgressStyleModel",
          "model_module_version": "1.5.0",
          "state": {
            "_model_module": "@jupyter-widgets/controls",
            "_model_module_version": "1.5.0",
            "_model_name": "ProgressStyleModel",
            "_view_count": null,
            "_view_module": "@jupyter-widgets/base",
            "_view_module_version": "1.2.0",
            "_view_name": "StyleView",
            "bar_color": null,
            "description_width": ""
          }
        },
        "0ea635043b0e466bb13164e9c8af5ca2": {
          "model_module": "@jupyter-widgets/base",
          "model_name": "LayoutModel",
          "model_module_version": "1.2.0",
          "state": {
            "_model_module": "@jupyter-widgets/base",
            "_model_module_version": "1.2.0",
            "_model_name": "LayoutModel",
            "_view_count": null,
            "_view_module": "@jupyter-widgets/base",
            "_view_module_version": "1.2.0",
            "_view_name": "LayoutView",
            "align_content": null,
            "align_items": null,
            "align_self": null,
            "border": null,
            "bottom": null,
            "display": null,
            "flex": null,
            "flex_flow": null,
            "grid_area": null,
            "grid_auto_columns": null,
            "grid_auto_flow": null,
            "grid_auto_rows": null,
            "grid_column": null,
            "grid_gap": null,
            "grid_row": null,
            "grid_template_areas": null,
            "grid_template_columns": null,
            "grid_template_rows": null,
            "height": null,
            "justify_content": null,
            "justify_items": null,
            "left": null,
            "margin": null,
            "max_height": null,
            "max_width": null,
            "min_height": null,
            "min_width": null,
            "object_fit": null,
            "object_position": null,
            "order": null,
            "overflow": null,
            "overflow_x": null,
            "overflow_y": null,
            "padding": null,
            "right": null,
            "top": null,
            "visibility": null,
            "width": null
          }
        },
        "200f4e3298de414ebb9aaa544a32afd9": {
          "model_module": "@jupyter-widgets/controls",
          "model_name": "DescriptionStyleModel",
          "model_module_version": "1.5.0",
          "state": {
            "_model_module": "@jupyter-widgets/controls",
            "_model_module_version": "1.5.0",
            "_model_name": "DescriptionStyleModel",
            "_view_count": null,
            "_view_module": "@jupyter-widgets/base",
            "_view_module_version": "1.2.0",
            "_view_name": "StyleView",
            "description_width": ""
          }
        }
      }
    }
  },
  "cells": [
    {
      "cell_type": "markdown",
      "metadata": {
        "id": "view-in-github",
        "colab_type": "text"
      },
      "source": [
        "<a href=\"https://colab.research.google.com/github/sachinkun21/HuggingFace_lessons/blob/main/Chapter_2_Text_Classification.ipynb\" target=\"_parent\"><img src=\"https://colab.research.google.com/assets/colab-badge.svg\" alt=\"Open In Colab\"/></a>"
      ]
    },
    {
      "cell_type": "markdown",
      "source": [
        "# Introduction to Text Classification:\n",
        "Text classification is one of the most common tasks in NLP; it can be used for a broad range of applications, such as tagging customer feedback into categories or routing support tickets according to their language. Chances are that your email program’s spam filter is using text classification to protect your inbox from a deluge of unwanted junk!\n",
        "\n",
        "A common type of text classification is sentiment analysis, which aims to identify the polarity of a given text.\n",
        "\n",
        "In this notebook, we’ll tackle this task using a variant of BERT called DistilBERT.1 The main advantage of this model is that it achieves comparable performance to BERT, while being significantly smaller and more efficient. This enables us to train a classifier in a few minutes, and if you want to train a larger BERT model you can simply change the checkpoint of the pretrained model. A checkpoint corresponds to the set of weights that are loaded into a given transformer architecture.\n",
        "\n",
        "This will also be our first encounter with three of the core libraries from the Hugging Face ecosystem: nlpt_pin01 Datasets, nlpt_pin01 Tokenizers, and nlpt_pin01 Transformers. As shown in Figure 2-2, these libraries will allow us to quickly go from raw text to a fine-tuned model that can be used for inference on new tweets. So, in the spirit of Optimus Prime, let’s dive in, “transform, and roll out!\"\n",
        "\n",
        "![image.png](data:image/png;base64,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)\n",
        "\n",
        "A typical pipeline for training transformer models with the Datasets, Tokenizers, and Transformers libraries in English Twitter messages. Unlike most sentiment analysis datasets that involve just “positive” and “negative” polarities, this dataset contains six basic emotions: anger, disgust, fear, joy, sadness, and surprise. Given a tweet, our task will be to train a model that can classify it into one of these emotions.\n",
        "\n",
        "Let's start by installing necessary packages:"
      ],
      "metadata": {
        "id": "ofGEHP4wuQWO"
      }
    },
    {
      "cell_type": "code",
      "execution_count": 1,
      "metadata": {
        "colab": {
          "base_uri": "https://localhost:8080/"
        },
        "id": "VBrseI2nBRzF",
        "outputId": "11d811a8-c740-4c97-af78-d214aef36421"
      },
      "outputs": [
        {
          "output_type": "stream",
          "name": "stdout",
          "text": [
            "Requirement already satisfied: transformers in /usr/local/lib/python3.7/dist-packages (4.18.0)\n",
            "Requirement already satisfied: pyyaml>=5.1 in /usr/local/lib/python3.7/dist-packages (from transformers) (6.0)\n",
            "Requirement already satisfied: huggingface-hub<1.0,>=0.1.0 in /usr/local/lib/python3.7/dist-packages (from transformers) (0.5.1)\n",
            "Requirement already satisfied: requests in /usr/local/lib/python3.7/dist-packages (from transformers) (2.23.0)\n",
            "Requirement already satisfied: filelock in /usr/local/lib/python3.7/dist-packages (from transformers) (3.6.0)\n",
            "Requirement already satisfied: tqdm>=4.27 in /usr/local/lib/python3.7/dist-packages (from transformers) (4.64.0)\n",
            "Requirement already satisfied: numpy>=1.17 in /usr/local/lib/python3.7/dist-packages (from transformers) (1.21.6)\n",
            "Requirement already satisfied: packaging>=20.0 in /usr/local/lib/python3.7/dist-packages (from transformers) (21.3)\n",
            "Requirement already satisfied: sacremoses in /usr/local/lib/python3.7/dist-packages (from transformers) (0.0.49)\n",
            "Requirement already satisfied: importlib-metadata in /usr/local/lib/python3.7/dist-packages (from transformers) (4.11.3)\n",
            "Requirement already satisfied: tokenizers!=0.11.3,<0.13,>=0.11.1 in /usr/local/lib/python3.7/dist-packages (from transformers) (0.12.1)\n",
            "Requirement already satisfied: regex!=2019.12.17 in /usr/local/lib/python3.7/dist-packages (from transformers) (2019.12.20)\n",
            "Requirement already satisfied: typing-extensions>=3.7.4.3 in /usr/local/lib/python3.7/dist-packages (from huggingface-hub<1.0,>=0.1.0->transformers) (4.2.0)\n",
            "Requirement already satisfied: pyparsing!=3.0.5,>=2.0.2 in /usr/local/lib/python3.7/dist-packages (from packaging>=20.0->transformers) (3.0.8)\n",
            "Requirement already satisfied: zipp>=0.5 in /usr/local/lib/python3.7/dist-packages (from importlib-metadata->transformers) (3.8.0)\n",
            "Requirement already satisfied: certifi>=2017.4.17 in /usr/local/lib/python3.7/dist-packages (from requests->transformers) (2021.10.8)\n",
            "Requirement already satisfied: idna<3,>=2.5 in /usr/local/lib/python3.7/dist-packages (from requests->transformers) (2.10)\n",
            "Requirement already satisfied: urllib3!=1.25.0,!=1.25.1,<1.26,>=1.21.1 in /usr/local/lib/python3.7/dist-packages (from requests->transformers) (1.25.11)\n",
            "Requirement already satisfied: chardet<4,>=3.0.2 in /usr/local/lib/python3.7/dist-packages (from requests->transformers) (3.0.4)\n",
            "Requirement already satisfied: six in /usr/local/lib/python3.7/dist-packages (from sacremoses->transformers) (1.15.0)\n",
            "Requirement already satisfied: click in /usr/local/lib/python3.7/dist-packages (from sacremoses->transformers) (7.1.2)\n",
            "Requirement already satisfied: joblib in /usr/local/lib/python3.7/dist-packages (from sacremoses->transformers) (1.1.0)\n",
            "Requirement already satisfied: datasets in /usr/local/lib/python3.7/dist-packages (2.1.0)\n",
            "Requirement already satisfied: requests>=2.19.0 in /usr/local/lib/python3.7/dist-packages (from datasets) (2.23.0)\n",
            "Requirement already satisfied: tqdm>=4.62.1 in /usr/local/lib/python3.7/dist-packages (from datasets) (4.64.0)\n",
            "Requirement already satisfied: multiprocess in /usr/local/lib/python3.7/dist-packages (from datasets) (0.70.12.2)\n",
            "Requirement already satisfied: pandas in /usr/local/lib/python3.7/dist-packages (from datasets) (1.3.5)\n",
            "Requirement already satisfied: fsspec[http]>=2021.05.0 in /usr/local/lib/python3.7/dist-packages (from datasets) (2022.3.0)\n",
            "Requirement already satisfied: aiohttp in /usr/local/lib/python3.7/dist-packages (from datasets) (3.8.1)\n",
            "Requirement already satisfied: responses<0.19 in /usr/local/lib/python3.7/dist-packages (from datasets) (0.18.0)\n",
            "Requirement already satisfied: huggingface-hub<1.0.0,>=0.1.0 in /usr/local/lib/python3.7/dist-packages (from datasets) (0.5.1)\n",
            "Requirement already satisfied: numpy>=1.17 in /usr/local/lib/python3.7/dist-packages (from datasets) (1.21.6)\n",
            "Requirement already satisfied: packaging in /usr/local/lib/python3.7/dist-packages (from datasets) (21.3)\n",
            "Requirement already satisfied: importlib-metadata in /usr/local/lib/python3.7/dist-packages (from datasets) (4.11.3)\n",
            "Requirement already satisfied: pyarrow>=5.0.0 in /usr/local/lib/python3.7/dist-packages (from datasets) (6.0.1)\n",
            "Requirement already satisfied: xxhash in /usr/local/lib/python3.7/dist-packages (from datasets) (3.0.0)\n",
            "Requirement already satisfied: dill in /usr/local/lib/python3.7/dist-packages (from datasets) (0.3.4)\n",
            "Requirement already satisfied: pyyaml in /usr/local/lib/python3.7/dist-packages (from huggingface-hub<1.0.0,>=0.1.0->datasets) (6.0)\n",
            "Requirement already satisfied: typing-extensions>=3.7.4.3 in /usr/local/lib/python3.7/dist-packages (from huggingface-hub<1.0.0,>=0.1.0->datasets) (4.2.0)\n",
            "Requirement already satisfied: filelock in /usr/local/lib/python3.7/dist-packages (from huggingface-hub<1.0.0,>=0.1.0->datasets) (3.6.0)\n",
            "Requirement already satisfied: pyparsing!=3.0.5,>=2.0.2 in /usr/local/lib/python3.7/dist-packages (from packaging->datasets) (3.0.8)\n",
            "Requirement already satisfied: urllib3!=1.25.0,!=1.25.1,<1.26,>=1.21.1 in /usr/local/lib/python3.7/dist-packages (from requests>=2.19.0->datasets) (1.25.11)\n",
            "Requirement already satisfied: certifi>=2017.4.17 in /usr/local/lib/python3.7/dist-packages (from requests>=2.19.0->datasets) (2021.10.8)\n",
            "Requirement already satisfied: idna<3,>=2.5 in /usr/local/lib/python3.7/dist-packages (from requests>=2.19.0->datasets) (2.10)\n",
            "Requirement already satisfied: chardet<4,>=3.0.2 in /usr/local/lib/python3.7/dist-packages (from requests>=2.19.0->datasets) (3.0.4)\n",
            "Requirement already satisfied: yarl<2.0,>=1.0 in /usr/local/lib/python3.7/dist-packages (from aiohttp->datasets) (1.7.2)\n",
            "Requirement already satisfied: charset-normalizer<3.0,>=2.0 in /usr/local/lib/python3.7/dist-packages (from aiohttp->datasets) (2.0.12)\n",
            "Requirement already satisfied: attrs>=17.3.0 in /usr/local/lib/python3.7/dist-packages (from aiohttp->datasets) (21.4.0)\n",
            "Requirement already satisfied: aiosignal>=1.1.2 in /usr/local/lib/python3.7/dist-packages (from aiohttp->datasets) (1.2.0)\n",
            "Requirement already satisfied: frozenlist>=1.1.1 in /usr/local/lib/python3.7/dist-packages (from aiohttp->datasets) (1.3.0)\n",
            "Requirement already satisfied: multidict<7.0,>=4.5 in /usr/local/lib/python3.7/dist-packages (from aiohttp->datasets) (6.0.2)\n",
            "Requirement already satisfied: asynctest==0.13.0 in /usr/local/lib/python3.7/dist-packages (from aiohttp->datasets) (0.13.0)\n",
            "Requirement already satisfied: async-timeout<5.0,>=4.0.0a3 in /usr/local/lib/python3.7/dist-packages (from aiohttp->datasets) (4.0.2)\n",
            "Requirement already satisfied: zipp>=0.5 in /usr/local/lib/python3.7/dist-packages (from importlib-metadata->datasets) (3.8.0)\n",
            "Requirement already satisfied: pytz>=2017.3 in /usr/local/lib/python3.7/dist-packages (from pandas->datasets) (2022.1)\n",
            "Requirement already satisfied: python-dateutil>=2.7.3 in /usr/local/lib/python3.7/dist-packages (from pandas->datasets) (2.8.2)\n",
            "Requirement already satisfied: six>=1.5 in /usr/local/lib/python3.7/dist-packages (from python-dateutil>=2.7.3->pandas->datasets) (1.15.0)\n",
            "Requirement already satisfied: umap-learn in /usr/local/lib/python3.7/dist-packages (0.5.3)\n",
            "Requirement already satisfied: pynndescent>=0.5 in /usr/local/lib/python3.7/dist-packages (from umap-learn) (0.5.6)\n",
            "Requirement already satisfied: scipy>=1.0 in /usr/local/lib/python3.7/dist-packages (from umap-learn) (1.4.1)\n",
            "Requirement already satisfied: tqdm in /usr/local/lib/python3.7/dist-packages (from umap-learn) (4.64.0)\n",
            "Requirement already satisfied: numpy>=1.17 in /usr/local/lib/python3.7/dist-packages (from umap-learn) (1.21.6)\n",
            "Requirement already satisfied: numba>=0.49 in /usr/local/lib/python3.7/dist-packages (from umap-learn) (0.51.2)\n",
            "Requirement already satisfied: scikit-learn>=0.22 in /usr/local/lib/python3.7/dist-packages (from umap-learn) (1.0.2)\n",
            "Requirement already satisfied: setuptools in /usr/local/lib/python3.7/dist-packages (from numba>=0.49->umap-learn) (57.4.0)\n",
            "Requirement already satisfied: llvmlite<0.35,>=0.34.0.dev0 in /usr/local/lib/python3.7/dist-packages (from numba>=0.49->umap-learn) (0.34.0)\n",
            "Requirement already satisfied: joblib>=0.11 in /usr/local/lib/python3.7/dist-packages (from pynndescent>=0.5->umap-learn) (1.1.0)\n",
            "Requirement already satisfied: threadpoolctl>=2.0.0 in /usr/local/lib/python3.7/dist-packages (from scikit-learn>=0.22->umap-learn) (3.1.0)\n"
          ]
        }
      ],
      "source": [
        "!pip install transformers\n",
        "!pip install datasets\n",
        "!pip install umap-learn"
      ]
    },
    {
      "cell_type": "markdown",
      "source": [
        "### The Dataset:\n",
        "\n",
        "\n",
        "To build our emotion detector we’ll use a great dataset from an article that explored how emotions are represented\n",
        "\n",
        "We will use Datasets to download the data from the Hugging Face Hub. The Datasets is based on Apache Arrow, which defines a typed columnar format that is more memory efficient than native Python. We can use the list_datasets() function to see what datasets are available on the Hub"
      ],
      "metadata": {
        "id": "szQ2BACeCZg5"
      }
    },
    {
      "cell_type": "code",
      "source": [
        "from datasets import list_datasets\n",
        "\n",
        "print(len(list_datasets()))\n",
        "print(list_datasets()[:5])"
      ],
      "metadata": {
        "colab": {
          "base_uri": "https://localhost:8080/"
        },
        "id": "LEoJNsdbCaHp",
        "outputId": "387a0318-0ae1-4f73-e4ce-c87ecb108673"
      },
      "execution_count": 2,
      "outputs": [
        {
          "output_type": "stream",
          "name": "stdout",
          "text": [
            "4450\n",
            "['assin', 'ar_res_reviews', 'ambig_qa', 'bianet', 'ag_news']\n"
          ]
        }
      ]
    },
    {
      "cell_type": "markdown",
      "source": [
        "We see that each dataset is given a name, so let’s load the emotion dataset with the load_dataset() function:"
      ],
      "metadata": {
        "id": "xRAWoXHGvS50"
      }
    },
    {
      "cell_type": "code",
      "source": [
        "from datasets import load_dataset\n",
        "\n",
        "emotions = load_dataset('emotion')"
      ],
      "metadata": {
        "colab": {
          "base_uri": "https://localhost:8080/",
          "height": 85,
          "referenced_widgets": [
            "7e23f2db45444343b7262f8cc3a48c97",
            "edd4c357a52e45dca7097b7def1d8ccf",
            "cfd5f604b4694206b390b32fd4a465d4",
            "fef34d4f22aa42c38a145b1b36dd40b5",
            "991ed6bd87f1473285af3835b588c665",
            "2a3bb0c03a114d6fa8a93ade027c8b0e",
            "8a6351d3dcb148b784c8b7777e493a14",
            "e891d18bd22342c2baffdb7831dc43e9",
            "b763f2b38eda4bcebea154cb141eab58",
            "f597cb7197b44aef892ebb6e1215f9d7",
            "19be872a70e3471595d463347e51ce1e"
          ]
        },
        "id": "WPiudWvpCA78",
        "outputId": "9d3f875e-1f45-46ae-9867-8afe5ddc497e"
      },
      "execution_count": 3,
      "outputs": [
        {
          "output_type": "stream",
          "name": "stderr",
          "text": [
            "Using custom data configuration default\n",
            "Reusing dataset emotion (/root/.cache/huggingface/datasets/emotion/default/0.0.0/348f63ca8e27b3713b6c04d723efe6d824a56fb3d1449794716c0f0296072705)\n"
          ]
        },
        {
          "output_type": "display_data",
          "data": {
            "text/plain": [
              "  0%|          | 0/3 [00:00<?, ?it/s]"
            ],
            "application/vnd.jupyter.widget-view+json": {
              "version_major": 2,
              "version_minor": 0,
              "model_id": "7e23f2db45444343b7262f8cc3a48c97"
            }
          },
          "metadata": {}
        }
      ]
    },
    {
      "cell_type": "code",
      "source": [
        "print(emotions)"
      ],
      "metadata": {
        "colab": {
          "base_uri": "https://localhost:8080/"
        },
        "id": "uHfCCU4zCNG_",
        "outputId": "40a0c07b-54d9-4eee-cda4-9420db62d791"
      },
      "execution_count": 4,
      "outputs": [
        {
          "output_type": "stream",
          "name": "stdout",
          "text": [
            "DatasetDict({\n",
            "    train: Dataset({\n",
            "        features: ['text', 'label'],\n",
            "        num_rows: 16000\n",
            "    })\n",
            "    validation: Dataset({\n",
            "        features: ['text', 'label'],\n",
            "        num_rows: 2000\n",
            "    })\n",
            "    test: Dataset({\n",
            "        features: ['text', 'label'],\n",
            "        num_rows: 2000\n",
            "    })\n",
            "})\n"
          ]
        }
      ]
    },
    {
      "cell_type": "markdown",
      "source": [
        "Let's access a few Examples:"
      ],
      "metadata": {
        "id": "MOggluJ3vW61"
      }
    },
    {
      "cell_type": "code",
      "source": [
        "train_ds = emotions['train']\n",
        "print(train_ds[0:5])\n",
        "print(train_ds.features)"
      ],
      "metadata": {
        "colab": {
          "base_uri": "https://localhost:8080/"
        },
        "id": "4FyWDscVCsal",
        "outputId": "83b28c36-9c07-494c-be80-2a24f0160e94"
      },
      "execution_count": 5,
      "outputs": [
        {
          "output_type": "stream",
          "name": "stdout",
          "text": [
            "{'text': ['i didnt feel humiliated', 'i can go from feeling so hopeless to so damned hopeful just from being around someone who cares and is awake', 'im grabbing a minute to post i feel greedy wrong', 'i am ever feeling nostalgic about the fireplace i will know that it is still on the property', 'i am feeling grouchy'], 'label': [0, 0, 3, 2, 3]}\n",
            "{'text': Value(dtype='string', id=None), 'label': ClassLabel(num_classes=6, names=['sadness', 'joy', 'love', 'anger', 'fear', 'surprise'], id=None)}\n"
          ]
        }
      ]
    },
    {
      "cell_type": "markdown",
      "source": [
        "We can convert our dataset object to a pandas DataFrame. To enable the conversion, Datasets provides a set_format() method that allows us to change the output format of the Dataset"
      ],
      "metadata": {
        "id": "f5tUSUd0wgkB"
      }
    },
    {
      "cell_type": "code",
      "source": [
        "# set format to pandas\n",
        "import pandas as pd\n",
        "\n",
        "emotions.set_format('pandas')\n",
        "df = emotions['train'][:]\n",
        "df.head()"
      ],
      "metadata": {
        "colab": {
          "base_uri": "https://localhost:8080/",
          "height": 206
        },
        "id": "D7JttaO-C0SV",
        "outputId": "931bc3f9-a35e-4a8d-81d8-f47bf517994a"
      },
      "execution_count": 6,
      "outputs": [
        {
          "output_type": "execute_result",
          "data": {
            "text/plain": [
              "                                                text  label\n",
              "0                            i didnt feel humiliated      0\n",
              "1  i can go from feeling so hopeless to so damned...      0\n",
              "2   im grabbing a minute to post i feel greedy wrong      3\n",
              "3  i am ever feeling nostalgic about the fireplac...      2\n",
              "4                               i am feeling grouchy      3"
            ],
            "text/html": [
              "\n",
              "  <div id=\"df-affc4065-307f-41ed-b7ae-770848fb840b\">\n",
              "    <div class=\"colab-df-container\">\n",
              "      <div>\n",
              "<style scoped>\n",
              "    .dataframe tbody tr th:only-of-type {\n",
              "        vertical-align: middle;\n",
              "    }\n",
              "\n",
              "    .dataframe tbody tr th {\n",
              "        vertical-align: top;\n",
              "    }\n",
              "\n",
              "    .dataframe thead th {\n",
              "        text-align: right;\n",
              "    }\n",
              "</style>\n",
              "<table border=\"1\" class=\"dataframe\">\n",
              "  <thead>\n",
              "    <tr style=\"text-align: right;\">\n",
              "      <th></th>\n",
              "      <th>text</th>\n",
              "      <th>label</th>\n",
              "    </tr>\n",
              "  </thead>\n",
              "  <tbody>\n",
              "    <tr>\n",
              "      <th>0</th>\n",
              "      <td>i didnt feel humiliated</td>\n",
              "      <td>0</td>\n",
              "    </tr>\n",
              "    <tr>\n",
              "      <th>1</th>\n",
              "      <td>i can go from feeling so hopeless to so damned...</td>\n",
              "      <td>0</td>\n",
              "    </tr>\n",
              "    <tr>\n",
              "      <th>2</th>\n",
              "      <td>im grabbing a minute to post i feel greedy wrong</td>\n",
              "      <td>3</td>\n",
              "    </tr>\n",
              "    <tr>\n",
              "      <th>3</th>\n",
              "      <td>i am ever feeling nostalgic about the fireplac...</td>\n",
              "      <td>2</td>\n",
              "    </tr>\n",
              "    <tr>\n",
              "      <th>4</th>\n",
              "      <td>i am feeling grouchy</td>\n",
              "      <td>3</td>\n",
              "    </tr>\n",
              "  </tbody>\n",
              "</table>\n",
              "</div>\n",
              "      <button class=\"colab-df-convert\" onclick=\"convertToInteractive('df-affc4065-307f-41ed-b7ae-770848fb840b')\"\n",
              "              title=\"Convert this dataframe to an interactive table.\"\n",
              "              style=\"display:none;\">\n",
              "        \n",
              "  <svg xmlns=\"http://www.w3.org/2000/svg\" height=\"24px\"viewBox=\"0 0 24 24\"\n",
              "       width=\"24px\">\n",
              "    <path d=\"M0 0h24v24H0V0z\" fill=\"none\"/>\n",
              "    <path d=\"M18.56 5.44l.94 2.06.94-2.06 2.06-.94-2.06-.94-.94-2.06-.94 2.06-2.06.94zm-11 1L8.5 8.5l.94-2.06 2.06-.94-2.06-.94L8.5 2.5l-.94 2.06-2.06.94zm10 10l.94 2.06.94-2.06 2.06-.94-2.06-.94-.94-2.06-.94 2.06-2.06.94z\"/><path d=\"M17.41 7.96l-1.37-1.37c-.4-.4-.92-.59-1.43-.59-.52 0-1.04.2-1.43.59L10.3 9.45l-7.72 7.72c-.78.78-.78 2.05 0 2.83L4 21.41c.39.39.9.59 1.41.59.51 0 1.02-.2 1.41-.59l7.78-7.78 2.81-2.81c.8-.78.8-2.07 0-2.86zM5.41 20L4 18.59l7.72-7.72 1.47 1.35L5.41 20z\"/>\n",
              "  </svg>\n",
              "      </button>\n",
              "      \n",
              "  <style>\n",
              "    .colab-df-container {\n",
              "      display:flex;\n",
              "      flex-wrap:wrap;\n",
              "      gap: 12px;\n",
              "    }\n",
              "\n",
              "    .colab-df-convert {\n",
              "      background-color: #E8F0FE;\n",
              "      border: none;\n",
              "      border-radius: 50%;\n",
              "      cursor: pointer;\n",
              "      display: none;\n",
              "      fill: #1967D2;\n",
              "      height: 32px;\n",
              "      padding: 0 0 0 0;\n",
              "      width: 32px;\n",
              "    }\n",
              "\n",
              "    .colab-df-convert:hover {\n",
              "      background-color: #E2EBFA;\n",
              "      box-shadow: 0px 1px 2px rgba(60, 64, 67, 0.3), 0px 1px 3px 1px rgba(60, 64, 67, 0.15);\n",
              "      fill: #174EA6;\n",
              "    }\n",
              "\n",
              "    [theme=dark] .colab-df-convert {\n",
              "      background-color: #3B4455;\n",
              "      fill: #D2E3FC;\n",
              "    }\n",
              "\n",
              "    [theme=dark] .colab-df-convert:hover {\n",
              "      background-color: #434B5C;\n",
              "      box-shadow: 0px 1px 3px 1px rgba(0, 0, 0, 0.15);\n",
              "      filter: drop-shadow(0px 1px 2px rgba(0, 0, 0, 0.3));\n",
              "      fill: #FFFFFF;\n",
              "    }\n",
              "  </style>\n",
              "\n",
              "      <script>\n",
              "        const buttonEl =\n",
              "          document.querySelector('#df-affc4065-307f-41ed-b7ae-770848fb840b button.colab-df-convert');\n",
              "        buttonEl.style.display =\n",
              "          google.colab.kernel.accessAllowed ? 'block' : 'none';\n",
              "\n",
              "        async function convertToInteractive(key) {\n",
              "          const element = document.querySelector('#df-affc4065-307f-41ed-b7ae-770848fb840b');\n",
              "          const dataTable =\n",
              "            await google.colab.kernel.invokeFunction('convertToInteractive',\n",
              "                                                     [key], {});\n",
              "          if (!dataTable) return;\n",
              "\n",
              "          const docLinkHtml = 'Like what you see? Visit the ' +\n",
              "            '<a target=\"_blank\" href=https://colab.research.google.com/notebooks/data_table.ipynb>data table notebook</a>'\n",
              "            + ' to learn more about interactive tables.';\n",
              "          element.innerHTML = '';\n",
              "          dataTable['output_type'] = 'display_data';\n",
              "          await google.colab.output.renderOutput(dataTable, element);\n",
              "          const docLink = document.createElement('div');\n",
              "          docLink.innerHTML = docLinkHtml;\n",
              "          element.appendChild(docLink);\n",
              "        }\n",
              "      </script>\n",
              "    </div>\n",
              "  </div>\n",
              "  "
            ]
          },
          "metadata": {},
          "execution_count": 6
        }
      ]
    },
    {
      "cell_type": "markdown",
      "source": [
        "As you can see, the column headers have been preserved and the first few rows match our previous views of the data. However, the labels are represented as integers, so let’s use the int2str() method of the label feature to create a new column in our DataFrame with the corresponding label names:"
      ],
      "metadata": {
        "id": "chbDk_RbAASv"
      }
    },
    {
      "cell_type": "code",
      "source": [
        "# apply labels\n",
        "\n",
        "def label_int2str(int_label):\n",
        "  return emotions[\"train\"].features['label'].int2str(int_label)\n",
        "\n",
        "df['label_name'] = df['label'].map(label_int2str)\n",
        "df.head()"
      ],
      "metadata": {
        "colab": {
          "base_uri": "https://localhost:8080/",
          "height": 206
        },
        "id": "iBgRDQhXDYVt",
        "outputId": "2f406e26-5b81-41ea-c504-16978eb93eb1"
      },
      "execution_count": 7,
      "outputs": [
        {
          "output_type": "execute_result",
          "data": {
            "text/plain": [
              "                                                text  label label_name\n",
              "0                            i didnt feel humiliated      0    sadness\n",
              "1  i can go from feeling so hopeless to so damned...      0    sadness\n",
              "2   im grabbing a minute to post i feel greedy wrong      3      anger\n",
              "3  i am ever feeling nostalgic about the fireplac...      2       love\n",
              "4                               i am feeling grouchy      3      anger"
            ],
            "text/html": [
              "\n",
              "  <div id=\"df-323555e6-b583-44aa-93a3-58e2cd274903\">\n",
              "    <div class=\"colab-df-container\">\n",
              "      <div>\n",
              "<style scoped>\n",
              "    .dataframe tbody tr th:only-of-type {\n",
              "        vertical-align: middle;\n",
              "    }\n",
              "\n",
              "    .dataframe tbody tr th {\n",
              "        vertical-align: top;\n",
              "    }\n",
              "\n",
              "    .dataframe thead th {\n",
              "        text-align: right;\n",
              "    }\n",
              "</style>\n",
              "<table border=\"1\" class=\"dataframe\">\n",
              "  <thead>\n",
              "    <tr style=\"text-align: right;\">\n",
              "      <th></th>\n",
              "      <th>text</th>\n",
              "      <th>label</th>\n",
              "      <th>label_name</th>\n",
              "    </tr>\n",
              "  </thead>\n",
              "  <tbody>\n",
              "    <tr>\n",
              "      <th>0</th>\n",
              "      <td>i didnt feel humiliated</td>\n",
              "      <td>0</td>\n",
              "      <td>sadness</td>\n",
              "    </tr>\n",
              "    <tr>\n",
              "      <th>1</th>\n",
              "      <td>i can go from feeling so hopeless to so damned...</td>\n",
              "      <td>0</td>\n",
              "      <td>sadness</td>\n",
              "    </tr>\n",
              "    <tr>\n",
              "      <th>2</th>\n",
              "      <td>im grabbing a minute to post i feel greedy wrong</td>\n",
              "      <td>3</td>\n",
              "      <td>anger</td>\n",
              "    </tr>\n",
              "    <tr>\n",
              "      <th>3</th>\n",
              "      <td>i am ever feeling nostalgic about the fireplac...</td>\n",
              "      <td>2</td>\n",
              "      <td>love</td>\n",
              "    </tr>\n",
              "    <tr>\n",
              "      <th>4</th>\n",
              "      <td>i am feeling grouchy</td>\n",
              "      <td>3</td>\n",
              "      <td>anger</td>\n",
              "    </tr>\n",
              "  </tbody>\n",
              "</table>\n",
              "</div>\n",
              "      <button class=\"colab-df-convert\" onclick=\"convertToInteractive('df-323555e6-b583-44aa-93a3-58e2cd274903')\"\n",
              "              title=\"Convert this dataframe to an interactive table.\"\n",
              "              style=\"display:none;\">\n",
              "        \n",
              "  <svg xmlns=\"http://www.w3.org/2000/svg\" height=\"24px\"viewBox=\"0 0 24 24\"\n",
              "       width=\"24px\">\n",
              "    <path d=\"M0 0h24v24H0V0z\" fill=\"none\"/>\n",
              "    <path d=\"M18.56 5.44l.94 2.06.94-2.06 2.06-.94-2.06-.94-.94-2.06-.94 2.06-2.06.94zm-11 1L8.5 8.5l.94-2.06 2.06-.94-2.06-.94L8.5 2.5l-.94 2.06-2.06.94zm10 10l.94 2.06.94-2.06 2.06-.94-2.06-.94-.94-2.06-.94 2.06-2.06.94z\"/><path d=\"M17.41 7.96l-1.37-1.37c-.4-.4-.92-.59-1.43-.59-.52 0-1.04.2-1.43.59L10.3 9.45l-7.72 7.72c-.78.78-.78 2.05 0 2.83L4 21.41c.39.39.9.59 1.41.59.51 0 1.02-.2 1.41-.59l7.78-7.78 2.81-2.81c.8-.78.8-2.07 0-2.86zM5.41 20L4 18.59l7.72-7.72 1.47 1.35L5.41 20z\"/>\n",
              "  </svg>\n",
              "      </button>\n",
              "      \n",
              "  <style>\n",
              "    .colab-df-container {\n",
              "      display:flex;\n",
              "      flex-wrap:wrap;\n",
              "      gap: 12px;\n",
              "    }\n",
              "\n",
              "    .colab-df-convert {\n",
              "      background-color: #E8F0FE;\n",
              "      border: none;\n",
              "      border-radius: 50%;\n",
              "      cursor: pointer;\n",
              "      display: none;\n",
              "      fill: #1967D2;\n",
              "      height: 32px;\n",
              "      padding: 0 0 0 0;\n",
              "      width: 32px;\n",
              "    }\n",
              "\n",
              "    .colab-df-convert:hover {\n",
              "      background-color: #E2EBFA;\n",
              "      box-shadow: 0px 1px 2px rgba(60, 64, 67, 0.3), 0px 1px 3px 1px rgba(60, 64, 67, 0.15);\n",
              "      fill: #174EA6;\n",
              "    }\n",
              "\n",
              "    [theme=dark] .colab-df-convert {\n",
              "      background-color: #3B4455;\n",
              "      fill: #D2E3FC;\n",
              "    }\n",
              "\n",
              "    [theme=dark] .colab-df-convert:hover {\n",
              "      background-color: #434B5C;\n",
              "      box-shadow: 0px 1px 3px 1px rgba(0, 0, 0, 0.15);\n",
              "      filter: drop-shadow(0px 1px 2px rgba(0, 0, 0, 0.3));\n",
              "      fill: #FFFFFF;\n",
              "    }\n",
              "  </style>\n",
              "\n",
              "      <script>\n",
              "        const buttonEl =\n",
              "          document.querySelector('#df-323555e6-b583-44aa-93a3-58e2cd274903 button.colab-df-convert');\n",
              "        buttonEl.style.display =\n",
              "          google.colab.kernel.accessAllowed ? 'block' : 'none';\n",
              "\n",
              "        async function convertToInteractive(key) {\n",
              "          const element = document.querySelector('#df-323555e6-b583-44aa-93a3-58e2cd274903');\n",
              "          const dataTable =\n",
              "            await google.colab.kernel.invokeFunction('convertToInteractive',\n",
              "                                                     [key], {});\n",
              "          if (!dataTable) return;\n",
              "\n",
              "          const docLinkHtml = 'Like what you see? Visit the ' +\n",
              "            '<a target=\"_blank\" href=https://colab.research.google.com/notebooks/data_table.ipynb>data table notebook</a>'\n",
              "            + ' to learn more about interactive tables.';\n",
              "          element.innerHTML = '';\n",
              "          dataTable['output_type'] = 'display_data';\n",
              "          await google.colab.output.renderOutput(dataTable, element);\n",
              "          const docLink = document.createElement('div');\n",
              "          docLink.innerHTML = docLinkHtml;\n",
              "          element.appendChild(docLink);\n",
              "        }\n",
              "      </script>\n",
              "    </div>\n",
              "  </div>\n",
              "  "
            ]
          },
          "metadata": {},
          "execution_count": 7
        }
      ]
    },
    {
      "cell_type": "markdown",
      "source": [
        "#### What If My Dataset Is Not on the Hub?\n",
        "We can also load the datasets locally by using the csv script and pointing the data_files argument to the train.txt file:\n",
        "\n",
        "      emotions_local = load_dataset(\"csv\", data_files=\"train.txt\", sep=\";\", names=[\"text\", \"label\"])"
      ],
      "metadata": {
        "id": "YJTtRC1FvzFc"
      }
    },
    {
      "cell_type": "markdown",
      "source": [
        "## EDA: \n",
        "Before diving into building a classifier, let’s take a closer look at the dataset and perform some EDA"
      ],
      "metadata": {
        "id": "lDbMdX6fEeO8"
      }
    },
    {
      "cell_type": "markdown",
      "source": [
        "#### Looking at the Class Distribution:\n",
        "\n",
        "Let's analyze the class distribution and check if our data is balanced"
      ],
      "metadata": {
        "id": "W0UeuJRSAcMD"
      }
    },
    {
      "cell_type": "code",
      "source": [
        "# Class distribution\n",
        "import matplotlib.pyplot as plt\n",
        "\n",
        "df[\"label_name\"].value_counts().plot(kind = 'barh')\n",
        "plt.title(\"Frequency of labels\")\n",
        "plt.show()"
      ],
      "metadata": {
        "colab": {
          "base_uri": "https://localhost:8080/",
          "height": 0
        },
        "id": "SlOBfpFXEFqJ",
        "outputId": "d9e05387-f5c0-44e9-95c8-b3b35a620e2d"
      },
      "execution_count": 8,
      "outputs": [
        {
          "output_type": "display_data",
          "data": {
            "text/plain": [
              "<Figure size 432x288 with 1 Axes>"
            ],
            "image/png": "[encoded data removed]"
          },
          "metadata": {
            "needs_background": "light"
          }
        }
      ]
    },
    {
      "cell_type": "markdown",
      "source": [
        "fromm the plot above, the data looks quite imbalanced with most data points belonging to joy while least belonging to surprise.\n",
        "\n",
        "In such cases, instead of accuracy as our evaluation metric we should choose for f1-score or any other metric which doesn't favor majority class"
      ],
      "metadata": {
        "id": "vIfJVECvuGxy"
      }
    },
    {
      "cell_type": "markdown",
      "source": [
        "#### Length of tweets: \n",
        "Transformer models have a maximum input sequence length that is referred to as the maximum context size. For applications using DistilBERT, the maximum context size is 512 tokens, which amounts to a few paragraphs of text.\n",
        "\n",
        "Let's have a an estimate of length of our tweets in order to decide the size of context:\n"
      ],
      "metadata": {
        "id": "33SLNNROexxv"
      }
    },
    {
      "cell_type": "code",
      "source": [
        "df[\"words_per_tweet\"] = df['text'].map(lambda x : len(x.split(\" \")))\n",
        "df.boxplot(\"words_per_tweet\", by = \"label_name\", grid = False, showfliers = False, color = 'black')\n",
        "plt.suptitle(\"\")\n",
        "plt.show()"
      ],
      "metadata": {
        "colab": {
          "base_uri": "https://localhost:8080/",
          "height": 0
        },
        "id": "4So3dQ7xE24I",
        "outputId": "a1899ee7-7f20-4047-f5f8-5e12a24ebcff"
      },
      "execution_count": 9,
      "outputs": [
        {
          "output_type": "stream",
          "name": "stderr",
          "text": [
            "/usr/local/lib/python3.7/dist-packages/matplotlib/cbook/__init__.py:1376: VisibleDeprecationWarning: Creating an ndarray from ragged nested sequences (which is a list-or-tuple of lists-or-tuples-or ndarrays with different lengths or shapes) is deprecated. If you meant to do this, you must specify 'dtype=object' when creating the ndarray.\n",
            "  X = np.atleast_1d(X.T if isinstance(X, np.ndarray) else np.asarray(X))\n"
          ]
        },
        {
          "output_type": "display_data",
          "data": {
            "text/plain": [
              "<Figure size 432x288 with 1 Axes>"
            ],
            "image/png": "[encoded data removed]"
          },
          "metadata": {
            "needs_background": "light"
          }
        }
      ]
    },
    {
      "cell_type": "markdown",
      "source": [
        "From the boxplot, we see that for each emotion, most tweets are around 15 words long and the longest tweets are well below DistilBERT’s maximum context size. \n",
        "\n",
        "Texts that are longer than a model’s context size need to be truncated, which can lead to a loss in performance if the truncated text contains crucial information; in this case, it looks like that won’t be an issue."
      ],
      "metadata": {
        "id": "le6YrX9DfMac"
      }
    },
    {
      "cell_type": "markdown",
      "source": [
        "As we know that ML models can process numerical data only, Let’s now figure out how we can convert these raw texts into a format suitable for Transformers! \n",
        "Also we can reset the output format of our dataset since we don’t need the DataFrame format anymore:"
      ],
      "metadata": {
        "id": "iLmnm-DX3j5b"
      }
    },
    {
      "cell_type": "code",
      "source": [
        "emotions.reset_format()"
      ],
      "metadata": {
        "id": "7JZ8485B3exI"
      },
      "execution_count": 10,
      "outputs": []
    },
    {
      "cell_type": "markdown",
      "source": [
        "## Tokenization:\n",
        "Transformer models like DistilBERT cannot receive raw strings as input; instead, they assume the text has been tokenized and encoded as numerical vectors. Tokenization is the step of breaking down a string into the atomic units used in the model. There are several tokenization strategies one can adopt, and the optimal splitting of words into subunits is usually learned from the corpus."
      ],
      "metadata": {
        "id": "csWeXfpZIxyE"
      }
    },
    {
      "cell_type": "code",
      "source": [
        "# tokenization\n",
        "from transformers import AutoTokenizer\n",
        "\n",
        "model_ckpt = 'distilbert-base-uncased'\n",
        "tokenizer = AutoTokenizer.from_pretrained(model_ckpt)\n",
        "\n",
        "sample_text = \"Hi my name is Sachin Kaushik\"\n",
        "\n",
        "encoded_text = tokenizer(sample_text)\n",
        "print(\"Encoded Text: \", encoded_text)"
      ],
      "metadata": {
        "colab": {
          "base_uri": "https://localhost:8080/"
        },
        "id": "NM0rEagHFUjV",
        "outputId": "535048d6-7efd-4a83-cec8-9ce896530759"
      },
      "execution_count": 11,
      "outputs": [
        {
          "output_type": "stream",
          "name": "stdout",
          "text": [
            "Encoded Text:  {'input_ids': [101, 7632, 2026, 2171, 2003, 17266, 10606, 10556, 20668, 5480, 102], 'attention_mask': [1, 1, 1, 1, 1, 1, 1, 1, 1, 1, 1]}\n"
          ]
        }
      ]
    },
    {
      "cell_type": "code",
      "source": [
        "tokens = tokenizer.convert_ids_to_tokens(encoded_text.input_ids)\n",
        "print(tokens)"
      ],
      "metadata": {
        "colab": {
          "base_uri": "https://localhost:8080/"
        },
        "id": "t0cJxhN4Hbj5",
        "outputId": "02ff3f60-89e0-45ac-d8e4-4e274a1d463e"
      },
      "execution_count": 12,
      "outputs": [
        {
          "output_type": "stream",
          "name": "stdout",
          "text": [
            "['[CLS]', 'hi', 'my', 'name', 'is', 'sac', '##hin', 'ka', '##ush', '##ik', '[SEP]']\n"
          ]
        }
      ]
    },
    {
      "cell_type": "code",
      "source": [
        "print(tokenizer.vocab_size)\n",
        "print(tokenizer.model_max_length)\n",
        "print(tokenizer.model_input_names)"
      ],
      "metadata": {
        "colab": {
          "base_uri": "https://localhost:8080/"
        },
        "id": "hG6LhSghH-fq",
        "outputId": "b5deeb91-194b-4e4b-9bb3-dc8fa4770bc5"
      },
      "execution_count": 13,
      "outputs": [
        {
          "output_type": "stream",
          "name": "stdout",
          "text": [
            "30522\n",
            "512\n",
            "['input_ids', 'attention_mask']\n"
          ]
        }
      ]
    },
    {
      "cell_type": "markdown",
      "source": [
        "### Tokenizing the whole dataset:\n",
        "To tokenize the whole corpus, we’ll use the map() method of our DatasetDict object. We’ll encounter this method many times throughout this book, as it provides a convenient way to apply a processing function to each element in a dataset. As we’ll soon see, the map() method can also be used to create new rows and columns.\n",
        "\n",
        "To get started, the first thing we need is a processing function to tokenize our examples with:"
      ],
      "metadata": {
        "id": "eEgZRb4RGIUd"
      }
    },
    {
      "cell_type": "code",
      "source": [
        "def tokenize_batch(batch):\n",
        "  return tokenizer(batch['text'], padding = True, truncation = True)\n",
        "\n",
        "print(tokenize_batch(emotions[\"train\"][:2]))"
      ],
      "metadata": {
        "colab": {
          "base_uri": "https://localhost:8080/"
        },
        "id": "V4khoDuTIZ5r",
        "outputId": "2e358957-7b13-4ae6-baf6-60436a84323d"
      },
      "execution_count": 14,
      "outputs": [
        {
          "output_type": "stream",
          "name": "stdout",
          "text": [
            "{'input_ids': [[101, 1045, 2134, 2102, 2514, 26608, 102, 0, 0, 0, 0, 0, 0, 0, 0, 0, 0, 0, 0, 0, 0, 0, 0], [101, 1045, 2064, 2175, 2013, 3110, 2061, 20625, 2000, 2061, 9636, 17772, 2074, 2013, 2108, 2105, 2619, 2040, 14977, 1998, 2003, 8300, 102]], 'attention_mask': [[1, 1, 1, 1, 1, 1, 1, 0, 0, 0, 0, 0, 0, 0, 0, 0, 0, 0, 0, 0, 0, 0, 0], [1, 1, 1, 1, 1, 1, 1, 1, 1, 1, 1, 1, 1, 1, 1, 1, 1, 1, 1, 1, 1, 1, 1]]}\n"
          ]
        }
      ]
    },
    {
      "cell_type": "markdown",
      "source": [
        "This function applies the tokenizer to a batch of examples; padding=True will pad the examples with zeros to the size of the longest one in a batch, and truncation=True will truncate the examples to the model’s maximum context size. To see tokenize() in action, we passed a batch of two examples from the training set.\n",
        "\n"
      ],
      "metadata": {
        "id": "BzQshcPy1VXG"
      }
    },
    {
      "cell_type": "markdown",
      "source": [
        "- Once we’ve defined a processing function, we can apply it across all the splits in the corpus in a single line of code:\n"
      ],
      "metadata": {
        "id": "9_SiD6z-uABt"
      }
    },
    {
      "cell_type": "code",
      "source": [
        "emotions_encoded = emotions.map(tokenize_batch, batched=True, batch_size=None)"
      ],
      "metadata": {
        "colab": {
          "base_uri": "https://localhost:8080/"
        },
        "id": "DJz5OuPu34R_",
        "outputId": "789f3f49-4c60-4ed8-e96f-d31d85c2c2b4"
      },
      "execution_count": 15,
      "outputs": [
        {
          "output_type": "stream",
          "name": "stderr",
          "text": [
            "Loading cached processed dataset at /root/.cache/huggingface/datasets/emotion/default/0.0.0/348f63ca8e27b3713b6c04d723efe6d824a56fb3d1449794716c0f0296072705/cache-68ca8d31fbc22dee.arrow\n",
            "Loading cached processed dataset at /root/.cache/huggingface/datasets/emotion/default/0.0.0/348f63ca8e27b3713b6c04d723efe6d824a56fb3d1449794716c0f0296072705/cache-40cc0b5b1c95792f.arrow\n",
            "Loading cached processed dataset at /root/.cache/huggingface/datasets/emotion/default/0.0.0/348f63ca8e27b3713b6c04d723efe6d824a56fb3d1449794716c0f0296072705/cache-edf5d37acfb0bcc0.arrow\n"
          ]
        }
      ]
    },
    {
      "cell_type": "markdown",
      "source": [
        "By default, the map() method operates individually on every example in the corpus, so setting batched=True will encode the tweets in batches. Because we’ve set batch_size=None our tokenize() function will be applied on the full dataset as a single batch. This ensures that the input tensors and attention masks have the same shape globally, and we can see that this operation has added new input_ids and attention_mask columns to the dataset:"
      ],
      "metadata": {
        "id": "B5ddf72xuF9k"
      }
    },
    {
      "cell_type": "code",
      "source": [
        "print(emotions_encoded[\"train\"].column_names)"
      ],
      "metadata": {
        "colab": {
          "base_uri": "https://localhost:8080/"
        },
        "id": "HLWzbF-wuY7A",
        "outputId": "d67322c2-5ef6-4d9a-b5bc-2451e6c0886c"
      },
      "execution_count": 16,
      "outputs": [
        {
          "output_type": "stream",
          "name": "stdout",
          "text": [
            "['text', 'label', 'input_ids', 'attention_mask']\n"
          ]
        }
      ]
    },
    {
      "cell_type": "markdown",
      "source": [
        "## Training a text classifier:\n",
        "\n",
        "\n",
        "\n",
        "\n",
        "\n",
        "\n",
        "![image.png](data:image/png;base64,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)\n",
        "\n",
        "The architecture used for sequence classification with an encoder-based transformer; it consists of the model’s pretrained body combined with a custom classification head.\n",
        "\n",
        "We have two options to train such a model on our Twitter dataset:\n",
        "\n",
        "1. Feature extraction\n",
        "\n",
        "      We use the hidden states as features and just train a classifier on them, without modifying the pretrained model.\n",
        "\n",
        "2. Fine-tuning\n",
        "\n",
        "      We train the whole model end-to-end, which also updates the parameters of the pretrained model.\n",
        "\n",
        "In the following sections we explore both options for DistilBERT and examine their trade-offs."
      ],
      "metadata": {
        "id": "hN8nE-hOGrHP"
      }
    },
    {
      "cell_type": "markdown",
      "source": [
        "## Transformers as Feature Extractors:\n",
        "Using a transformer as a feature extractor is fairly simple. As shown in Figure 2-5, we freeze the body’s weights during training and use the hidden states as features for the classifier. The advantage of this approach is that we can quickly train a small or shallow model. Such a model could be a neural classification layer or a method that does not rely on gradients, such as a random forest. This method is especially convenient if GPUs are unavailable Using a transformer as a feature extractor is fairly simple. As shown in Figure 2-5, we freeze the body’s weights during training and use the hidden states as features for the classifier. The advantage of this approach is that we can quickly train a small or shallow model. Such a model could be a neural classification layer or a method that does not rely on gradients, such as a random forest. This method is especially convenient if GPUs are unavailable, since the hidden states only need to be precomputed once.\n",
        "![image.png](data:image/png;base64,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)"
      ],
      "metadata": {
        "id": "ymLHUp7tGoqt"
      }
    },
    {
      "cell_type": "markdown",
      "source": [
        "#### Using pretrained models\n",
        "\n",
        "We will use another convenient auto class from Huggingface Transformers called AutoModel. Similar to the AutoTokenizer class, AutoModel has a from_pretrained() method to load the weights of a pretrained model. Let’s use this method to load the DistilBERT checkpoint:\n"
      ],
      "metadata": {
        "id": "_v1ars6THx0C"
      }
    },
    {
      "cell_type": "code",
      "source": [
        "from transformers import AutoModel\n",
        "import torch \n",
        "\n",
        "model_ckpt = \"distilbert-base-uncased\"\n",
        "device = torch.device(\"cuda\" if torch.cuda.is_available() else \"cpu\")\n",
        "model = AutoModel.from_pretrained(model_ckpt).to(device)"
      ],
      "metadata": {
        "colab": {
          "base_uri": "https://localhost:8080/"
        },
        "id": "WUMByR4NH0tl",
        "outputId": "3fe53b08-1a0a-4876-a113-38140d5da266"
      },
      "execution_count": 17,
      "outputs": [
        {
          "output_type": "stream",
          "name": "stderr",
          "text": [
            "Some weights of the model checkpoint at distilbert-base-uncased were not used when initializing DistilBertModel: ['vocab_layer_norm.bias', 'vocab_projector.bias', 'vocab_layer_norm.weight', 'vocab_projector.weight', 'vocab_transform.weight', 'vocab_transform.bias']\n",
            "- This IS expected if you are initializing DistilBertModel from the checkpoint of a model trained on another task or with another architecture (e.g. initializing a BertForSequenceClassification model from a BertForPreTraining model).\n",
            "- This IS NOT expected if you are initializing DistilBertModel from the checkpoint of a model that you expect to be exactly identical (initializing a BertForSequenceClassification model from a BertForSequenceClassification model).\n"
          ]
        }
      ]
    },
    {
      "cell_type": "markdown",
      "source": [
        "Here we’ve used PyTorch to check whether a GPU is available or not, and then chained the PyTorch nn.Module.to() method to the model loader. This ensures that the model will run on the GPU if we have one. If not, the model will run on the CPU, which can be considerably slower.\n",
        "\n",
        "The AutoModel class converts the `token encodings` to `embeddings`, and then feeds them through the encoder stack to return the `hidden states`. Let’s take a look at how we can extract these states from our corpus."
      ],
      "metadata": {
        "id": "DLJROJLUH2wa"
      }
    },
    {
      "cell_type": "markdown",
      "source": [
        "#### Extracting the last hidden states\n",
        "\n",
        "To warm up, let’s retrieve the last hidden states for a single string. The first thing we need to do is encode the string and convert the tokens to PyTorch tensors. This can be done by providing the return_tensors=\"pt\" argument to the tokenizer as follows:"
      ],
      "metadata": {
        "id": "g2-TJ9LnIbsw"
      }
    },
    {
      "cell_type": "code",
      "source": [
        "text = \"this is a test\"\n",
        "inputs = tokenizer(text, return_tensors=\"pt\")\n",
        "print(f\"Input tensor shape: {inputs['input_ids'].size()}\")"
      ],
      "metadata": {
        "colab": {
          "base_uri": "https://localhost:8080/"
        },
        "id": "NA5p5bpbGqbo",
        "outputId": "1aee17f5-f3cf-47b0-e09c-648fb3123a6b"
      },
      "execution_count": 18,
      "outputs": [
        {
          "output_type": "stream",
          "name": "stdout",
          "text": [
            "Input tensor shape: torch.Size([1, 6])\n"
          ]
        }
      ]
    },
    {
      "cell_type": "markdown",
      "source": [
        "As we can see, the resulting tensor has the shape [batch_size, n_tokens]. Now that we have the encodings as a tensor, the final step is to place them on the same device as the model and pass the inputs as follows:\n"
      ],
      "metadata": {
        "id": "geesLcZzJOPA"
      }
    },
    {
      "cell_type": "code",
      "source": [
        "inputs = {k:v.to(device) for k,v in inputs.items()}\n",
        "with torch.no_grad():\n",
        "    outputs = model(**inputs)\n",
        "print(outputs)"
      ],
      "metadata": {
        "colab": {
          "base_uri": "https://localhost:8080/"
        },
        "id": "p8xKEntXIo9h",
        "outputId": "ba5fd0a5-12e9-46e0-ee87-4dd0ff78a4d4"
      },
      "execution_count": 19,
      "outputs": [
        {
          "output_type": "stream",
          "name": "stdout",
          "text": [
            "BaseModelOutput(last_hidden_state=tensor([[[-0.1565, -0.1862,  0.0528,  ..., -0.1188,  0.0662,  0.5470],\n",
            "         [-0.3575, -0.6484, -0.0618,  ..., -0.3040,  0.3508,  0.5221],\n",
            "         [-0.2772, -0.4459,  0.1818,  ..., -0.0948, -0.0076,  0.9958],\n",
            "         [-0.2841, -0.3917,  0.3753,  ..., -0.2151, -0.1173,  1.0526],\n",
            "         [ 0.2661, -0.5094, -0.3180,  ..., -0.4203,  0.0144, -0.2149],\n",
            "         [ 0.9441,  0.0112, -0.4714,  ...,  0.1439, -0.7288, -0.1619]]],\n",
            "       device='cuda:0'), hidden_states=None, attentions=None)\n"
          ]
        }
      ]
    },
    {
      "cell_type": "markdown",
      "source": [
        "Here we’ve used the torch.no_grad() context manager to disable the automatic calculation of the gradient. This is useful for inference since it reduces the memory footprint of the computations. Depending on the model configuration, the output can contain several objects, such as the hidden states, losses, or attentions, arranged in a class similar to a namedtuple or dictionary in Python. \n",
        "\n",
        "In our example, the model output is an instance of BaseModelOutput, and we can simply access its attributes by name. The current model returns only one attribute, which is the last hidden state, so let’s examine its shape:"
      ],
      "metadata": {
        "id": "2PNw0sHPJWqN"
      }
    },
    {
      "cell_type": "code",
      "source": [
        "outputs.last_hidden_state.shape"
      ],
      "metadata": {
        "colab": {
          "base_uri": "https://localhost:8080/"
        },
        "id": "XqisBJQvJQ4z",
        "outputId": "ab85d646-05ed-4dac-be09-18c3733f07ff"
      },
      "execution_count": 20,
      "outputs": [
        {
          "output_type": "execute_result",
          "data": {
            "text/plain": [
              "torch.Size([1, 6, 768])"
            ]
          },
          "metadata": {},
          "execution_count": 20
        }
      ]
    },
    {
      "cell_type": "markdown",
      "source": [
        "Looking at the hidden state tensor, we see that it has the shape [batch_size, n_tokens, hidden_dim]. In other words, a 768-dimensional vector is returned for each of the 6 input tokens. For classification tasks, it is common practice to just use the hidden state associated with the [CLS] token as the input feature. Since this token appears at the start of each sequence, we can extract it by simply indexing into outputs.last_hidden_state as follows:"
      ],
      "metadata": {
        "id": "VtAOyejiJj3h"
      }
    },
    {
      "cell_type": "markdown",
      "source": [
        "Now we know how to get the last hidden state for a single string; let’s do the same for the whole dataset by creating a new hidden_state column that stores all these vectors. As we did with the tokenizer, we’ll use the map() method of DatasetDict to extract all the hidden states in one go. The first thing we need to do is wrap the previous steps in a processing function:"
      ],
      "metadata": {
        "id": "qKMmqbZ5Jp6y"
      }
    },
    {
      "cell_type": "code",
      "source": [
        "def get_hidden_states(batch):\n",
        "  # Place model inputs on the GPU/CPU\n",
        "  inputs = {k:v.to(device) for k, v in batch.items() if k in tokenizer.model_input_names}\n",
        "  \n",
        "  # Extract last hidden states\n",
        "  with torch.no_grad():\n",
        "    output = model(**inputs).last_hidden_state\n",
        "  \n",
        "  # Return vector for [CLS] token\n",
        "  return {\"hidden_state\": output[:,0].cpu().numpy()}\n",
        "\n",
        "text = \"this is a test\"\n",
        "inputs = tokenizer(text, return_tensors=\"pt\")\n",
        "get_hidden_states(inputs)['hidden_state'].shape"
      ],
      "metadata": {
        "colab": {
          "base_uri": "https://localhost:8080/"
        },
        "id": "vMexnU7FJc4t",
        "outputId": "df27f7c3-0f36-4d98-ea1d-7640bf35611f"
      },
      "execution_count": 21,
      "outputs": [
        {
          "output_type": "execute_result",
          "data": {
            "text/plain": [
              "(1, 768)"
            ]
          },
          "metadata": {},
          "execution_count": 21
        }
      ]
    },
    {
      "cell_type": "markdown",
      "source": [
        "Since The map() method requires the processing function to return Python or NumPy objects when we’re using batched inputs we converted the hidden_state to numpy array on CPU.\n",
        "\n",
        "Also our model expects tensors as inputs, the next thing to do is convert the input_ids and attention_mask columns to the \"torch\" format, as follows:"
      ],
      "metadata": {
        "id": "GjuF1YHHKxDp"
      }
    },
    {
      "cell_type": "code",
      "source": [
        "emotions_encoded.set_format(\"torch\", columns = [\"input_ids\", \"attention_mask\", \"label\"])"
      ],
      "metadata": {
        "id": "yis318pSK52K"
      },
      "execution_count": 22,
      "outputs": []
    },
    {
      "cell_type": "markdown",
      "source": [
        "We can then go ahead and extract the hidden states across all splits in one go:"
      ],
      "metadata": {
        "id": "J9X2n5M3LP3z"
      }
    },
    {
      "cell_type": "code",
      "source": [
        "emotions_encoded = emotions_encoded.map(get_hidden_states, batched = True)"
      ],
      "metadata": {
        "colab": {
          "base_uri": "https://localhost:8080/",
          "height": 113,
          "referenced_widgets": [
            "1e70d4516cad4cb5b31e4f871fc39d3c",
            "abeec0ae8ae54df0b9a239955d44a99e",
            "112bb0d1ca4d40c2b0988e65abf33e60",
            "b47a0358d92b4b0b8c5a68e430ca0fe0",
            "12f57f99145a49318869f00304805095",
            "e540d8232daa45f79c72079c62a6e6e7",
            "dfbe6a1398974cae992718dbcce97cc0",
            "1538a54db8f5478da5d21c68492ec612",
            "66f2b749414f4dffb2801d4ebb315c52",
            "5888dbbe7958490f878bd77f9cd15c8e",
            "6bf504f5ecf44bb3937e244ea67eba57",
            "d610651c51204ca8ade51a58653ba401",
            "cf67e9f0a0864cb9967665b2fd54048f",
            "ca1215cacd5a4aeeb6756113fc9e61c1",
            "6f440b86168548b7a4480266cce594f5",
            "3f2d5a490e0a4ee6a7b33e5d24af9a17",
            "ece832a9206a4913ad1a0a6a9e2c8655",
            "a8e34e72a4f64f69895a6ea1c2ba4efe",
            "7c818f2daa0042e08c25b7ffe2068ddb",
            "39fccf800f0449d389f722b9cb990912",
            "b5eee2e10c004c5b8c11961109d217e0",
            "1cdee5e672024068bc95c83573b20595",
            "369fd394033e4a218c96c2aae6ce4e41",
            "e36a76390b294c63b4cc56fb63663f35",
            "fd792db81dad461baa3b657bc585c10d",
            "5c6c946a558e4949a626e77d3ac7d046",
            "f414667e6c894686838fea12653b4b94",
            "5355a198542b487b8e34a9c77ec4cb92",
            "e73913fd236142ce9f8f678255f7f106",
            "31f08498e60b4f7ea8af3c7c0537c4a0",
            "4ae0a72caee04af99d75e319de832394",
            "343b16566fe746a6aef592211b72648a",
            "485a4386fcfb449e87611665da859f74"
          ]
        },
        "id": "F0OIX6xTL34n",
        "outputId": "194e5752-ae00-42b3-87da-7b210e7aad67"
      },
      "execution_count": 23,
      "outputs": [
        {
          "output_type": "display_data",
          "data": {
            "text/plain": [
              "  0%|          | 0/16 [00:00<?, ?ba/s]"
            ],
            "application/vnd.jupyter.widget-view+json": {
              "version_major": 2,
              "version_minor": 0,
              "model_id": "1e70d4516cad4cb5b31e4f871fc39d3c"
            }
          },
          "metadata": {}
        },
        {
          "output_type": "display_data",
          "data": {
            "text/plain": [
              "  0%|          | 0/2 [00:00<?, ?ba/s]"
            ],
            "application/vnd.jupyter.widget-view+json": {
              "version_major": 2,
              "version_minor": 0,
              "model_id": "d610651c51204ca8ade51a58653ba401"
            }
          },
          "metadata": {}
        },
        {
          "output_type": "display_data",
          "data": {
            "text/plain": [
              "  0%|          | 0/2 [00:00<?, ?ba/s]"
            ],
            "application/vnd.jupyter.widget-view+json": {
              "version_major": 2,
              "version_minor": 0,
              "model_id": "369fd394033e4a218c96c2aae6ce4e41"
            }
          },
          "metadata": {}
        }
      ]
    },
    {
      "cell_type": "markdown",
      "source": [
        "As we did not set batch_size=None in this case, the default batch_size=1000 is used instead. As expected, applying the extract_​hid⁠den_​states() function has added a new hidden_state column to our dataset:"
      ],
      "metadata": {
        "id": "AQt6YFGHL2rA"
      }
    },
    {
      "cell_type": "code",
      "source": [
        "emotions_encoded['train'].column_names"
      ],
      "metadata": {
        "colab": {
          "base_uri": "https://localhost:8080/"
        },
        "id": "iBKseccVMOWD",
        "outputId": "05ee9a13-c265-465b-d460-f2e59305c2bb"
      },
      "execution_count": 24,
      "outputs": [
        {
          "output_type": "execute_result",
          "data": {
            "text/plain": [
              "['text', 'label', 'input_ids', 'attention_mask', 'hidden_state']"
            ]
          },
          "metadata": {},
          "execution_count": 24
        }
      ]
    },
    {
      "cell_type": "markdown",
      "source": [
        "\n",
        "#### Creating a feature matrix\n",
        "\n",
        "The preprocessed dataset now contains all the information we need to train a classifier on it. We will use the hidden states as input features and the labels as targets. We can easily create the corresponding arrays in the well-known Scikit-learn format as follows:\n",
        "\n",
        "\n"
      ],
      "metadata": {
        "id": "MQtwt7rGMzrI"
      }
    },
    {
      "cell_type": "code",
      "source": [
        "import numpy as np\n",
        "\n",
        "X_train = np.array(emotions_encoded[\"train\"][\"hidden_state\"])\n",
        "X_valid = np.array(emotions_encoded[\"validation\"][\"hidden_state\"])\n",
        "y_train = np.array(emotions_encoded[\"train\"][\"label\"])\n",
        "y_valid = np.array(emotions_encoded[\"validation\"][\"label\"])\n",
        "print(X_train.shape, X_valid.shape)"
      ],
      "metadata": {
        "colab": {
          "base_uri": "https://localhost:8080/"
        },
        "id": "7ux6j6pbM2oR",
        "outputId": "886b45e5-8e7e-4bba-e111-8cb0671059ed"
      },
      "execution_count": 25,
      "outputs": [
        {
          "output_type": "stream",
          "name": "stdout",
          "text": [
            "(16000, 768) (2000, 768)\n"
          ]
        }
      ]
    },
    {
      "cell_type": "markdown",
      "source": [
        "Before we train a model on the hidden states, it’s good practice to perform a quick check to ensure that they provide a useful representation of the emotions we want to classify. In the next section, we’ll see how visualizing the features provides a fast way to achieve this.\n",
        "\n",
        "We will reduce the dimension of hidden_state to 2D using UMAP Library and plot them:"
      ],
      "metadata": {
        "id": "5dO6wO-uNUDE"
      }
    },
    {
      "cell_type": "code",
      "source": [
        "from umap import UMAP\n",
        "from sklearn.preprocessing import MinMaxScaler\n",
        "\n",
        "# Scale features to [0,1] range\n",
        "X_scaled = MinMaxScaler().fit_transform(X_train)\n",
        "\n",
        "# Initialize and fit UMAP\n",
        "mapper = UMAP(n_components=2, metric=\"cosine\").fit(X_scaled)\n",
        "\n",
        "# Create a DataFrame of 2D embeddings\n",
        "df_emb = pd.DataFrame(mapper.embedding_, columns=[\"X\", \"Y\"])\n",
        "df_emb[\"label\"] = y_train\n",
        "df_emb.head()"
      ],
      "metadata": {
        "colab": {
          "base_uri": "https://localhost:8080/",
          "height": 262
        },
        "id": "9K4cVRTnOK-p",
        "outputId": "331db100-9852-4a27-87ed-3ef1808b7e33"
      },
      "execution_count": 26,
      "outputs": [
        {
          "output_type": "stream",
          "name": "stderr",
          "text": [
            "/usr/local/lib/python3.7/dist-packages/numba/np/ufunc/parallel.py:363: NumbaWarning: The TBB threading layer requires TBB version 2019.5 or later i.e., TBB_INTERFACE_VERSION >= 11005. Found TBB_INTERFACE_VERSION = 9107. The TBB threading layer is disabled.\n",
            "  warnings.warn(problem)\n"
          ]
        },
        {
          "output_type": "execute_result",
          "data": {
            "text/plain": [
              "          X         Y  label\n",
              "0  4.292159  6.945562      0\n",
              "1 -3.164770  5.962409      0\n",
              "2  5.181047  3.440669      3\n",
              "3 -2.502774  3.530794      2\n",
              "4 -3.318433  4.008828      3"
            ],
            "text/html": [
              "\n",
              "  <div id=\"df-6e61c029-342c-41ea-8641-cd598abe15c3\">\n",
              "    <div class=\"colab-df-container\">\n",
              "      <div>\n",
              "<style scoped>\n",
              "    .dataframe tbody tr th:only-of-type {\n",
              "        vertical-align: middle;\n",
              "    }\n",
              "\n",
              "    .dataframe tbody tr th {\n",
              "        vertical-align: top;\n",
              "    }\n",
              "\n",
              "    .dataframe thead th {\n",
              "        text-align: right;\n",
              "    }\n",
              "</style>\n",
              "<table border=\"1\" class=\"dataframe\">\n",
              "  <thead>\n",
              "    <tr style=\"text-align: right;\">\n",
              "      <th></th>\n",
              "      <th>X</th>\n",
              "      <th>Y</th>\n",
              "      <th>label</th>\n",
              "    </tr>\n",
              "  </thead>\n",
              "  <tbody>\n",
              "    <tr>\n",
              "      <th>0</th>\n",
              "      <td>4.292159</td>\n",
              "      <td>6.945562</td>\n",
              "      <td>0</td>\n",
              "    </tr>\n",
              "    <tr>\n",
              "      <th>1</th>\n",
              "      <td>-3.164770</td>\n",
              "      <td>5.962409</td>\n",
              "      <td>0</td>\n",
              "    </tr>\n",
              "    <tr>\n",
              "      <th>2</th>\n",
              "      <td>5.181047</td>\n",
              "      <td>3.440669</td>\n",
              "      <td>3</td>\n",
              "    </tr>\n",
              "    <tr>\n",
              "      <th>3</th>\n",
              "      <td>-2.502774</td>\n",
              "      <td>3.530794</td>\n",
              "      <td>2</td>\n",
              "    </tr>\n",
              "    <tr>\n",
              "      <th>4</th>\n",
              "      <td>-3.318433</td>\n",
              "      <td>4.008828</td>\n",
              "      <td>3</td>\n",
              "    </tr>\n",
              "  </tbody>\n",
              "</table>\n",
              "</div>\n",
              "      <button class=\"colab-df-convert\" onclick=\"convertToInteractive('df-6e61c029-342c-41ea-8641-cd598abe15c3')\"\n",
              "              title=\"Convert this dataframe to an interactive table.\"\n",
              "              style=\"display:none;\">\n",
              "        \n",
              "  <svg xmlns=\"http://www.w3.org/2000/svg\" height=\"24px\"viewBox=\"0 0 24 24\"\n",
              "       width=\"24px\">\n",
              "    <path d=\"M0 0h24v24H0V0z\" fill=\"none\"/>\n",
              "    <path d=\"M18.56 5.44l.94 2.06.94-2.06 2.06-.94-2.06-.94-.94-2.06-.94 2.06-2.06.94zm-11 1L8.5 8.5l.94-2.06 2.06-.94-2.06-.94L8.5 2.5l-.94 2.06-2.06.94zm10 10l.94 2.06.94-2.06 2.06-.94-2.06-.94-.94-2.06-.94 2.06-2.06.94z\"/><path d=\"M17.41 7.96l-1.37-1.37c-.4-.4-.92-.59-1.43-.59-.52 0-1.04.2-1.43.59L10.3 9.45l-7.72 7.72c-.78.78-.78 2.05 0 2.83L4 21.41c.39.39.9.59 1.41.59.51 0 1.02-.2 1.41-.59l7.78-7.78 2.81-2.81c.8-.78.8-2.07 0-2.86zM5.41 20L4 18.59l7.72-7.72 1.47 1.35L5.41 20z\"/>\n",
              "  </svg>\n",
              "      </button>\n",
              "      \n",
              "  <style>\n",
              "    .colab-df-container {\n",
              "      display:flex;\n",
              "      flex-wrap:wrap;\n",
              "      gap: 12px;\n",
              "    }\n",
              "\n",
              "    .colab-df-convert {\n",
              "      background-color: #E8F0FE;\n",
              "      border: none;\n",
              "      border-radius: 50%;\n",
              "      cursor: pointer;\n",
              "      display: none;\n",
              "      fill: #1967D2;\n",
              "      height: 32px;\n",
              "      padding: 0 0 0 0;\n",
              "      width: 32px;\n",
              "    }\n",
              "\n",
              "    .colab-df-convert:hover {\n",
              "      background-color: #E2EBFA;\n",
              "      box-shadow: 0px 1px 2px rgba(60, 64, 67, 0.3), 0px 1px 3px 1px rgba(60, 64, 67, 0.15);\n",
              "      fill: #174EA6;\n",
              "    }\n",
              "\n",
              "    [theme=dark] .colab-df-convert {\n",
              "      background-color: #3B4455;\n",
              "      fill: #D2E3FC;\n",
              "    }\n",
              "\n",
              "    [theme=dark] .colab-df-convert:hover {\n",
              "      background-color: #434B5C;\n",
              "      box-shadow: 0px 1px 3px 1px rgba(0, 0, 0, 0.15);\n",
              "      filter: drop-shadow(0px 1px 2px rgba(0, 0, 0, 0.3));\n",
              "      fill: #FFFFFF;\n",
              "    }\n",
              "  </style>\n",
              "\n",
              "      <script>\n",
              "        const buttonEl =\n",
              "          document.querySelector('#df-6e61c029-342c-41ea-8641-cd598abe15c3 button.colab-df-convert');\n",
              "        buttonEl.style.display =\n",
              "          google.colab.kernel.accessAllowed ? 'block' : 'none';\n",
              "\n",
              "        async function convertToInteractive(key) {\n",
              "          const element = document.querySelector('#df-6e61c029-342c-41ea-8641-cd598abe15c3');\n",
              "          const dataTable =\n",
              "            await google.colab.kernel.invokeFunction('convertToInteractive',\n",
              "                                                     [key], {});\n",
              "          if (!dataTable) return;\n",
              "\n",
              "          const docLinkHtml = 'Like what you see? Visit the ' +\n",
              "            '<a target=\"_blank\" href=https://colab.research.google.com/notebooks/data_table.ipynb>data table notebook</a>'\n",
              "            + ' to learn more about interactive tables.';\n",
              "          element.innerHTML = '';\n",
              "          dataTable['output_type'] = 'display_data';\n",
              "          await google.colab.output.renderOutput(dataTable, element);\n",
              "          const docLink = document.createElement('div');\n",
              "          docLink.innerHTML = docLinkHtml;\n",
              "          element.appendChild(docLink);\n",
              "        }\n",
              "      </script>\n",
              "    </div>\n",
              "  </div>\n",
              "  "
            ]
          },
          "metadata": {},
          "execution_count": 26
        }
      ]
    },
    {
      "cell_type": "markdown",
      "source": [
        "The result is an array with the same number of training samples, but with only 2 features instead of the 768 we started with! Let’s investigate the compressed data a little bit further and plot the density of points for each category separately:"
      ],
      "metadata": {
        "id": "xXg_OVZVOkJ7"
      }
    },
    {
      "cell_type": "code",
      "source": [
        "fig, axes = plt.subplots(2, 3, figsize=(7,5))\n",
        "axes = axes.flatten()\n",
        "cmaps = [\"Greys\", \"Blues\", \"Oranges\", \"Reds\", \"Purples\", \"Greens\"]\n",
        "labels = emotions[\"train\"].features[\"label\"].names\n",
        "\n",
        "for i, (label, cmap) in enumerate(zip(labels, cmaps)):\n",
        "    df_emb_sub = df_emb.query(f\"label == {i}\")\n",
        "    axes[i].hexbin(df_emb_sub[\"X\"], df_emb_sub[\"Y\"], cmap=cmap,\n",
        "                   gridsize=20, linewidths=(0,))\n",
        "    axes[i].set_title(label)\n",
        "    axes[i].set_xticks([]), axes[i].set_yticks([])\n",
        "\n",
        "plt.tight_layout()\n",
        "plt.show()"
      ],
      "metadata": {
        "colab": {
          "base_uri": "https://localhost:8080/",
          "height": 369
        },
        "id": "WOpwnjRROBvI",
        "outputId": "206bf710-85bd-4670-88dc-39657addd0ba"
      },
      "execution_count": 27,
      "outputs": [
        {
          "output_type": "display_data",
          "data": {
            "text/plain": [
              "<Figure size 504x360 with 6 Axes>"
            ],
            "image/png": "[encoded data removed]"
          },
          "metadata": {}
        }
      ]
    },
    {
      "cell_type": "markdown",
      "source": [
        "From this plot we can see some clear patterns: the negative feelings such as sadness, anger, and fear all occupy similar regions with slightly varying distributions. On the other hand, joy and love are well separated from the negative emotions and also share a similar space. Finally, surprise is scattered all over the place. Although we may have hoped for some separation, this is in no way guaranteed since the model was not trained to know the difference between these emotions. It only learned them implicitly by guessing the masked words in texts.\n",
        "\n",
        "Now that we’ve gained some insight into the features of our dataset, let’s finally train a model on it!"
      ],
      "metadata": {
        "id": "vEp4xb-lOtF4"
      }
    },
    {
      "cell_type": "markdown",
      "source": [
        "We’ve seen that the hidden states are somewhat different between the emotions, although for several of them there is no obvious boundary. Let’s use these hidden states to train a logistic regression model with Scikit-learn. Training such a simple model is fast and does not require a GPU:\n"
      ],
      "metadata": {
        "id": "TVU7opyBNmyy"
      }
    },
    {
      "cell_type": "code",
      "source": [
        "from sklearn.linear_model import LogisticRegression\n",
        "\n",
        "# We increase `max_iter` to guarantee convergence\n",
        "lr_clf = LogisticRegression(max_iter=3000)\n",
        "lr_clf.fit(X_train, y_train)\n",
        "lr_clf.score(X_valid, y_valid)"
      ],
      "metadata": {
        "colab": {
          "base_uri": "https://localhost:8080/"
        },
        "id": "FuBzfTx8MQeN",
        "outputId": "d0b57a00-769a-4845-b5f5-7970c7da01d4"
      },
      "execution_count": 28,
      "outputs": [
        {
          "output_type": "execute_result",
          "data": {
            "text/plain": [
              "0.6335"
            ]
          },
          "metadata": {},
          "execution_count": 28
        }
      ]
    },
    {
      "cell_type": "markdown",
      "source": [
        "Looking at the accuracy, it might appear that our model is just a bit better than random—but since we are dealing with an unbalanced multiclass dataset, it’s actually significantly better. "
      ],
      "metadata": {
        "id": "zv4LxMvaNryM"
      }
    },
    {
      "cell_type": "markdown",
      "source": [
        " We can further investigate the performance of the model by looking at the confusion matrix of the classifier, which tells us the relationship between the true and predicted labels:\n",
        "\n"
      ],
      "metadata": {
        "id": "QfvRE9iSO7Ds"
      }
    },
    {
      "cell_type": "code",
      "source": [
        "from sklearn.metrics import ConfusionMatrixDisplay, confusion_matrix\n",
        "\n",
        "def plot_confusion_matrix(y_preds, y_true, labels):\n",
        "    cm = confusion_matrix(y_true, y_preds, normalize=\"true\")\n",
        "    fig, ax = plt.subplots(figsize=(6, 6))\n",
        "    disp = ConfusionMatrixDisplay(confusion_matrix=cm, display_labels=labels)\n",
        "    disp.plot(cmap=\"Blues\", values_format=\".2f\", ax=ax, colorbar=False)\n",
        "    plt.title(\"Normalized confusion matrix\")\n",
        "    plt.show()\n",
        "\n",
        "y_preds = lr_clf.predict(X_valid)\n",
        "plot_confusion_matrix(y_preds, y_valid, labels)"
      ],
      "metadata": {
        "colab": {
          "base_uri": "https://localhost:8080/",
          "height": 404
        },
        "id": "-x3Z07ujO-Ja",
        "outputId": "38cecc35-7447-4e7d-9bd9-7221976a6af3"
      },
      "execution_count": 29,
      "outputs": [
        {
          "output_type": "display_data",
          "data": {
            "text/plain": [
              "<Figure size 432x432 with 1 Axes>"
            ],
            "image/png": "[encoded data removed]"
          },
          "metadata": {
            "needs_background": "light"
          }
        }
      ]
    },
    {
      "cell_type": "markdown",
      "source": [
        "We can see that anger and fear are most often confused with sadness, which agrees with the observation we made when visualizing the embeddings. Also, love and surprise are frequently mistaken for joy."
      ],
      "metadata": {
        "id": "AovFGAfGPJQ8"
      }
    },
    {
      "cell_type": "markdown",
      "source": [
        "In the next section we will explore the fine-tuning approach, which leads to superior classification performance. It is, however, important to note that doing this requires more computational resources, such as GPUs, that might not be available in your organization. In cases like these, a feature-based approach can be a good compromise between doing traditional machine learning and deep learning.\n"
      ],
      "metadata": {
        "id": "w-Mbwx2wPN31"
      }
    },
    {
      "cell_type": "markdown",
      "source": [
        "## Fine-Tuning Transformers\n",
        "\n",
        "Let’s now explore the process if fine-tuning a transformer end-to-end. With the fine-tuning approach we do not use the hidden states as fixed features, but instead train them as shown in Figure below. \n",
        "\n",
        "![image.png](data:image/png;base64,iVBORw0KGgoAAAANSUhEUgAAAlgAAAFoCAYAAACL9IXsAAAgAElEQVR4nOydd3gU19m3V9gxLnHBdhL3luR97bjEyffGdsqVOO4OMbhjJFQQCEmAjXHFDRs3jCkGDLiAC0irthK99967tqlX1HvbOvP7/pidkRatpNVqxWp3f/d1PZdgy8zsOfOcuefMmTMqEEJILxFFEQBgNplw+NB+pKUkIiM9GXpdJuyC3ekz3lrXF599iFdfiYUgCKivr0OyeimKigq9ui5CCPEWKl9vACHEv5BlZt++3YiJDsOI54ciflwEYmPC8fRTD+PreTOdPtfHlUl/BAFvvjYB06ZOAQBs27YJD/zfH3Di+FEAgCAIfV+VIKKtrRV2u73PyyKEEAoWIcRtZJHZv38PHn/k7/h42rsoyM+F1WqF2WzG6VMnsGXTeoiiCFEUYbfbIIoiBEFwEhfpNTvsdilcCZIgCLDZbBDsdrS2tiB0xDD8sHgRAKCqqhJ5eTmw22xOy+xqefL6O26LtD3t/z+wfzfiYsJRVJgPQZCW0XGZ8vcJIcQdKFiEELeQ5aKpsRFR4S/grTcmKpcDPVlOb96vrqrEf598EFs2r/domd0hy1haaiJGvvhUp9cJIcQTKFiEELcQHDK1ft0qPP7I33DyhHR5zmazKT1WHXuqSkqK8c3CuaioKMPundvww+JFsFmtAIDKinKsXpWBr+fNgjrhJ+zfvwdms9lpfXv37MTCBXOQnpaE9WtX4flnnsBJxyXBlORlWJ6R6tguSYQqKsqhTvwJ3y6a1+nS4fHjR/Hjkm/Q2tqCPbt34Ov5s7B6VQbMJhNEQcB338zHxPHRCHvpacz4/COkpSYCAM6cKYEmTY35c79EWkoiiouLAIjsySKE9AgFixDiFrJTvDdlMmLHhsNsNjtJlSAIymU9ANi0YQ0e+udf8ObrExEx6jl8/NE7AIDdO7dhxPP/xRuvjcecWZ8jOnIEXnrhKVRVVQIAmpub8OEHbyHspeH4YvpHmDZ1CsJDn8XIF59CdVUlRFHEqJeexvRPpyrbdvjQfoSOGIZ3334V06ZOwbD//BvpmiTl/fnzZuLhB+/Dhx+8hXfefhVvvT4Rjz30VyQu+wEQRcye9TleePZJTBwfjU8/fh+rV6Yj8/RJvPjcfzD5lVjM+vIzTJ4Ui2kfTuEYLUKIW1CwCCE9olwebGpE2EvDMXfOFwC6v4yWuOwHjHhuKPbs3onW1laIoogjRw5g+NCHsGZ1hrLMr+fNxIS40bA6ere++2Y+XnrhKZSWlijLmvfVDISHPgMRImprazBq5NNYnp4CAGhsaEDYS09j0YKvlM/PnPEJoiNHwGw2AQCmfTgFMdGhMBr1yja//+7reG1SHADAarUiatTzUCf8pCzjo6lv49VXxim9bqIooq62hr1XhBC3oGARQnpElpKcbCOeGfYo1q5ZobxeWVGOQwf34eSJYzhx/CgaGxsAAF98/hEmvRyjLEMUBEyIi8KnH7/ntNw3X5+AD957HQBQXV2F555+AmtXLwcA2GyS3Lz3zmt4d8pkAIDRoMOTj/4dB/bvAQBkpKdgxPP/hdViUZabnqbGyBefQltbG+x2O+JiIjDvqxnSdojSb3lvymR8/skHAID8vFw8M+xRbN2yQRnc/vqr8XjnrUneLEZCSBBBwSKE9IgsWIcO7seTj/0DJ08cU95TJ/yEp/7zIJ57+nE8O/wx5OfnAgDix0Xik2nvKuOzcrKz8PRTD+PQwX3KaxaLBaEjhuObRXMBANu3bsbzzzyBsjOljp4iEVarFfHjIrDw69kAgK1bNmDoE/9CQUEeAODjj95F/LgIHNi/B3v37MDBA3vxztuvImZMqDJn1nPDH4cmTa2s12QyISY6FEu+XwgA2L9vNx5/9O/IzjIov2vrlg14/JG/4e03XsbxY0cAQPk+IYT0BAWLENIj8rijjetX41//+LMiUaIoor6uDtXVVVi0YA6iI0fAZDKhra0VI54fCnXiz8oytm/bjGeGPYbKygrltZKSYjw77FFsWr8GALD0p+8RFf6iMoUCANTUVOOZYY9ixXJpUPvPP36HyLDn0NzUBFEUMXlSHEJHPIXoyBEYHfECxkS9hPDQZzDvqy8BAEajHk8++g8cPLBPWW9lZQWee/pxbFi/CgCQpP4ZI18chtraGuV3AcDuXdsRPy4STzz6d3z/7ddK7xYhhPQEBYsQ0iOyYG3ftgmP/Pt+GI26TnNbTX3/Tbz68jgAQEF+Ll545gls37pJeV+d+COiwp9HW1urMjj+8KH9eGbYo8rdgZ9/+gGmvPmKMv+UIAjIzDyJoY//E0ePHAQgXXqcEBcFAGhpacZzTz+OlcvTIIoCBMdcVR3nwtqyeQOee/ox5OXlKNui057GsKEPQac9DQCYO3s6xsdGKpcZ5Tm6AGl81g+LF+HJR/+h9GRxCgdCSE9QsAghPaKMwcrJwrCh/4YmNanTZ2KiQ5VeowMH9mLY0Adh1OuU93/+8VtEhD0Lu71dTtauXo6n/vMgKsrLAADvTnkVb7/5itNyt2/bjBeefRIlJUUAgLhxEco4rtbWFox4YShSkpYBcJ4PS/534rIfEfbScDQ3NyvvbVi3Ci8+9x+Ul50BALw2KQ4fvv9ml7+/sbERw//7MLZv2+woD95JSAjpHgoWIcQt5F6n9995Hc8OexTbt21CdVUlmhobceTwQQz/78NIS0kAAGhS1Xju6cfR0FCvfH/Xzm148tF/YPfu7bBZbcgyGvDapDiMj4uCySTd7bf0p+8x/KlHkGXUw2KxwKDX4r0pr2F0xItoa2tDS3MzwkOfUYQKAKZ/9hEiwp5DYUE+bDYbamtrsG/PLmXdn33yPiaOHw2gXRR/+vE75XImAIwa+QzeeXsSWltbUF9fj43r1+DE8aNobmpCRXkZvl00D88Nf0yRPF4mJIT0BAWLEOIWslRUV1dh2odT8MywR/HSC/9FeOiziAh7FnEx4TDotQCAT6e9h+jIEcqcWPKA9hmff4Snn3oE4+OiMP2zDxEzJhRT3pqkDB6vqanGm69PxPPPPIFXJozFF59/hPhxkRgfK10SzM424rGH/6r0JImiiDOlxXjjtfEYNfJpxMaEIy4mAlPffxMWiwU2mw0RYc/hk2lSj5d82W/SxLHKZUYAWPrzYgwb+hCiIl7AqhXp+P67BXjh2ScRESbNvzXyxaewbs1Kp3IghJDuoGARQtymo1zk5+dh/77d2Ld3F3Jzs2HpMBO7NvMUTp860el7oiAg8/RJHDksjacqLipUpEz+jMViwfFjh3Hy5HFAFFFcXAht5ikAQH1dHfbu2Yn6+jrn5Yoi9LpM7N2zE0aDDoIgvW6323H0yEEU5Oc5ff74scMwGtsvX8rbfOjgPjQ3Nynbtmf3Dhw+tB81NdXyL+lL8RFCgggKFiGkV3Q3VUFfe3c8+X5/9Ci5WiYHthNCegMFixDiEfJdhPIdex2lRH5sTlffk99z9Tl5rJerz8h3CHYlQEKHuwfbX3f1Wuf1yq/Jy25/BJDr9RFCSHdQsAghhBBCvAwFixBCCCHEy1CwCCGEEEK8DAWLEEIIIcTLULAIIYQQQrwMBYsQQgghxMu4JVi8RZkQQgghxH16FCxOrkcIIYQQ0ju6FSxZruwuJu8jgU93M3aTwIZ1H9yw7oMXHuu9R5eCJT8UVa/XY+LEibBaredso4jvOXtWbhI8sO6DF9Z98NLxpIp17x1cCpbNZgMAnD59Grfeeiv+/ve/A+BZTbAgJ1dDQwPeeecdNDVJD79l/Qc+ct3bbDZ88MEHKCoqAsC6DwY6PiZo2rRp0GqdH8JNAhf58VQAMHPmTOzYsQNAe0cL8YxOgiXL1eHDh/Gb3/wGKpUKTz75JAAmWjAgJ1R1dTUefvhh3HjjjcprrP/ARm5gW1tb8fTTT+Pyyy9HVVWV03skMOk4HCQyMhIqlQpZWVlO75HApGPP1VtvvQWVSoVdu3YBoGD1FSfBkuVq9erVuOKKK6BSqTBo0CA8+uijAHiADXTkZKqqqsIDDzwAlUqFP/7xj8rlYdZ/4CLXfVNTE4YOHQqVSoVbbrmFghUEdBTriIgIqFQqXHTRRcjOznZ6nwQecq+lzWbD+PHjoVKpcN5552H37t0AKFh9RRGsjnJ18cUXQ6VS4Re/+AVUKhUFKwiQE8lgMOCuu+5S5PrOO++kYAU4cu6fOXNGEevzzjsPN9xwAwUrwJHzvqWlBY899piS94MHD2YPVoAj16soiggLC1PyPiQkhD1YXkIFtDew33//PQYPHqwk2XnnnQeVSoVHHnkEdrsdNpsNdrud4WEM1IZKrn+dToebb74ZKpUKF1xwAVQqFQUrwJEb0Ly8PPz5z392qnsKVmAj131paSkeeughp5NqClZgI9d9fX09hg0b5lT3FCzvofRgLVy4ECqVSpEr2WZVKhWeeOIJX24j6Udkudq5cyeuv/56pd7lfeDOO++E2WyGIAiKJDI8i4GG3HhqtVrccsstTmewsmBVVFRAEATYbDafl58/x0BDrvvi4mLcfffdnep+8ODBMBgMrPsArvuamho8+OCDUKlUOP/885W6DwkJwY4dOyAIAqxWq8/Lz59DZbFYMG3aNEWs5ELuKFr33XcfDh48iP379+PAgQOMXsbBgwexd+9eaLXaAdULJCf/5s2blTF3slTLdX/XXXf5eCtJfyDX/f79+3HTTTc51b3cBtx4443KHaQkcJDrPjMzE7fffrvLuh88eDAKCwt9vKXE28h1X1xcjHvvvddl3YeEhODgwYM+3tLAQLVy5UrlgCofVBn9E/fdd58iWL4WLTnRUlJSlMvCcqJ1FKzf//73MBgMyM3NRU5ODnJzcxm9jJycHBQUFPi0vjsi73tbt27FL3/5y051Lze011xzDQ4fPoy8vDxkZ2f7vBz9MbKzs1FUVOTzfJeR8/748eO44YYblN6Ls+v+ggsuwJYtW1j3fYicnBzk5+crVwl8jbwP5uTkKONsXdV9SEgIkpKSkJeXh6ysLJ+Xoz+Hqq2trccerD//+c/YsGEDw8PYuHEjNm7ciMOHD/s4xSTkRvbYsWOd6prRP3HFFVcMiPEMct0XFBQoN7N0bGQZ3o/bbrsNZrMZgG9PrARBumOssLAQ1113HVSq9nE3jP6JK6+8EhUVFU655wvkqRjq6upw2223se7PVcgVMHv2bOVFWbLks1p5HiwSOAiCgLa2NrzxxhtQqTrLtfzv6667Dt9++y0WL17M8CCWLFmCJUuWQK1WD4heDHlCQZvNhi+++EKpa1d1P2TIEMyZMweLFy/G999/7/Oy9LeQ6z49PX3AjMWR63/JkiXKSVXHkyu57s8//3x8+umnrPs+1P3ixYuRlJQEk8mklL2v614URWg0mm57rkNCQvDmm29i8eLF+O6773xelv4cKnkODAD48ccflTuIeBdh/8RAoWOyf/nll0qdn93o3nPPPT7cStIfdKz7b775RunBkutcbmhvuummASMGxHvIdapWqzsdaOW6v/DCC5U7SEngINf9+vXrcdlll7ms+5CQEJw8edLHWxoYdJoHKzU1VRmTw3mwAhtRFBXpmzdvnnIm01G0/vCHP6CtrQ02mw1WqxU2m43hYQw05G1KTk5Wcr1jT+YNN9yAsrIy2Gw2WCwWn5efP8dAQ96mLVu24PLLL+9U94MHD4ZOp2PdB3DdHzlyBNdee60iWR0Fa/v27bDZbDCbzT4vP38Op5nc5YPtxo0blbvKQkJCKFgBTEfJSklJUXow5V4NzoMV2MiN7bp165QDrVz3nAcrsJHrfseOHbjmmmuc6p7zYAU2cpt/4sQJZUyWXPecB8t7dHoWoVygu3btwq9//WunMVg8wAYucr1rNBpceumlSqJRsAIfue537NiBq666SunNoGAFPrJknT59WpkHjzO5Bwcd50K75557nHqyKFjeoZNgAe1Jp9Vqcf311+OBBx4AwANsoCPX+969e5UD7T333EPBCgLkuj916pRyRstnEQYHct3n5OQos/lffPHFFKwgQBaoM2fO4J///KfSk0XB8g4uBQtoT7pjx45hwoQJLOggoeP1+RtvvBG33nqrUvcUrMBGrvusrCz8/ve/x+WXX46amhoAPMgGOnKOl5WV4U9/+hNUKhVycnIAsO4DHbl+Gxoa8Mgjj0ClUmHPnj0AKFh9pUvBAtoL3m638+AaRMhJderUKQwfPhwtLS0AKFjBgFz3RUVFGD58OIqKigDwIBsMyHVfXV2N4cOH49SpUwBY98GAXPfNzc0YMWIENm7c6PQ68YxuBQtgcgUrcr03NjbCYrH4eGvIuUSu+5aWFrS1tfl4a8i5RK57s9msnFiR4EA+gbbb7WhoaPDx1gQGPQoWCV4o18ELeyuDF9Z98MK69y4ULNItTLjghXUfvLDugxd5xnfSdyhYhBBCCCFehoJFCCGEEOJlKFiEEEIIIV6GgkUIIYQQ4mUoWIQQQgghXoaCRQghhBDiZShYhBBCCCFeppNgiSIg9BCcIoMQQgghpGsUwRIhyZO7CKL0HUIIIYQQ4owKcBalqmYLDhc1YoOhGuv1zrHRUIOjxU2obbUqn6dkEUIIIYQ4o5IFyWwTkHy8AhMzjAhP0iEySYeIsyIySYdwtQ6vLM/C8tNVsPemy4sQQgghJEhQiSLQZrXjy22FGJmgRUyaAXEaI+I0hi7CiLGpeoxM0GL+7mJY7SJEXi4khBBCCFFQAUDK8QqMTMjE+HQjYtMMGNdDxKYZEJ9uxMgELVZrqwH0bvwWIYQQQkggo6ptsWLyymyMTdW7JVcdJWtMqh6vrcxGi8UOgL1YhBBCCCEAoNpf0IDolN7JlSJZGgNGJ+thqGgBwOkbCCGEEEIAQLVeX4NRiVrEaYweC9a+/AYAvExICCGEEAIAqg2GvgvWgQIKFiGEEEKIDAWLEEIIIcTLULAIIYQQQrwMBYsQQgghxMtQsAghhBBCvAwFixBCCCHEy1CwCCGEEEK8DAWLEEIIIcTLULAIIYQQQrwMBYsQQgghxMtQsAghhBBCvAwFixBCCCHEy1CwCCGEEEK8DAWLEEIIIcTL9EqwYjUGxGmMiKVgEUIIIYR0iVuCFasxIDbNgMgkHcIStRiToseYFD3GpuoRodZhX349RBGwCwAdixBCCCHBTo+CFacxIDpFj9HJeny5vQg7c+tgrGxBdlUrsqtaYaxsRYvZ3mnB7M0ihBBCSLDSrWBJlwB1eHN1No6XNClfMtsENJpsaDJLUdtqRVWzBZXNFtS3WZXPiZQsQgghhAQhXQpWnMaA0Sl6vLsuFxVNFgDAidImfLG1ABMzjJiQbsR4R0zIMGJihhETlxvx8nIjZm4vQmZZMwBeMiSEEEJI8NFtD1ZMqh45Va0AgBWnqxCVpENkkg5jU/UYm2roIvSIdHxug74aAHuy+gsRUtl2F4SQ/oH5RwjpDpeCFacxIkKtw+IDZwAAO3LqMCpRq/RsjUuTBr27Cvn749IMiEjS4Zjj0iLHZHkXoRetN8ueEO/C/COE9IRLwZLHXuXXtMFqF/HW6mxEp+gVuXIn4jQGRCXr8eHGPFhsAgBeLvQGHcvQbBNQUm9CVmULchw3HXSMmhary+8RQjzDZf65yL3sqlbUtnI8KiHBTCfBik2TLvO9uiILbVYBudWtiEjS9UqunC8zGpDtuMzYm7M+0hm59EQR2GiowXvr8jAmVS9FSnuMTdEjOkWP8Roj5u0qhrGyVfkeIcQz5PQRRBHr9TV4f11u9/mXbsRXO4uRVSm3f77bdkLIuaezYDl6nj7amAcR0uVBTwUrPt2I0AQtDhTKE5GyhfEUeUxHm9WOubuKEJqgRXSKXrks2+kOUMffiCQdxqTosTO3TlkOIaR3yPlnsgn4encxRrqZf+FqHcalGbAnr15ZDiEkOOhWsABgW3ZtnwXrIAWrz8hFl3C0HCMTtIhPNyLWjTqJ0xgxNtWAMal65FS3AeCZNCG9xSn/lmVivJv5F+/Iv7GpeqUnn80gIcEBBcsPkIutrNGMOI0BMR3OkN2qB410Jv317mLpTNy3P4cQv0LOv9J6c6/y7uz8m7urWFqeD38LIeTcQcHyA+yOLqfNWbUYlahDfHrvH8wdk2bA+HQj6ttsAHgWTYi7yO3WRkMNItS9bwulca0GTFyehUaTI/98+YMIIecECpYfIF/SSzlegTA3H8ztKsam6pFXI10mZFUQ4h7yCU7yiQqEOi7Pe3KCE59uQFGdCQDzj5BggILlB8iClXy8oscHc/ckWLnVHAdCSG+QBSulD4I1Lk26o1pf0QKA4yAJCQYoWH4ABYsQ30HBIoR4AgXLD6BgEeI7KFiEEE+gYPkBFCxCfAcFixDiCRQsP4CCRYjvoGARQjyBguUHULAI8R0ULEKIJ1Cw/AAKFiG+g4JFCPEECpYfQMEixHdQsAghnkDB8gMoWIT4DgoWIcQTKFh+AAWLEN9BwSKEeIJXBSs2zYA4jdERBkzIMGJUohaHKFh9goJFiO+gYBFCPMFrghWnMSImVXpqfLhahwi1DqOT9Xjmx9PYl18PALDzqO4RFCxCfAcFixDiCX0WrFjH33C1DhMzjJi3uxiakxVYo63GGm010k9WoqTe8YBTSAd2QRT5NPleQMEixHdQsAghntAnwYrVGDA21YAxKXqoj5ajtsXa5YpkuXJ6jY2MW1CwCPEdFCxCiCf0SbBiHH/3F0hjrNqsAtZqq/Hl9kJ8sjkfn20pwKdbCvD5lgJM3yrF7J1FWKevQavFDgDsyXIDTwQrNs2AeMd4uFiNVK8xaRQsQnqLJ4IVq+mcf+PSKFiEBBMeC5b0OR22Z9cCAE6dacJrK7MRrtYiIkmHyC4iIkmHUWot3l6Ti+wq+WDP1qY7eiNY0o0GBkSn6BGWqMWoRC2iHGUfrtYiu6oFItjAE+IuvRGsWEfbKOdfWIf8i1DroC1vZv4REiR4JFhxGiMik3SYub0QAJBf04bYNANGJ+sQn95+F6HrMCI+3YioZB0mZmShuM4xPosNTpe4K1jSJVs9IpJ0eHtNDhKOlmOTsRaHChtxsLABBwsa0GK2K8uVxsOxF5GQ7nBXsGI1BoxN0SMySYd31+Zi2ZFybDTU4FBRe/41mWzKcpX8YwISEpB4JFixDsE6VNgIAJixrRARSTrE92KurHiNEeFqHb7aWcxGpgfcEaxYjQGjU/R4ebkRW7NrO02JIf/PZBXQYrHDYhec32f5E+ISdwRL7rV6eXkWtmXXOp20dMwtk82RfzbmHyGBTq8FK9YxWPrl5VloaLPiTIPZqXu814M/Uw0ob7QAYCPTFT0JlnxJ8M1V2civaQMAFNeb8POhMnywIQ9vrs7BG454a00O3l6Tgylrc/H5lgJsMHQYD8fyJ6QTPQlWrEa60Wfyyiyn/Ft6uAzvrsvtMv9mbCvEen0Nms3MP0ICkd4LlsaA0cl6vLE6BwCwr6DB45ne5WUdLpJ6wjguwTU9CVaMoyyzKqUxbRsNNYhJNWCUWovRyTpEp+g7xehkPaKSdAhL1OKDDXnIcxwY2MgT4kxPgiXnX061lEPrdNWISTU45gLsJv+SdRiVqMU7a3NRWm8GwPwjJJDwWLDeXiMJ1mZjLUZ6eOuyvKz2R+n4rBwGNN0JVpxGmoMs+VgFAGBPXj3C1VrlMqx8B1NXEZ8uXe6dvDIbtS1WiLxcS4gT3QlWnMaIcLUWiUfLAQDbc+owKrH3+ffW6hzUtFhdTmdDCPFPKFh+gDs9WJVNFrRa7Ji8IhtjUvS96lEcn27AqEQtlh0pd1ofIcSNHqxUPSqbLGg22zF5ZTbGpPY2/4wIS9Ti50NlAPhIMUICBQqWH9CVYMkD2z9YnweIwJHiRoSre3+5Vh6g++bqbDSbpbucWBWESHQlWHL79dHGfADAgcIGhHkwEXBsmgFjUgx4a00Omph/hAQMFCw/oCvBinPciTl3VzEAIO1Ehcfj4eSGPscxNxnrghCJrgQrTmNAZJIOX+0sAgBoTlZ6dIIj515Mqh6FtdK0Ncw/QvwfCpYf0JNgzdstCdayI+WI8LCBH5dmwLhUgzL5K+uCEImeBGuOFwQrTmPEKLUORiX/mICE+DsULD/AXcFKoGAR4nXOlWCFq3XIomAREjBQsPwAChYhvoOCRQjxBAqWH0DBIsR3ULAIIZ5AwfIDKFiE+A4KFiHEEyhYfgAFixDfQcEihHgCBcsPoGAR4jsoWIQQT6Bg+QEULEJ8BwWLEOIJFCw/gIJFiO+gYBFCPIGC5QdQsAjxHRQsQognnHPBinUsI05jQFy6AWNS9DhEweoWChYhvoOCRQjxhHMmWLJUjUnRIypZj8gkHaKSdQhN0GJ/QT0AHtS7goJFiO+gYBFCPOGcCFacY5mRSTpMWpGFaZvyMWdHEWbvKMKMbYXQlrdAEAG7IDUsbFucoWAR4jsoWIQQT+h3wYrVGBCh1uGjjXnYl18Pk01wa8NEEWATI0HBIsR3ULAIIZ7Qr4IlN0BLD5fB5mikCmpN2GisQcqJCqQ6Is0RqScqsMFQg7yaNmUD2cz0n2ApY+HkSKNgEXI2/SVYHfNvfLoRkUl6ChYhAUS/CZbc+Pxw8AwAoNFkw6K9pYhJ1SM0UYswFzHK8XdcmgEL95agyWwDQMnytmDJ70cl6xGh1rVHog7GyhandRIS7HhbsOI00s0+HfMvKkmP53/OhEHJPyYgIf5OvwhWrMaA6BQ9pqzNRbPZjhaLHR9tzFfkKV5jRFwXEa8xYpzGgNBELT7ZlI9msx0igluyvCVY8h2cEWodxqbq8f76PEzfVojpWwuVv4W1JtgFETZBhJ3j4QjxmmDFOiIiSYcxKXp8IOfftkLM2FaIjzblo0DJP4H5R4if0y+CFec4iG801AAAfjx0BqGJWozvxVxZ49ONGJmgRcKRMgDB3aPiDcGKTTMgJk2PqCQdFu4tUS4FuksQFz8JcrwhWEKxGJUAACAASURBVFL+SW3n/N3FyKp0P/+C/QSTEH+l3y4RjknRo6LJgoY2G+I0UuPSm0GfsWkGxKQa8MryLFQ1WwAgaM/mvCFYMQ7B2pZdpyz3eGkTko9XYNmRciQclSLxWDnUx8qReLQca7TVKKjleDgS3HhDsGLSDBibqse2rFplucdKmqA+1p57Z+ffKm01CuuYf4T4K14XrFiHXL2+KgcWmwBdeQsiknSI9fDOmki1DsdLmwAE77iEvgpWrMaIyCQdtjga97zqNny0MQ9RyTqEJWoRmuA65EuJSw6eQZvVDoCNPAk++ipYsRojRifrsT1byr/c6la8vy4XUUnd51+4WodxaQb8fLgMrXL+MQEJ8Ru8L1jy9zflQwSwM7fO6fu9iXjHZcKDRY0AKFieCFasRhrzIR8E8mvaMCHdqBwI4jRGxKdLY9+cIt2orGdkghbzdhfDahcpWCTo6ItgSZ/RY+4uKUcL6kyOOwY75J+rcORfrJx/u4phsQsULEL8iH4TrGmb8gEAW7Jq+yRYoQlaHKJgAfBcsKJTdDh5phmCCHyyuQARSb17dqQkupnYZKh1bE9w1gMJTvoiWLEaA6KSdNBVtEAURXyyKR8RSbpePVosPt2IsEStMqZVZP4R4hf0u2BtpWD1GU8FS76b87WV2bAJInQVLRidou/15drYNPmu0BxY7NJEscFZEyQY8VSw5LZyytoc2OwijBUtGJ3sef69szZXmU+QEDLwoWD5AX0RrKgkHT7bUgAAWKOtRlgvHsx9doxNNaCkwQyAY0FI8OCpYMU5Ls/L+ac5WSnlrwf5F5Mq3Vl9ppH5R4i/QMHyAzwVLPkAIL+vPlbu9H1PBCu3WrqrKUirggQhfRWsz7cWAAASj5Y7fd+TMFRwImBC/AUKlh/QV8GSB9h6Q7DkxxgFaVWQIMRbgqU+RsEiJJigYPkBFCxCfAcFixDiCRQsP4CCRYjvoGARQjyBguUHULAI8R0ULEKIJ1Cw/AAKFiG+g4JFCPEECpYfQMEixHdQsAghnkDB8gMoWIT4DgoWIcQTKFh+AAWLEN9BwSKEeAIFyw+gYBHiOyhYhBBPGLCCFZsmPRoijIJFwSLEh1CwCCGeMKAEK05jUB6EOiZVeijqiGWZOEjBAkDBIsQXULAIIZ4wIAQrTmNATJrUGEUm6RCTasDkldl4Y1UOxqUacLSkEYII2AQRgggEW9tCwSLEd1CwCCGe4HPBinN8flyaAd/uL4W2vBn1bTaYbQLMNgFtVsHlhgdTbxYFixDfQcEihHiCTwUrTmNAZLIOH27IQ1Zlq7JRZY0WZJY143RZMzLLmnHyTBOOlzbh1JkmFNeZYLG5lq5AhYJFiO+gYBFCPMFngiX1XOkwbVM+ms12AMCOnDq8ty4XY1L0iFDrEJGkUy4byjEmRY8P1udhR06d0w8RRRE2mw2CEHjyda4FK9axbFmq5IhOoWCR4ONcC1asxnX+jU2lYBHiT/hMsGLSDIjXGFFSbwIALDtShrBEHUan6B0HeGlZHUN+bXSKDmGJWvx8uAyCKLo82AuCALvdHhDCdS4FK05jwJgUPcLVOoxLk+7klCNOY0RudRsEUYTdMR6OkEDnXApWnMaIMSl6jErUIibVOf/Gpxuhr2iBIIrKeFRCyMDFJ4IVrzFgVKIWy46UKesITdAiziFRPXWTx2kMiHPMkbXJUA0AWLtuPRYvXozc3NxOP1KWLX8VrnMlWPLnJ6/MRvqpShTVmdwa68aGngQy50qwYjUGRKh1eGNVNjJOVSK/pg0i848Qv8V3PVipemRXtcJiE/DWmhxEp+h7NVdWbJo0lcPk5UbYRWDTxvVQqVQ4//zzce+992LKlCnIyMhAcXFxpx/dsXfLnQbM15wLwYrTGBCu1mHhnhLUt1kBAK1WO3QVLTh5phmnzjTj5JlmHC+VxsMdK21CVlUrbHZp4/ygGAnxiHMhWNKy9Fi0rwRNjiETLRY79F3k39GSJuRUtSrbxvQjZOBxzgUrNk26BDV5ZTbMNgHGihaMTdV7NOAzVmNAVJIO+oo2CHYbJr06GbfffjtCQkKgUqmgUqlw2WWX4f7778fUqVOxY8cOlJeXdyoEQRCU8VsDUbj6W7DiHGfOC/eUQHRMh6E+Wo7XVmYhIkmH0ARteyRqEZYo/R2boseHG/Kwv6ABACWLBCb9LVhy/i0+cAYAYLEJUB8tx6srshCZpMNIF/k3MkGLmFQ9pjL/CBmw+FSwbHYRx4qbMDpZp0ww2lvBik7W40BBvfKD7HY7Tp06he+//x4RERG4/vrrFdlSqVT4zW9+g0ceeQTTp0/HoUOHUFtb26lQOgrXQKA/BStWY0B0ih7vrsuF2SagyWzDZ1sKEJaoxRhHr2J8uhHxms4RmybtC+FqHdZoq522lZBAoT8FSxpTqsc7a3NhstrRYrHjsy0FCE3QYkxqN/mXLuVfVLIO4WodVmZWAaBkETKQ8LlgHS/pm2CNTtbjcKF0Bme12Tv9QLPZjH379uGrr77CiBEjcOmllzoJ1/XXX4+XXnoJ8+bNw4kTJ2AymTotw9fC1Z+CJZ8973TclfnDwTMITdBifLpUV+6Mh5PHjhwvaXLaXkICgf4UrDiNERFJOuWu6B8OnkFoohbj041utYlxGilPI5J0OKbkHxOQkIFAQAjWIYdgCaI0XUN3dxA2NjZi9+7dmDp1Kp588klccsklTsJ16623Yty4cViyZAlycnI6fV8UxXM+YL4/BWtsqgGvLM9Cq9WO8kYzYlLb68ndepDnM/tsSwFsguu7OgnxV/pTsMamGjAxwwizTUBpgxljU6W7qHuXf0ZEJukxfaucf0xAQgYCASdYZyMLkc1mc9nwVFVVYfPmzXj99dfxr3/9CxdddJGTcN1+++2YNGkSNBoN8vLyOn2/o8z1l3D1l2DJdfXpFqmuduXWOR0gehNj0wyYmJGFMw1mALxUQQKH/hIsOf8+2yK9vyWr1qOJgGPTDIhxiFpFkwUA84+QgUDAC9bZdBQuVxQVFWHFihWYOHEi7r33XifZuuiii/DHP/4R7777LtatW4eioqJO3++PAfP9JVjy9+X3U09UOH2/txGTZkB2VavTNhPi7/SXYCn5uVv6fuqJCo9PcOI0RkSodciuZv4RMlAIOsHqiCiKPQrX6dOnkZycjOjoaNx8881OwnX55ZfjX//6Fz788EPs2rUL1dXVnb7vDeHqb8Ga7/j+0iNlfRKscWkG5LCBJwFGfwvWV7uk76f1UbDCKViEDCiCWrDOpuP4Lbu984B5q9WK48eP49tvv0VoaCiuueYaJ+G69tprMWzYMEyfPh3Hjh1Dc3Nzp2V4MmD+XAnWMgoWIZ2gYBFCPIGC1Q09DWg3mUzYv38/pk+fjueeew5XXnmlk3DdeOONGDVqFL755hucPn0aVqu10/LdeaQPBYsQ30HBIoR4AgWrF8hC1NWA+fr6euzYsQPvv/8+Hn74YVx88cVOwnXTTTdh/Pjx+Omnn5Cdne1y+a6EjoJFiO+gYBFCPIGC1Qd6Eq7S0lJs3rwZkydPxn333YcLL7xQka3zzz8fd999N1577TUsX74cBQUFnb4vL9tml8ZvUbAIOfdQsAghnkDB8iIdhcsVubm5yMjIQFxcHO644w6n3q1LL70Uf/nLX/D2229j69atKC0t7fT9pGPlCF16ErFpeoxL01OwCDkHULAIIZ5AweonOo6v6kq4Tp06hR9++AFjx47Fdddd5yRcQ4YMwaOPPopPPvkEe/ftQ31dHTTaeoxZWYqJqwoRm56F2DQDRiWcxtydhQAoWIT0BxQsQognULDOET3doWg2m3HkyBF8/fXXGDlyJK6++mon4brmN7/G/Y8Ox1/C3sKzM9IxJukUJq4qwNiVJVh0sBIAsOzQGYQnnEZsmo6CRYiXoGARQjyBguVDupuyoampCQcPHsQnn3yCp556ClcMGeJ8SfFX1+H2fz+L+6I/wnuJ2wGISNM2YOzKYkxYlS+VT6oWEYmZ+MrRw0XBIqT3ULAIIZ5AwRog9DRgvrq6GtN+WIH/HRqN6++6H+cPbn+kT4hKhf/53W148NkIPPjKLIyYtwGxGiNeWVeCscsLsWB/BQRBxLLDpQhbdlp5zhkFi5CeoWARQjyBgjVA6ShccgO/XN+EMStLMGFFLkIXbsMTU77B3U+NxrW33Y4LLviFIlyDzjsfV91yO/70dAz+/cZCTEs/CABYldOGKE0exq/Iw7hUPcal6DAqMRPzHA08BYuQzlCwCCGeQMHyA+yC9Egf9dEyhC49hdg0A+JX5OPlNSUYs6II83YVIzvLiFe++B6/e3gELr/mJudnKF7ySzz04L/w36hX8MT7PyHyhwOIy8jFpA1lGK3Jw4J9ZRAEET8dLEZ4YibiNHoKFiEOKFiEEE+gYPkBriYajUnVITZVj1EJp5VpGjIMLYhOz0dsmh4vzF6Df4ydiv958BlcMuTXTsJ14aVX4OY/P4j7QyfjiY9TMHOTAQCwPNuE0Zo8xKdnISZVh5gULWJSdRQsEtRQsAghnkDB8gN6nsm9CIIgYOnBUoQnZCJOY8D4lQWYtKEMY9JzMWtrLo4cPoyI1z7ETfc/gYsuO2vA/BVDEBkRjrDXP8WwzzUYm3Qa41cV4uV1pRi/UhowH5PinnBRsEigIQtW8nEKFiHEfShYfoDgGPS+WluN0EQt4t2YyT0mVYfYFC0i1FrM2yNNWroq14yIlGxE/3wIwz9Jwl9emoQb7vkbfnHJZU7C9curr8Mdj76If8V9ihe/WodxaUZMWF2MiWtKEO8Qrtg0PeI00jZ0jFw28CTAUMZAnq6U2soBIFixZ+Xe+PQsRCbpeYJDyACCguUHyIKlq2hBdLJeKSu3Z3LfKfVwLTtcglEJmRi/PBfjVxXilfVliErJwqcrjmL3zh14Omoirv7dPbjgokva71AMGYQrrrsVf3gsFI+8NhehC7YgVpOF6LRshKt1GJWoRViHMFa2QARgF4BAqg5R9GL4+sf0AyK8W0YDCbldySxrxuhkfaf8OpeCFauR2tCoZJ1T/oWrdXj2p9Mw+DL/RAEQ7ABEx79t0l9RRGDu9YR0DwXLjxBEETO3FyJcrUV8eh+eRei45BebIjXQiw5UAADSja2ITM1C2KJteOS1ebh7aBSGXP9bhISEtPdwDTofV//2boyeOh8rjxcjs7wF2VWtyHKExS6ctc0D74DZG4R+2nhBFP26XGRE9F/eCaI4oA7Lgihi+tYCRKh1jvw7t4IVpzEgOkWP0ck6TN9aiPW6augqpPzLrmqFobJz/p0zYXVnJbJwDahaJaT/oGD5CXL7VVxvwqQVWQhX6xCfbkRkkh5f7+nbswjn7SqE3W7HzwdLEJGoxYSVeZi4pgQT1hQjVmPEC3PW4uFXZuC2B5/Hnff+HzQpSQCsAKTLJxa7oEST2Y4Gkw0NJhvMNqHT9vsLHbdXFIH6NhvyatqQ34fIq2lDdYtVueR09nr8jY7bbhNEVDVbkFvd2qfyKahpQ32brcv1+Ap5E87Um/HqCqn3Nl5jxOjk9vzqT8GK00i9Vm+vycGxkiZluzrmn9UuOuWf6VzlnyitR6jUwbr9XVhWhsOyejRs+2ZAKNwNsa3G9fcEOyA6erwICUAoWH6E3EiWNJgxc3shYtIMeP7n05ixzbvPIoxNcwxoT5EGtE9YVYDY1aX4cEspatqkxjSzvBXzdhdj8sosxHQaG2JAXJoB763LRcLRcpQ1mp22f6Ajb6bVLmJLVi3eX5+HqCQdRifr+xTRyXqMUmvx7tpcpJyoRE2LJKmCH142lOuyvs2G9JOVeH1VNiK9UEajk/WIUOvw6eYCrNFVw+KQhIGQ20r+1ZsxY1shxqbq8eLSTHy2pQBA/wlWnKOdm7I2B5VNFgDAidImzN1VjEnLsxCTKn0upmP+aQx4d10ufj5c1r/555Are/Y6tC24FW2zLodpzpUwzb4CbbOHwDT3Wpi+uwuWFeGw7v8S9sLdEC1NLpYjSrIl2v2noSCkByhYfkbHn5hb3YoVp6uwPacOQP897Hlsig5xqVoU17YBANKOlyMySYfwJB3GpuoR42jcz47oFD3CErWYkJGF02XN0vYP8DpSeioazHhnbS7C1Tp8vqUA6/Q1OFrciOMlTU5xrJexVleNz7YU4NmfTmFiRhaOl7YfbAZ62cjIl02PlzRhYoYRo5P1mL+7GFuyanGspAknPCyj4yVNOFLciIxTVZiyNgfDfziFDzbkoaTe5Fiv78uo4+qzKluxWluNrdm1APpPsGJSDZiQYUSxoxySj1UgKkkag9Vd/o1x5N/EjCyccOxn3i0/aWFiUxlM3/4Bprm/hmnRb2FacGt7fH0zTPOvh2nOlWibeRlM82+AacmfYFkVDduRBRCK9kA0NbhYtCxbgu8rnRAPoWD5IV21N4lHy53K2huCJX8m5bg0TmujoQahCVrlLqbYHuonPt2I6BQ94jUG5QAxUOtJHorbaLLhnbW5CEvUIiJJh8UHznh9XYeLGvHy8ixEJumQcboKNkeh9NeYL28hb15+TZs02NrRa7VWV+3d9QDYaKzB6GQ94tON2J1Xr7zn6/2nqyrSnKzodILTV8GK1xgQlqhF+inpge6bDDUITWzPv27bx7SO+WdEUZ2p2+3vNYL00HrbiR/QNmsITAtvg+nrm1zEzZJsye/PuxamOVehbealMM2/EeYl/w+WVaNhO/kThDNHIJqbXa+LwkX8DAqWHyOKgF0UYXM8LNrbghXrOBOOSzOitMGMZrMdryzPwthUfa/qKz7diFFqLRbtLVEkZiAit9tLDp7BqEQtTpY2Y52+GqEJWkxakY2TpZ0vbdS1WlHdYkWNm1HdYkVtixWtFjtOlDbh5eXSOLrZO4pQ7riUAwzgMoJ06XTqxny8siIL2VWt+OlQGZ5fehrTNuUrB3EZmyCitqW3ZWRBXasVrVY7NhpqMDZFjzEpevx8uAzNZumgPhCOse35J22MtwUrNs2AcamSZJU3Sfk3aYWUf72ZKyvekedf7y6RtttrBSDVhXXb25IsdSlYroTrlvbPz70GpjlXO3q4boR56T9gWTMGtuM/QKg4CdHS6nrdgnw5cQDsDIS4gIIVAMi9Hl4XLEddTlmbCwDYk1fvWH73Z86uIibNgPHpRtS2SuOOBsIBsiPy9pQ3WRCh1kF9tFx5z1jZinfW5WLEskwkHStHXZsN23PqMG1jPuLSDMr4KvfHGekQlSSNb4tK0iE0UYsXlmYiXmPEZmOtsi0DrIiU/exocSNeXJqJ/fntl3b2FTQgPt2IqCQdtmbVoq7NioxTVXh3XS5iUvUel1FsmgHhai1CE7R4YelpvLU6B0eKGwHA5UPRfYHc7nhdsBz5N3WD1Bbvy29AZFLv28rYNAPGphowMSMLdd7MP8f4K+vmydLYq4W3uilYZ8vW2cL1G5hmXwXT7CEwzbse5sRHYF0fD9vJZRCqDRAtLa63RblLkZCBAQUrAOhvwXpnnSRY63Q1TnXda8lKNSCvRhrHNUCOjQpyGW421iAySY8zDWaph8KxU5msApKOVSA6RY+YND1GJWoxdUMeVpyuwuasWmzKqsXmXsYmo/R3a3Ytko9XYPLKbDzz42nM3V2s3AE2kIpJ3pbvD5Ti1ZVZsNgECI5eHACobrZi3q5ijE7WY2yqARFqHWZsK8RaXXWvy6ZjGW1xlNEPB88gNk26sUNzUrpkNhD2o/4SrDiNVIafb5VuYkk5XoGwDhMNexLGSi9OROoVweqid0sZx3UzTHN/jbZZV8A051cwzbsO5mUPwrrlddhPJ0GsyQHsVtfbJtgpXMSnULACgHMlWOv1fRes/AEuWIsPnMErK7Kctq+jQIzPMOKV5Vk4dcbFOJE+0miyIflYOUYmaDFnZxGsdnFADOyWkTfj3XW5mLVDkgI552QRPXWmCeFqHaZtzEdBrcnFUvrGmQYzFuwpwYtLMweMZPW3YE13CFbCUcf3+yRYLU7b3Cf6RbBcxIJbpGUvuKW9h2vWZTDN+TVMC2+FOeEhWLdNgU2bDLE2v+ttlcdwDajTFhLIULACAApW35Elau6uYrzn+L1Ae1NsF0V8vCkfsRojShrax0oJogi70McQRad9d1duHZ7/+bQycHygDXyfvDIbiw9Ij1/qKIC1LVaMTzfigw15aLE4xkrBe2XUsRgSj5bjxaWZOO0QXV/m/rkSrMRgFSyXwnWb9Hf+DQ7huhxts66E6Zv/hVn9OKw7PoTduApCba6rDW/v3aJwkX6EghUAULD6jixY83Y7C1bHcUcjlmVib750N5u9H3Y2UWxf38K9JYjVGNBgsinvDRReW5WN7zsIllwUGaeqMCpRpwx0t/fD1Rl5zjCrXcCUtbn4aGO+z8uGgnWOBcvVGK6FjkuK86+H6atfS/NwzRoC07d3wpz0OKw7p8GevxlifaGrH8LH+pB+gYIVAFCw+k5PgvXt/lK8sjwLNrvYr88TtDuWbaxswahErTKgeyDt286C5ZgLCcCUNTn4cnuh4/X+W79cVxsNNYhK1it3X/pqn6Jg+VKwuhnDtVAWrl/BNPtKadD8d3fDkvY0rDs/gj1vM8Tmcte/TeDlRNJ3KFgBAAWr73QlWIBUvlM35GHBHsdt7udg201WARMyjMo4o4F0mbCjYMk9eXWtVsRrjFirq+7X5xMC7eVfWGdCZJKug4T6powoWANJsM6+nHjWoPn518M05yrpLsU5V0vCtSIUtr2fQyjY2fVjfUQ+1of0HgpWAEDB6jvdCZZdEPH22hz8eFCacPRcbfvEjCwsO1wGYOALVmWzBePSDNiRLT1V4FwIVlWzBaPUWux1TEJKwaJgudfDJd+heIskXLOHSHcpzrsOpm/ugGV5KGwH5sBeuAei2dUs8wL4WB/iDhSsAICC1Xd6Eqwpa3Pwgw8EK+GIfwhWlUOwtp9Dwap0CNa+fAoWBauPwiVv+/wbHLPMOyY9XfxHWFaEw3b4a9gLd0Js42N9iPtQsAIAClbfoWC5DwXLGQqWPwuWK+G65azH+lwtzVQ/93qYf7wPltXRsB1fIj3Wp6vnKHIMFwEFKyCgYPUdCpb7ULCcoWAFkmCdLVsdhGvBzcpjfUyzLpeE6+e/w7o6SnqsT5UWornz47TkRwr5HaLYfVAee4SCFQBQsPoOBct9KFjOULACVbC66N1SJj692fFYnyulQfPzroM54d+wbIiH7fiPECozlQdi+5WM9CaPOFN+t1CwAgAKVt+hYLkPBcsZClawCJaLUO5QvKVduGZdIU0NMe96mFOegt24qmOheaHgzw1ifSHEunzXUZ8P2M09LyTIoWAFABSsvkPBch8KljMUrCAWLFfCpTzW52ZJtGZdDuvWN/1g5nhpu8TGEljSnpYuiy76H5gW/d45vvkfmBb+DuYfH4C9eL/jq176TaLYXk4uY6CWnWsoWAEABavvULDch4LlDAWLgtW1cDnuUJx5Kazb3nYqtwGH43KmdfNkmL64UBLE+Te4jq9vhmnWZTAnPuL4nhd2KHfHqg3U8nMBBSsAkA8sCRQsj6FguQ8FyxkKFgWr+3BMBTHzMtgNGY6yG4AD3x2CZVk5UhpXtuA2adtdxYJbpDFnP/w/iG31jgX0facSzc3Spcn6IudoKIJYVwCxpbrP6ziXULACAPl3p5+spGB5CAXLfShYzrTnHwXL9zIzQGPBLTDN/Q3My/4NWNvkAvRCJXgRWbBWhUvjyBZ0U5+OOyrNP/yl74LlyFvbiR9h/vEBmL67C6Zv74Lp2zs7xF0wfXMnzIv/BOvez/xmVn0KVgAg/+6jxY0ULA+hYLkPBcsZeb3HShoRrtYpAkTBYjjHzTDNvRb2wl2O8htgvViKYI3qhWD9X98Ey7EPCTU5MM2/Eaavrpb+zr/eRdwgzUs283LY87Y6vj/AyvAsKFgBgPzw4TarHe+uy8XoFD3iNRSs3kDBch8KVuftEQG0WOx4a00ORie35x8Fi9EuJbfANPtKWA99LZWfYPNCJXgRXwpWyUHpkuSCm2H62nGDgKtYeBtMc34F24F5TtssJaG95zjHvV6q9RSsgEA5iy5uRFSSDmNT9RifbkRUsg7zdlOweoKC5T4UrM7Iv/dwUSNGJ0v5NyFDyr/p2woAULCCPhbehrYvfwnrrvcdOw0FSxGs0qOO9d3okKnuJPUq2A7O77DNA6dtPBvVtuw6RCZ1PqhSsPwP+QCzO68eEzKMiFDr8NIyLWbtkBpwClbXULDch4LlGnn9e/LrMSHdiIgkHUYsy1TaQgpWkIciWB84dhgKVrtgHfFQsKQyFM1NEIr3QijZ5zqK90AoP95xxR4WUu9QFda2YXy6ETFpzgdVCpZ/IhdBZZMFqzKr8OmWAixzHKQpWF1DwXIfClbXdMy/NdoqfLa5AN/ul8qKghXkQcHqTF8FSxQgNlfArH4MppmXwTRriLTtHWP2FdLrs6+Cddu753QuMpUoAnN2FmGUWofx6RSsQKCrckiiYHUJBct9KFjd09VvTz5eQcEK5qBgdaavggXAduInmGZeCtOi30r74Nmx4FaYFv7WMX/XTRAbih3r7v/2QgUAZY1mTFqehcgkHcZnGBGdYsDHmyhY/owoSuUhioDdUS4UrK6hYLkPBatnOuafzVEYFKwgDwpWZ7whWEe+hWnOrxyz53dV/jdLdyd+878Q6/Ic6z4HgiWvo6DWhHfW5iIySY+XlmXinbWSQFGw/B+BgtUjFCz3oWD1DjsFi0HBco03BOvod9LDtnsUrBtgWvR7iHX5jnWfox4seT0mq4DdefX4ek8Jfj4sNewULP+HgtUzFCz3oWD1DgoWg4LVBcEgWN2ta2tWbae7DClY/gUFq2coWO5DweodFCwGBasLgkWwAKl4BFFqqOyO5ylSsPwfClbPULDch4LVOyhYDApWFwSTDSfb5AAAIABJREFUYHVETkAKlv9DweoZCpb7ULB6BwWLEVyCJUr7RnchQ8GiYPk7FKyeoWC5DwWrd1CwGEEjWB3lqVsct9hSsChY/g4Fq2coWO5DweodFCxGcAiWQ66sJoj1RRAbSyE2lLiI4vZ1UrAoWP4OBatnKFjuQ8HqHRQsRnAIFiAU7YF56T9h/v5emBf/GebFf3KOJX+G+bu7Ycl4EWJzhZLMFCwKlt9CweoZCpb7ULB6BwWLEdiCJeW8aDPDnPAQTLMulWRm3nWuY/6NMH1xIaw7P2xfNQWLguWvBLpgiaIIsY8LpGC5TzAIliC4O5akZyhYjP4ULK/tq30VLFMDzD89ANO8ax2PqLnZdSy8DaY5V8GS8Vz7qilYFCx/JZAFq6NY9aWhoWC5TzAIFuC9AxcFi9GfggVI+2pfTzL7LliNMP/0N5jm/qZ72VlwK0yzh8CyfET7qilYFCx/JZAFy263Y86cOcjLy1P+79FyKFhuE6iCJQvV6tWrkZ6eDgCw2fp+EKRgMbwtWLJMZWVl4eOPP5YW11fJ8opg/bUXgvVi+6opWBQsfyVQBUtuTJ566in87ne/UyTLk4MiBct9AlWwZDlPSEjAL37xCyQnJyuv9+XARcFieFuw5JOB7OxsqFQqfPTRR8rrHu+rFCyvQ8EKAgJdsCIjI6FSqfDb3/4WOp0OQO8li4LlPoEuWOnp6VCpVAgJCcF3332nvOfpgYuCxegvwcrLy0NISAhUKhXi4+Pbq8aTfZWC5XUoWEFAoAtWWFgYBg0aBJVKhRtvvBG7du0C0LvLhRQs9wl0wUpLS0NISAgGDRqEkJAQfPbZZ8r7nhy4KFiM/hKs3NxcqFQqnH/++VCpVBgzZgzMZrPTZ9xfKAXL21CwggC5XNQBLFgqlQoXXHABVCoVhgwZgh07dgBwvyfLnwXLbrfDbrd32aAKgqB8xhWiKCrvuyMQwSBYKpUKgwYNUsT9/fffd6y793esUrAY/S1YISEh+MUvfgGVSoVhw4ahtbXV6XPuLZSC5W0oWEGAXC5pJysQ5keCJYoiBEHoMmSpCA0NhUqlwnnnnaccEC+55BKkpKQAcE+y/FWwzj7Yn92g9vR/V7LQk0D4s2B1tz9ZrVYIgoDU1FTloBUSEoLzzjsPKpUKcXFxyhiX3hy45DJSH6NgBXX0UrC6a/9sNhsEQVDGYMmXCeWerH//+9+orKyU9j93e/IpWF6HghUEyPKwI7cuoHqwZCIiIhTBknse5L8JCQmO9XW/Qn8ULPk3bd26Fd988w0yMzNdLufEiRNYsGABdu7c6fQ9+W9VVRWWLFkCtVoNk8nk9J4r/Fmw3GHFihVOB62O+1ZUVJQi7O72ZMnbtT27DpFJ7W0dBSvIoh+maSguLu5yX73//vsVyXLrhICC5XUoWEFAxwPSy8uzEJOqR6wfCFZbWxuKi4tRVlbmMs6cOYPy8nI8++yzTg1Lx8s7ISEhmDNnDoDuGxl/Eyz5rPTzzz9XfvOll16KrVu3AgCsVisAYMuWLbjkkkuURnjx4sUApF49URRRWlqKO++8U1nG0KFDYTabA1KwRFFEeXl5l/tTSUkJysvL8d1333U6aHXsHRg2bBiam5uVZfa4vY6/tS1WTEg3IiaVghWU0UvBqqmpQWlpqct9tbS0FOXl5di/f7/LfVVuC//whz/AYDBIq+tJsihYXqdHwdpCwQoI5APBam01Ri7LRJzGiPHpA1Ow5B4CtVrdSZx6E4MGDVIOikuXLgXQdSPjT4Il12V1dTWuvPJKhISE4MILL4RKpcLDDz8MoL0MH3zwQahUKlx00UVQqVS444470NbWppTDjBkzoFKpMHjwYGUMx5o1a6Tf3cWlBX8TLLm8GhsbcfHFF3u0L8kxePBgqFQqPPvss8olHLcky/GZVZnVGJnQnn8UrCAKNwSr4770xBNPuJQnd0PO59tuuw3V1dU9jx+kYHmdHgVrZ65ztzYFyz8RRal87IKIpYfLEK7WYXSKHqMGoGDJB3+9Xo+ZM2di9uzZ+PLLL7uMP/3pT06XBs/ucXjooYdQXFzcbQPjT4Ill095eTkuvvhinHfeeRg8eDBCQkJw//33A2gXrL/97W8YNGgQLrroIgwaNAh33HEHWltblWVMnTpVEQf5JoHU1FSnZZyNvwmWjMViwdy5czFz5kzMnDmz0340Y8YMfPnllxg1alS3vQJXX301Nm7c2KuxWCLac3DZkXKMUmsxOlmPCApW8EQvBSsjIwMzZ87ErFmzutxX3377bZf7ase2cO7cue7dwELB8jo9ClZWVStGJ+spWAHGgcIGzNhWiNHJOswbYILVW8aMGdOpp0uWq+HDh6O+vt6xzm7uxPMjwZK2Qfq/3MDKv3/58uUA2i8Ryr2Acnz44YcA2uWpsLAQ1157rfL+X//6VzQ0NHQro/4qWO6yadOmLse13HLLLdi7d6+0vj48SudQUQO+3F6I6BQ95uykYAVF9MMYrPr6+k77qixXF110kdtjUKXtCVLBEgU3wo72i/3u06VgiaK0OLNNwNT1eYhK1iFOY6RgBRCiCNS2WtFgkhI94UiZc135WLDkO7u6CovFAqvVipEjRzodBOW/YWFhSsPS08HQHwVLjsWLFyMyMhJbtmxR3uv4d/Xq1Rg9ejSWLVvmJE7yX6PRiJdffhlTp05FXV2d03uu8GfBstlsXe5PJpMJVqsVycnJLu/Muvnmm6HX6wF4/kims6lrtaLRkX9pJyqcTnAoWAEWvRQsu93e5b5qNpthtVphNBqd9tWOcrVq1SoAvZh0OVgFqx/pUrCA9iQ8XtKIiCQdYlINiE83IpqC5fe4OhgNNMHqibPnwTr//PMVuXr55ZeVg6A7PQ3+Jlhd0ds5moJtmobuOHserJCQEEWu/vKXvyA/P9/pc33B1bZSsAI8+nkeLLnt+9WvfqXc7NKrfTXoBEsqQ5s2DdaNr8K6cXIXMQm2Y4sBuwWOi/1uF2m3ggW0N2abjbUYm2pARJIOEWod3lxNwQoERLFdLvxdsORBnVOmTFHed1c4/FWw5ElC5XlxXCG/39U4DHleHfnOwp4IFsGS96cHHngA1dXVTp/xFvK4LICCFfBxDmZyv/baa3HgwAEAHjyTNdgEC4Dt5E8wzbwMpjlXdRNXwzTjEli3S5MNy/u9O/QoWEC7r+VWt+H7A2fw8vIsvL9eOghRsPwfwc8FKzw8XOkinzVrFoDeP9bEXwXLFwSDYMmXWoYOHYqamhqn972NSMEKjugnwZL31dtvvx1GoxGAZw+8D0bBsiwfAdPsITAt/J30/QW3nhW3wLTwt9Jv/fmvjm95sQdLpmPbZbYJqG62AKBgBQL+LlgjRoyASqXCokWLAHj2zDgKlvsEumBpNBqoVCo888wzaGtrc3qvP6BgBUn0g2Dl5+dDpVLhj3/8I/Ly8gD0YV8NRsFaHeHGb70Fpq9+DXPig45v9YNgAVJSnr1oCpb/48+CJYoioqOjsWTJEgAenrmBgtUbAl2wli5diujoaLdvkOgrFKz/396bR0V15Yv+WZ2kc9O5GXpId6eTdJLu+273+yWru996977O7U5ajSMogjKIAoKgCDiLMqhxnmdUnGdREXGKQxwTpzhEcWIUZ+ZBUSYpqKrz+f1x6hyqBAUVVIrvZ629gKra++y9zzm1P+zpNJPQCIKVmJjIP/7xj4bpZW2OgrXDp/6Cta6FJVYjCZY1RssdKoLV9GmqggXqF01eXp4lzSdPVASr/tirYGkUFBToDVhjyxWIYDWb0AjbNJSWlurb0Dz1tSqC9eIIlkkEy25oyoKll+Epv1xEsOqPvQtW9XGeTZ2LYDWT0AiCpZ+KhrhWRbBEsESwGp6mLlgN8eUiglV/7F2wHmf1acMcT/0pgmXnoZEEq8GuVREsESwRrIanqQtWQyCCVX/sXbCeNSJYzSQ0Yg9WgyCCJYIlgtXwiGCJYD0OIlgNiwhWMwkiWCJY9UUEy34QwRLBehxEsBoWEaxmEkSwRLDqiwiW/SCCJYL1OIhgNSwiWM0kiGCJYNUXESz7QQRLBOtxEMFqWESwmkkQwRLBqi8iWPaDCJYI1uMggtWwiGA1kyCCJYJVX0Sw7AcRLBGsx0EEq2ERwWomQQRLBKu+iGDZDyJYIliPgwhWwyKC1UyCCJYIVn0RwbIftIZprQiWCFY9EMFqWESwmkkQwRLBqi8iWPaD1jBtSMgVwRLBqhMRrIZFy/YmESz7DiJYIlj1RQTLftDq7dCD50oES31PBMsGEayGRaurfWl38F6fTJBFoESw7CyIYIlg1RcRLPtBa5duFlUQEJuinwsRLMt7Ilg2iGA1LNX33316b6q+/0Sw7CyIYIlg1Rfti3WfCJZdoFXd4hNZeMUkERKfRpAIlvqeCJYNIlgNj5bzRT9k6vdfsAiWfQURLBGs+qJ9sR5KL8IrJokgEawmjWIJd+8bGbv3Gl4xSQTGpRKwKZWRe64BIlgiWCoiWA2Poqj33z2r+69vnPr9Nu2QCJZdBBEsEax6nwvLl9n5rBL8axlWEsFqemjVV2owsfxUNgO2XMZjTSKDt6cDIlgiWCoiWI2D9f237GQ2A7depuvKS4z5Vv0uFcFq4kEESwTrcSkxGBmyI12dOyCC1eSxrsK8kkpO3Szm6DW1AduTKoIFIlgiWI3Hg/ffyZv3OH2zGID1CXkiWE056II1Wq0/EazqQ4tg1cRs+bkzqdDS8KYSFC+C1dRRlNolQnqwRLBABKuxedj9t0EEq2kHTQ7OLFLrzyI0LwwiWC+WYCmoXwRVJoXo4+rkzN6bUvGPTWX8fhGspo6iqI1WlUmtWBEsESwQwXpWKIp6XWr3nwiWHYR5H2LOvWBTfy8MIlgvlmBZY1YU9qbeJnznVTzXJjFyj9pIiWA1fbRGVARLBAtEsJ41Wh2LYDXhEP0HKub8CsMmZ4vIaMuKGh+z2YzRaKw7VBowGo3c3+ZF2fR3KJv3CWVRv689zPuIstm/pXzZ/6WqtBCj0UhVWRHlKz6nbPZvKJv38SPifkLZjJ9zP95dP3blrVOW431IWdRHj4j7MWUzfonhh7l6XMPpRZTN+OWjjxn1EWVzP6BswX9QVXhFj3t/m3c9yvoxZbN+Tfmaf1niVdWrPk0mU8MJlkapwURSbhmXckoBOHD5Dr4iWE0aESwRLGtEsJ4tIlhNPGg9K3Pfw5zxg03dvZAcCoCFv4CV/wErPqk9rPwDLH0fYj/HRhTj/gVL34OVf3xE3P+ARb+E/d7V8UrTLMf7GFb84RFx/wiL3oXk5dVx09eprz3qmCv+AMs/gtV/BuWOVVl716Osf4Qlv4WtbR67KhtUsGr7gjuQdlsEq4kjgiWCZY0I1rNFBKupho/Unqt5H3J/5tsYzyywqbfGxmxWj7N7926GDh1KZGQkERERDw/hYUREjmB41z8zrOXLDGv9BsNa/+zh4avXGNbhXcJDBxEREUn4sCEMc/iN+voj477BsJavMNzlfxEROUKNG9Kz7uNZxQ3z+UqNGzmCMN92DGv5Sj3iv86wNm8SPqivWt7IEQzv+r/rUdY3GNbqpwzr+DtLXYU/sh4jIyMZNmwYK1eubPgeLHXeDpgs15AIVtNHBEsEyxoRrGeLCFYTCQs+UutA67GK+p1aL/M/xnh2sVWdPZvr1GRS51RFRkbyyiuv8G//9m+8+uqrdYfX3+TVN37Oqz97px7hbV599afVcX/2dj3j/Vw9jhbvp6/VM54l7ms/q4772s/U1+ob/6c/fbKyvv5Wvervtdde45VXXsHFxaXhBUtDu4FFsJo+IlgiWNaIYD1bRLBe0LDgY3Vy9IKP1RD1njphetYvqYh6H8Py/6Zq/9DnPqndZDJRWVn5GMFApaGi/sE67uPEMxiePG6loWHy+1RxHx2MRqMIllA3IlgiWNaIYD1bRLBekLDgI1upivotFbN+QcXsX1Ix+1cYVvw/Knf1xvhjNOaccyiG4hp1JTQvRLCEOhHBEsGyRgTr2SKC9byCRaii/1DdQzX7V1TMeof7s9/FsPJzKrd1x3gqCnPWSZSywtrr6AWQK0VRJDzjACJYQj0QwRLBskYE69kigvU8hOojKqLep2LOu1TMeJOKOb/BsOz/YNjsivHELMwZxx8uVGaTRazs83oU6o8IllAnIlgiWNaIYD1bRLAaMSz42JJvy0aUc97l/ow3qZjzWyoW/28M8R5UnZyF6fpBlNK82utAEaESakcES6iT5iRYc49kMGqPCNajGLIjneWnRLCeFSJYDdlD9Un1HKr5H1Ix51dq3uf+lopF/0llnCvGYxMxXd6FUpJdS5kVK6myz+tNaDhEsIQ6aU6CtfiHLEJ3pNsspBbBsiVi1xWijmYAIljPAhGspxzy03upPlQnpM/6uTr0F/1HDLGdqfpuBKb0PSilObXPl1JMIlTCEyGCJdRJcxAsrXH+JqkQ/9gUCsuqdMkSwVLRchB1NIOwnVcwmRX9nhPBajxEsB5XqD6xbPCpDvlVzP4lFTPfpiL6PzBscqLqUASmyztR7t0Ek7GWcolQCQ2DCJZQJ81BsLT83CqqwDsmib2ptwFt01wRLOs8HLt+l+5rk0jLUxtrRRHBakxEsB4RFliG/aI/UYVq7m+omP0LdR7Vwj9hiGlF1b6hmFLiMd++XHvBzdZCZZ/XkPB8EMES6qQ5CBZYHr+qwMzvb9F7Uwp5JZUAVBoVwkWw9KanrNLEkG3pjNx9FYNRbWRziw0iWI2ECNYDQhVtmUc1/0N17tSsd7g/8x21h2r1P6jaOxhTShzmguTah/x0oXp2u6oLzRMRLKFOmpNgAWTfMxC0OZXQHemk5ZcDMGrPVX3l3LPIu1lRBSvmbK7l7xejwrRsJGSW4LUukakHb5BXUkmpwUTfuFQOXn52gpVbUomPCJZ9C5bWQ7XgY3UI0LJb+v1Zv6Bi/u8xrP6Cyn1DMF5cgznvEpiqas+nCJXwHBDBEuqkIQXr2gssWIC+QdyVwvv02ZSCd0wSMWdz+XrPVcbtu64uImrE45sVtW5yiw0ExKZwKP2O/vqLgpaXY9fu0m1tIsHxaWy+kE+/+DRWns62+UzjHF9BAc5kFOO3MYUrBeWNfszniXb/rW8AwUp90QVL3yn9k+rNPWf9XN3gM+p3GFb9g6o9wRjPLlYfQWOqrD1f2l5UgvAcEcES6sRasHo8pWBlFFUAL65gQfV1dOPOfSbsv4776ksExKbQNy6VjLsVls80TgG01Yx7Ugrxikniln68RjncE6OVPyGzhNAd6bivTiQgNoXwnVeoqDKrItoIeVaorqMFxzLptyWNiiqz/p49ot1/Wy8V4LM+iaAnEKw+cakEbU7lxp0GvP9sBOudJxMs7fEz2kOS52qPn/kFFXN+TcXKv1P5TS+MZ5dgzr1g+/gZPR8KmI0iVMILhwiWUCdavV7KKcU/NuWxz1XfuFR6b0ohdEc695tIY6iV2WhW2J1cSNDmNHqsS2L24Qy9gTeZFb1H66mDUt2Q5pdW0mdTCrMPZ+jvv4hojXRppYk1Z3Lw35iCd0wyseerN2TUepsarI60azG7FM+1iWy9lG85TuOW9XmilS0598nvv4DYFIZ/c4UqUwNWlGICoOq7SHVSefQf6r/ST98t/T11pd/Mt9XHz6z6Hyq3eanP88s+/Yjd0jWhsuMTLzR5RLCEemM0K4zfd52eG5IfqxcrJF6Vk60XC4DqYbgXHetsXi4oZ8zea7itSWTB8UxKDKZGOWZucSURO68SuCmVrHuGGvl40bC+507cuMfg7el4rk1ky8V8jI10QybnldE7NoWRe65yv8r0QktoQ2I0qfef74Zkgh73/otJ4pvEBr7/LIJlSo5Th/FqFSwroZqvPX7m16qQzX0Pw7L/Q2W8G8ZTczHfOopSXlTLceTxM0LTpNEF6+BlESx7wKwomM1m0vNKCN6cip/lSz5oc10hFa91SUzcf4P7leYm1xgqVF9XZZUmlp3MxnX1JYZsT+e79DsUlFZRXmmirNJE+ROEMku4eaeCrRfz6b0phcC4VH1yfVO4phWlOp95JZVMPnCDLqsuMm7vdU7dLKbo/tPVkRY3Ja+MVadz6LEukchdV7ldpk5obgJV9NRoZbxaWE5gXCp+G1MI2pxav/svJokJ+69TXtlIMlpZjmFtSypmWYYJtVV+CyyPn5n9K4tQ/U59/ExcV4ynZmG+fhCl7HYthZXHzwj2QaML1oXsUnw3VAuUCFbTwWw2YzKZMJlMNv/1Xs4rJWJnOr4bkvGOScJnfbJN6Gn56b0+iV4bk4k6mkFRedNuDK2vre+uFBG+6wo+65Pwj0156hAQm4LfxmR8NyQz/1hGk+i5qg2tjgxGM1suFjBw62V81ic3WB35bkimz6ZUYs7mUlyhbhDZ1OroadDKmpZfzojdV/FdX8f9F6Nen1FHMrjTaPefmqJSmIphbQtVpma+w/2ZP6dizm+oWPQnKuM9qDo+EdOVb1HKanuen4I8fkawRxpNsKz3qgnenEafOBGsFxnF0kNVm1BpXLp0ie+++17/++i1u6z+MYd5xzKYd9Q2LDiWyfqEXJJzy6qP8SwK0ohY57/KpHDt9n0OpN1hV3Ihu58i7Eou5Oi1u+SXVq+IaqrtjHW+K6rMJOeW8W3q7aeuo93JhZy+VayL1YPHai5oRTYYzRy7dpeVp7Nr3Hva/bchIZfUvGdx/2lmXYIpdTtVR8dj/GE6psu7UUpzaz9Rslu60AxoNMGCauFZfioLr5gkQuLTRLBeIDSpMhqNtQrV9evX2bJlC6Ghofz1r3/lpZde4qWXXqKzszOXLl58vGM1VKZfABp1jyeafpvT2GVo7K0yXnSe5Ppr9PqqawWfWYRKaH40qmBpt1JReRXhO6/gHZOkz8UK3XFFBOsZU5dQZWdns3//fsLDw/n888954403dKl66aWX+NOf/kTfvn1ZtWoViYmJVBlNmB62SsyyKs5ez4lWRrOiNFiwt7ZHm7/WcHXUvMXKGrVulYev0lSqV7k+01wpJnWFn9mIPH5GaO40qmBB9a1VUFrJ7MO38N+YQre1iQRtThPBegZoQmU21/wPs6ioiBMnTjBp0iTat2/PO++8YyNUH374IQEBASxdupRLly49h9wLgiAIQtOk0QULbP9/ScwpZfOFfDafz8esQEJGMb02Pv7eLiJYtaPNo6pNqCorKzl79iyzZ8+mW7du/OpXv7IRqnfffRdvb2+ioqI4c+YMVVU1HzuhzdGqLX1BEARBEFSeiWDBw4fez4pgPTEPTkyvjcTERBYtWoS/vz+///3vbYTqrbfeomPHjkydOpWTJ09SUlJSI/6jesAEQRAEQaidZyZYGtqcDG3XahGs+qMoSp3zqNLS0oiLiyMoKIhPPvnERqjeeOMNWrRoQXh4OIcPHyYvr+aSaUVRRKgEQRAE4Sl55oKloT3LTATr0dQlVDdu3GDXrl2EhYXxt7/9jZ/+9Ke6UL3yyiv87W9/IzQ0lO3bt3Pjxo1a09eEqqnssC4IgiAILzoiWC8YdQlVQUEBhw4dYuTIkbRs2bLGSr+PPvqI/v37s3HjRlJSUmpNXxMqkSpBEARBaBxEsF4AHjXPqbS0lDNnzjBp0iScnZ35+c9/biNU77//Pr6+vixcuJDExMQaaSiKYjMxXYRKEARBEBofEaxnTF0T0w0GAwkJCURHR9O9e3d+/etf2wjVe++9h7u7O9OnTychIQGDwVAjjUetJBQEQRAEofERwWpkrIXqYcN+ly5dYuXKlfTu3Zv333/fRqjefPNN2rdvz/jx4zl27Bj37t2r9RgyMV0QBEEQXhxEsBqBuuZRXb16lfj4eEJCQvjzn/9sI1T//u//zn/9138RHh7OoUOHyMjIqDV9mZguCIIgCC8uIlgNQF1ClZWVxYEDBxg+fDh///vfef3113Wh+slPfsJnn33GoEGD2LZtG9evX681fREqQRAEQWg6iGA9AdbDfrUJz507dzhy5Ahjx46lbdu2vPnmmza9VH/84x8JDg5m5cqVD13pJxPTBUEQBKHpIoJVD6yFqrZ5TgaDgTNnzjB16lTc3NxqCNXvfvc7evTowfz587lw4QJGo7FmfcjEdEEQBEGwG0SwaqGulX5Go5ELFy6wePFivL29ee+992yE6re//S1OTk5MnTqVhIQEeQSNIAiCIDQzRLCofgTNo1b6JScns2HDBvz9/fn4449rPNOvRYsWjB49miNHjlBQUFDrMWQelSAIgiA0D5qtYFlPTK+N69evs2PHDgYMGMBf//pXXn75ZV2oXnvtNf7yl78QGRnJ7t27uXnzZq3pi1AJgiAIQvOk2QhWXT1UhYWF7N+/n+HDh9OyZUubZ/q99NJL/Od//ieDBg0iLi6OK1eu1CyP1RwqkSpBEARBaN7YrWDVNTG9uLiY48ePM2HCBBwdHXnrrbdshOoPf/gDAQEBLFmyhLS0tBrC9OBKP0EQBEEQBA27Eiyj6eET06uqqjh16hRz5szB1dWVt99+u8YjaLp3787MmTO5ePHiQx9BIxPTBUEQBEGoC7sRrAd7mMxmMxcvXmT58uX4+fnxwQcf2AjVu+++S5s2bZg2bRonT56kqKioZh5FqARBEARBeAKeu2CdacAerOs3bhAXF0fv3r1rPILmrbfe4u9//zujR4/m+++/Jycnp2aerIRK5lAJgiAIgvCkPDfB0vzlxp0K+j6mWOmCFZeK/8YkcktN5Ofm8Itf/FIXqpdffpnPPvuMsLAw4uPjuXXrVo08iFAJgiAIgtAYPDfBAlBQJ6ZPO3iDnhuSCX6MXqzgzan4bkhm0r5rAMTGbuT9999n8ODBrFu3jsuXL9c4nvXmoTLsJwiCIAhCY/FcBUtTnKu3ywmMS8U/NoXg+DSCNqc+MgRvTsM/NoXesSmkF5SjAFk5OVRUVNQ8hjy+CBC7AAAfUUlEQVSCRhAEQRCEZ8xzFSyoHio8n1XCgC2X8VmfhO+GZPw2Jqs/LcH6NZ/1SfTfcpmzGSU2aYBMTBcEQRAE4fnz3AUL1KFCgKLyKjZfyGfywRtM2H+difuvM8EStN8nHbhB3IU8bpdV2cTVHncjCIIgCILwvHkhBAtq7sJuMiuYFdtgeuBDDfVwZ0EQBEEQhIbkhREsUIf6zIpCXd5kVhSks0oQBEEQhBeVF0qwrKnNn8SpBEEQBEFoCrywgiUIgiAIgtBUEcESBEEQBEFoYESwBEEQBEEQGhgRLEEQBEEQhAZGBEsQBEEQBKGBEcESBEEQBEFoYESwBEEQBEEQGhgRLDvGZDJhNBqfdzYEQRAEodlgNpupqqoSwRIEQRAEQWhoRLDsEO2h1+vXryc8PByz2WzzuiAIgiAIDYvW1p46dYq+ffuKYNkj2kn28vLi9ddfx2QyASJYgiAIgtBYaG3tsmXLeOmll0Sw7BFNsEJCQvjoo49EsARBEAShkdHa2piYGF555RURLHtEE6y+ffvy/vvvi2AJgiAIQiOjtbVr166VHix7RQRLEARBEJ4tIljNABEsQRAEQXi2iGA1Ax4UrKqqKsxmMyaTCbPZLEGCBAkSJEho4KC1tWvWrBHBslfM5mrB+uCDD55zbgRBEASh+bBp0yYRLHtFE6yBAwfyk5/8hLZt29KmTRsJEiRIkCBBQiOF1q1b0759ez799FMRLHvFWrBeffVV/vKXv/DZZ5/x6aef8tlnn0mQIEGCBAkSGjh8+umnfPrpp3zwwQciWPaKJliBgYF8+OGHzzk3giAIgtB8iI+PF8GyV6znYL3//vtUVlbqD342mUwSJEiQIEGChAYOWlu7evVqESx75UHBMplkmwZBEARBaEy0tla2abBjRLAEQRAE4dkigtUMEMESBEEQhGeLCFYzQBOs4OBgfv/734tgCYIgCEIjo7W169at4+WXXxbBskc0wfL19eXtt98WwRIEQRCERkZra1esWCE9WPaKJlLz5s2jZ8+eunAJgiAIgtA4aG3twYMHcXBwEMEShOaIophRlGrxNpvNL0QPp/KY+XhR8i3YP3Vda4qiyD+zgg0iWIJgpyiKgslklC99oVmhXfci3sLzRgRLEJoRWqOTnZ1JRsZN/fWbN6+Tm5P9vLKlk5l5i5x65sNkNHIl/TJ37xYBzWOOoaIodlnOplCurMwM8nJzaryu5bu8vIz0y6lUVNx/1lkTXkAURRHBEgR7Qxv6S0lOZPLE0Rw5fMjyenUjFhLkR/jwgQBUVFTg4epI1JxpAM+8x0vLk8lkIjDAi+lTxtu8/iBa/q5evUybVv+PA/u/tbxuega5FV5UtOvl7t0iJk8czZnTJ4Gnu56t5alHN2cWzJtZI01tYvPeb3fS9qvPuX796lMfV7APRLAEwc7QGoVxoyP4/L//P6ZOHgtUNwTlZWX09vNk2eL5gNpr1M2tIzt3bAWeh2Cpx7t7twifHl3YELP6kfnQXj9+7AiuLu1JTUl65OftBbPZTGbGTe7duwvYR4+dVobS0hIybt3EaDQ+cVra+b944RwObb/gh+NHLa8/uXhraebm5NDJoQV7du8Aqu8lqC7DmlVL8fNxo9iOzo/wdIhgCYIdoU3ETUlOxKdHVwL8PImw9FRpjUJm5i26dG7LN9vjATiXcIZODi05++MpPQ0NbeKu9lMLWm/Yg689mJdHva/FNxrVeWLXrl3Bsf2XHD36vZ7f2tLQ8he3aT1uXTpQWFigp1effNeWhwdDbWlYLwqoLZ6W9qOOXdtxHpWm9rqiKBYRduTg/m9rzWdtZXzwuNp7DytzbTyqrLUd42HxahMO7b2YdSvw9+1G8b17NteWbbpKjXi15b+qqpKK+9XDdPW9FmpLU0v3zJlTODm24vy5szbXrHWv8KQJX9M/2P+h5+XBMgj2jwiWINgR2pf9tCnjGD1qOMuWLiAwwIsqY5X+3vlzZ2n31ecknDkNwK6d23Bs/yXZ2ZnAs+kJqq2xPXvmFJ0cWpCenmbJR+09D5oozpw+ET8f9yfO75P2MDRGz8TD0rQWyksXz+PcqbVeP086b+lx4jR0HT3s9WlTxjF0UNBTH7eh0fKxe9d23Ls6UFCQ/9DP9u3jzYSxIwD7700V6ocIliDYCVpjkJubQ5fObTl96gTbt22mRzdn7t69q3/umx1bcO/qQHaWKlSLF0bRy7cb9++X6+loDURWVibDQ/tx7twZDn93gOFD+zFr+iSK790lJyebpYvnM2xoCEsXz7eJD3Dmx5NMmjCKsGH92bRxHeVlZbb5zMlm8cIohg0NYVH0XObOnkpPL1cK8vP0z5w9c4qJ40YSGTaInTu2YDAY9DRChwQzfkykTR1o+f7x9ElGRAwhNSWJ9etWMTy0P6tWLKG4+J4a3/I5k8nEgf17mDp5LKFDgpk9awp7v90FQEryJcKHDyQ56RIrli1kwrgR+hBWaWkJW+M3Mm5MBGGh/YleMJvTp34AYPeubYwbE0FmZgbLl0YzdFAQW+JjMRqNnD51gmlTxhEW2o+DB/ba1EdZaSmxG9YSNmwAM6ZN1Ic+AZYumU+vnu50c+tE3z7ejIoM5bal5y47O8tSj/1YsmgeubnViwSi589i5fJFJF66QOiQYA5/d8BSr6eZNWMSoYODmTJpDD/8cKxGr451vrbGx1aXdf5sTlvmNxkMBsaPjWTXzm0cP3qYwQMCSUtNBiAvL5flS6MZNrQf0fNnk5V5S09XS/v27UKGDupLT29XvDydCQ7sSeyGNQBMnvg1W+I3cvrUCQYPDOTChQQ9bz+e+oE5s6YSOiSEqZPHsiU+lvvl6vW3YtlCZkyboPcVbVi/mtkzJ5Nx6waLoucwZGBfVq1YQrnl8xonfjiq1smQYKZNHc/2bZupqKgAYFH0HHx6dOHihXNEz59N2LAB7NgWj8Ggvn/3bhE9unVmw3rb4e0Tx48wdnQEIyOGsm/vLoxGY5OY0C80DCJYgmAnaF/qK5cvws/HHcWssPObrXi4OpJrtfpp2ZIFBPh56qudJowdQVho/xrDPgAnTxzjqxb/zbCh/ZgxdTwL5s3C1aU9gwcEEhE2iHlzZzB96njatf6cXTu36fHXrFpKJ4cWLFwwm43rV9PdozNjRoVhqFQFKTUliW5uHYkMG8SW+I1Ez5+Fu6sjA0L8MVkkZkv8Rro6t2PxwihWrVhCpw4tWLZkAWCZR9aru/632UqYAGLWraR9m38wbkwka1YvY+XyRXRyaMGM6RN1gbx//z7jx0Ti5enMimXRxMdtwMPVkeGh/QHYvm0zbVp9ztBBQQwdHMSqFYsBdQVmcF9fggJ92Lh+DatXLqFD23+yZNE8ACZP+JqOHVowelQYC6JmMnZ0OF07t2Vk5FBGhA9hxdJoBvQLUCU3OwuAe3fvMmhAH4L7+rI5bj3hwwbg5tKBa1evAHDs6PeEBPkR4Ned2I3r2LVzG1VVVVy/dgUvTxe+HjmM+LgNBPh5EhzYk5KSYhRFoVdPD7w8nRke2p/I8MFcSU/jXMIZHNt/yeSJo9m2JY45s6YyZeJoKisrAVsBysnOIiTIj6A+lrKusi1rTk4Wzp1a0yfAi+FD+zFh3Ejy83PJzsqkp5crEWGDiN+8gb59fAjo5cmdO7ctx1DPV/G9u6xeuQS3Lh2YPHE0cZtiuHTxPKWlJbi6tMff15PhQ/sxbkwEN25cA2DJ4vm4dWlP1NzpbN8aR1AfH3x6dKWsrBRFUegf7M/XI4bp12LokGA6d/yKsaMjWDB/FrNmTKJd6/9hS9xGvbzR82fj3tWBBfNmsX1rHAG9PAnw68Z9y1DjqMihuLq0Z9qUccRuWEPUnOm0a/0/bIpdB8DVK+m4dWnP4e8PWt0Dy3Dt0oEVyxayZNE8HNp9yaaN62yuV8G+EcESBDvAerWTV3cXYtatRFEUjnx/kI4dWpBq6VUAiAgbzNBBfQFVSAJ6eTJ9qrpyT/vi135u2RyLWxcHkhIv6vEnjBtJYG9vfXsEgF493Vm8MAqAlJREOnb4F9/u2am/f+7cWTo5tCDx0nnMZjMhff0YNybCpgzDQ/sxMnIooC6Jd+7Umt1W0jY/aiZ+Pm6A2kvXsUMLdu/crpfDmmlTxtEvuJfeQAKsXbMcV5d2ei/WjGkT8PNx587tQv0zwYE9WbRgDgBLFs/Dp0cXbly/pr9/v7yc/iH+jBoRqgtJQX4+Hq6OfHdwn1qOof0IC+1PaWkJAPfuFuHe1YFlSxfo6aSkJFrq4wKgSq+Xp7Mep7j4Hq4u7YmLjdHjjB0dzmgrcQCIGD6Q8LCB+t+XLp7Hod0XJF66SGlpKT26dWZR9Fyb+vl65DDChg2wScdaqrTf798vZ0BIACMjh+plLSzIp5tbR/bv3Q3AhfMJdHVuxzeWBRJ6XsdEMHhAIGbLca+kX8ax/b848cMxQB3+rZ5Ano2rS3t+OH5Ej59+OQ23Lh1syg8Qv3kDLk5tSEtL0V+bNGEUkWGDACgrK8Xft5suw4aKCgJ7ezFpwtd67ydAUB8fZs2YDMC6NctxdWnPtWtX9fdHjxzO2K/D1DQMFQQH9mSaZbGIxvixkYT09QPg+LHDdGj7T/0+u5yWQieHFhyzzCcEmDh+FP1D/K3+kZFeLHtHBEsQ7ACtsYqP34ineyeKiu4A6lYNrb78v/rwVVVVJf6+3Zg7eyoARUW3ce3SnrhN64FqUdHSi5ozjcAAL8DS8JrN9A/xZ1H0XP1zJcXFeHd3Yce2zQDMnDaR4L6++vtms5ni4nt07vgVRw4fIjlZlQutd8ZsNlNWVoqfjzvLly0EYPnSaAL8PG3KuG7tCny8ugKQeOk8Du2+5NLF8zb51fIZOiSEKZNG62U2m80cOriXTg4tKCst5ebNG3Ts8C+OHzusx8/OzsLVuR07tsUB8PXI4YRZerNMJhOKorDv21107vSVvleX2Wzm5InjdOzQgrTUZIxGI97dXVi9con+/rWr6XRxaktycqL+2pHDB/FwdaSgIB9DRQXdPTqzNT7Wprxens6sj1kFQHl5Ob17dWfBvJl6naZfTsO5U2s9XYDsrExd3G7duomTQ0v93KvDmwrjx0bSx9/Lqjfpwcne6jWwf99uOndspfeymc1mTp/6gU4OLbh44RwA+/bupkvntvr8PUVRyLh1Axen1py1zPEDuHO7kM4dv+Loke/0Y2jHOX7sCJ07tiL9coo+THn82BGcO33FtavplnTNlJQU093DiTWrl+n5MRgMBAZ4MWv6RAAybt3Asd2X7LMIYGbGLTxcHW1WyFZUVODn486WzRu5f7+crlYiazabKS8vx6+nB9HzZgGQl5uDe1cHtm7ZBEBlpQFFMbMoeg6+3q4AbIqNwa2LA7ctsj575mQG9uttU6/zo2YS3NdXBKsZIYIlCE0crceh0mAgOLAnUyaPoejObQoLC7hwPgEnx5b68vLc3By6ezjpjUVKciKuzu04eeI4UC0qWiMwbEiITW9HcXExXp4ubNsap3/m6pV0ujq35VzCjyiKQh//HiywNE6asGVlZeDc6SvOnD7JhphV9O7VnaqqKpuhKPeuDhzYpzaMIyOG0LtXd9avW8maVUtZv24V/n6e9AvuBaiTjru5ddSHPq17YO7fv4+neye9F0Prfdm6JRYPV0dMRiNb4mPp0a0zJSUlerykxIt0aPMPLpw/C4CfjzuzZkyy7AyulmPi+FEMD+0HoM/H2rolls4dv6KsrIzbtwtxaPcFe3bv0NM9/P1BmzlvADFrV+Dr7YbJZCIlOZGuzu2YPmUcMWtXsG7NCqLnz6JDm3/qw655ebl0dmzFzm+qe4p27thKl85tWbwwirVrlrN+3Somjh+JQ9svyMrM4OSJY3Ro+09u3rhucy6SEi/i1qUDPTw6szluvT4XyboHC9RVccOGhqhxLWXdtjUO506tyc/PA2DZ0mg83Z1segoP7P8WF6c2RM+fzbo1y4lZt4ppk8fi0O4Lzlvq1mw26/nZuH4Nri7tKS4u1tOI3bCWrs7t9C0pQJ1X5+LUhvT0yzZ7XnVxakPcJlWQTp86TqcOLXTxvnjhHA7tvuBcwo96OpmZGXR1bsfpU8dJOPsjzp2+4tbNG3qa+fl5ODm2YueOLWp9JV2k3Vf/wyn9n5QqAMaNiSR0SDAAc2ZOoX+IPyaTCZPJxJBBfQkJ8mN9zCrWrFpKzNoVeHm6EBk+GKH5IIIlCE0cfULtD0dxaPclHq6OeLo74eneie7uTnTs0IL161YCkJaagnOn1pw6qQrV0aPf4eLUWm+E1WcUWiY3l5Xh5+OmD/0B3Lp5AzeXDpw8cUx/7djRw3RyaElBQT5lZaU4d2rNDssWEJpEnUs4Q9fObbl2NZ2pk8cwyjIUaDSqjdX58wm0b/NPUlMSMZsV+vb2JqhPTyLDBhExfCAjwocQETZI72lYvjSaXj3dbSa9a/lWZa41h78/oOcBYO6sqYQEqUM6s2ZMYtCAPkC1eOzetR23Lh3Iz8+jtLQEty4d2LY1zib9kCA/fbNJPd3ZUwnq4wOoE/udHFvqDTxAXGwMPb1cKS8vt5GXQf3V4+/buwu3Lh3UsoYNJGL4QEZGDGHs6HCuXrkMwLmEH3Fxaq3LH6iLEzzdOzEyUq2byLBBjAgfzPSp46msNLA+ZhXe3V0osQw7WtfRzZvXmTFtAh3afsGI8CH6/CVryeoX3Iv5UTNsyho1ZxpBgT31eh83OpzhQ/vZXIerVy7Bw9WRkZFDq/MVMYRpk8fqw7HWx5o2ZRyD+ve26YWcOX0C/YP99Z5DgK3xsXT36GwzOT0p8SIuTq05dVKVn21bNuHp4aT3uu3ZvQPnTl+RZSW358+dxbH9v8jJyWLrlk14d3fRJRwgwVLX58+dUc/Pt7vo0rmtzT1iNpvpF9yLWTMmAepQ7ehRwwF14n4vXw/6h/TSz+mICPUc7d61XS+/YP+IYAlCE0dRFFAgbNgAIoYP5Py5M5w9c4qEhB85deIYPj266g3lwf3f4tj+S25YGos1q5bi1tWBMqsVfta9St3cOtpMXj918gecHFty6+YN/bVVKxbj3d0Fo9FIdnYWju3/xamTxzGbzXrDFRcbQzdXRyoq7tMvuBfR82fr75vNJnZs24yrczuK7tymvLwcJ8eWHDq076FljgwbROiQkOryY72C8ARdnduRnHTJMqFdbaQHhPjrc82GDgpi8sTRNnsaLV+6AF9vN4zGKq5cuUzXzm1t5gVVVKg9Y1s2b9R7YBTFTETYIEZFhgKwY3s83dw62jxSZdqUcQzsF6Dn1WQ0EhjgxeyZ6hygtauW4d3d5ZHneN/e3bh3dSAz46Ze3hERQ3RRrY2Z0ybYiIsWz3ozz+8O7qND23/yvWV1oSabBoOB7h5ObI7bYFVWhcjwwYwaEaqnM3hAH71OtXQnjBtJ6ODgR5anGoWw0P6MHxtZfe0pqrCMG63O0dN6z6LnzyI4sKf+nEGz2czBA9/S1bkd166pw80LF8zGz8dNv+6WLlmAv283yspK9SNqq2hNRhNRc6YxsF9vmz2rdu3cbqlrddXj6pVL8OnRhXv37up51FbqavdGN7eOLF6k/iNy65Y6/Gw9RCo0T0SwBKEJozWeqSlJdHZsxZkzp2p8ZvCAQMZYJuyuXrmEnl6u+nDMlImj1cnIVr0H1vsuObT7kvPnqntN4mLX0aNbZ5uhmymTxjDEMmn+9u0CXJzasN8y1KelF9jbW/9vv1dPD6LmTLfJ4+KFUfQJ8MJoNGIwGPB0d2Ld2hU1ymIymTBWVRHo30OfI6NPzLfIwfZtcXi4OurL9kHt6VDFT+3pGDKoL2NH206yHxE+hAEh/gB8/90BnBxb2YikwWCgm1tHYi0rwTR6dOusC+y8uTPw9Xa1kZgB/QKYPnWC/vft24V4eboQu2EtoA71uTi14W5REQ+i9fAtXhSFl6ezzXuzZkyib2/vGnFA7WUZNKAPE8ePsqmjBykvL6Orc1sO7NsDVAtWVWUlnu6d2GjZMkHDy9OZ+XPVshbduYOneyd9531NahYtmIufj3utx+OBYcjy8jI8PZz04VxQh3h7ernqK0SrLOkuXDCnxry8lSsW4961gy5Qw0P7EzF8kP7++LEj9AUdWh0snD+bPv49AJg7ewpBgT1t0ly4YDY9unWm0tJLN3HcSL23U2PTxrV07vgVt28XUliYT5fObfXtPQoLCywT/7fUKL7J9OQ71QtNDxEsQWjCaA3V5ImjCe7bkypjlT4PxGiswmw2Exk+WG9Epk0ZxyCLUCmKQujgYCZN+NomLf3Zant24uTY0mZ4ZX7UTAaE+OsCoQ6b9dLTMJvNjB8TgU+PLiQlXuLmzetMGDcSD1dHMjMzAIiaMx1Xl/acSzjDzZvX2bljCz49ujAycqieh/lRM3Fzac8Px4+Sm5vDpUsXWL9uFQZDBUV37tCjW2fiN2/Qj2md7wXzZuHW1YGLF85xu7CQs2dO4+XpzOhRw/XekLWrl+Pk2Iofjh/l1q0bxMXG4OrSXhel1SuX4OnhVGPvrtGjwvD1cSMlOZHLaaksXDAXJ8dWfLvnGwDCQvvr2zyAOszq7+vBujXVsng5LVWdYG9ZYZaTk4VHV0cmTRjFlSuXyc7KYu+enRz+7oDNpqpOjq1ITrrEjevXMJlMnEv4EYd2X7Bm1TIybt0k49YNNsetJy01GUVRcOvSgXWWoWF9+4q1K4nbFMOV9DTOnzvL2DHhdHPrpPe4Wfdgjvk6nJ5ermpZL6eyKHounTu2Yo9lmOva1XQc232p9/JVWWQwKfEiHTv8i6WL53Pz5g0yMm6yNX6TLurW+22pix9aMWnCKG5cv0Z+Xh75BXl06tCC/Rbp09I9euR7OrT9J9u2biI7K5N9e3fR09uVyDB1XlOloZI+/j1YsnieXpbevboz0zIBXquDUZGhuoTt27vbMtdtO1lZmezetR1vTxf9H5Kqqip69XRn2NB+ZGVmkJuTzbYtm3Bs/y82WeZ9JZz9ka7ObTmfcEY/7uSJX9OjmzNnTp8kLzeHcwln2LRxrc1KRsH+EcEShCaK1khdv3YFJ8eW+nBF9VYLaoMydfIYPD06UVlZSUiQH2NHhwNQUlKMh6sjy5dGAzVXEC5ZNI9ePT1s5rwMGxLC1yOrtwq4e7eIzh2/0lfNKYpCfl4uE8aNpKeXK/6+3Qgfpm7WqVFYWMDY0eF4uHZkYP/erFm1jH5BfsyxrGxUFIV7d4uYO3sqvt5u+PToQnCgLwst2yekpSbTrvXnD52YP/brcHy8ujJ4QCDdPTrT08uVubOnctfqGXHF9+4xZeIYPFwd6Rfci5i1K/HzcWOzZTXl+DERDBnYt8bw462b1wkdHIyneyfChg1g7erleLg6cvHCOUwmE/49PfR8grqqzcmxJYcO7tVfO7B/D21a/V1fIQfqBO4hAwPx8nShd6/uDB4YSMLZ6onZqSlJBAf6WiRwpi64O3dsJaiPD16eLgT29iYybDA5OVlk3LpBZ8dW+r5M2rn9ZvsWevfqjodrRzzdOjIgxJ/Tp0/Y1J/289atG4QODqabeyeGh/Zn3ZrldHPrqA99fXdoHy6dWnP1SrpeR1rcfXt3ERzoi5enC30CvAgfPpDr12o+BFlRFDbErMHd1QFfbzfOJZzhwnl1Sw9taxCz2QyWhQbLl0bTzbUjvXv1YMWyhQwZ2JdpU8YBkJurbvewY7u6mjU/LxdXl/b6OVUUBaPRSHcPJxZEqfPoDAYDi6Pn4uHakcAAL1atWMyAEH/9wefl5eVEz59FYIAXPbp1xrt7F/oGeLPLerHBN1txbP8lBZaJ/4qiUJCfx7Qp4/D1cqWnV1dC+vqyZtUyhOaFCJYgNHHKykrJzLz10AfllpQUk5OThclkJDcnW1+ebzKZyMrMoMRq9ZY1d+7cJj8v12ZCbl5ejr4FBKhbIGRnZepDNNafLSws0FebPfiemlauPlRZVHSn1ocY371bRHZWJiUlJfprFRX3yci4adUbUN3rUllZSWCAN4sXRlFaWsrNm9f18loSt8lDfn6eftyCgnzKy9Ueq4L8PAof8lgUk1GtR22j1pycLHWHbrOZnOwsfZ8tLT+Zmbdsei6Ki++Rk51l0wsIoJgVcnOzycvLrXVIr6ysjJycLCorbXtBDAYD2dmZ+jMZQd2vKysr02Z1n3WesrMyycvL0cXrYZOuTSbTA2XN1ie8l5QUk52dqf/9IFWVlWRnZz20Hq0pLMjX819WVkp2VqbNxHNr7twupLBA/Wxx8T3uWq7HyspKsjIz9HNYVVVFdnaW/jdUb8dRanU9AdwuLNC3WLh3967NELh2nKysDLKt6rS6F66YrMyMGqIPUHTnNtnZmTZzwITmgwiWIAgNSm2N9YO9Fg97z/ozD37uUSuvtPcKC/JxcmzFNzviH3i/9sfAPCoPjzqOdboNQe118PA6e3S8h9dTbZ9/WNmftI4eN1+Ps6KutqcNPC11pVnX9fywNB/n+hXsExEsQbADHtXQ17ZLt3W8RzV8tTUStUlGbWlon609feWR+aorjQcbOO3v5KRLODm2IuHsj/r+VXWJWW15eHi+a+bpQXGrS8LUzzxcKh+3Lmxftz23tW1mWddxnqasT3scy18Ndj3X/xp+9Ll/VFkedj4fjCc0P0SwBEFo8miCdWD/Hty7OpBxq/rBwoIgCM+D/x+IGrDATV/NTgAAAABJRU5ErkJggg==)\n",
        "\n",
        "This requires the classification head to be differentiable, which is why this method usually uses a neural network for classification."
      ],
      "metadata": {
        "id": "5GXSuxVKPQRx"
      }
    },
    {
      "cell_type": "markdown",
      "source": [
        "Training the hidden states that serve as inputs to the classification model will help us avoid the problem of working with data that may not be well suited for the classification task. Instead, the initial hidden states adapt during training to decrease the model loss and thus increase its performance.\n",
        "\n",
        "We’ll be using the Trainer API from huggingface Transformers to simplify the training loop. Let’s look at the ingredients we need to set one up!\n"
      ],
      "metadata": {
        "id": "BVwzOy8APnVb"
      }
    },
    {
      "cell_type": "markdown",
      "source": [
        "#### Loading a pretrained model\n",
        "\n",
        "The first thing we need is a pretrained DistilBERT model like the one we used in the feature-based approach. The only slight modification is that we use the AutoModelForSequenceClassification model instead of AutoModel. The difference is that the AutoModelForSequenceClassification model has a classification head on top of the pretrained model outputs, which can be easily trained with the base model. We just need to specify how many labels the model has to predict (six in our case), since this dictates the number of outputs the classification head has:"
      ],
      "metadata": {
        "id": "ur7o4aClPpb4"
      }
    },
    {
      "cell_type": "code",
      "source": [
        "from transformers import AutoModelForSequenceClassification\n",
        "\n",
        "num_labels = 6\n",
        "model_ckpt = \"distilbert-base-uncased\"\n",
        "model = AutoModelForSequenceClassification.from_pretrained(model_ckpt, num_labels = num_labels).to(device)"
      ],
      "metadata": {
        "colab": {
          "base_uri": "https://localhost:8080/"
        },
        "id": "HAE5GnJ5PEgZ",
        "outputId": "91eca01b-67c6-4269-d70b-66c263925b1a"
      },
      "execution_count": 30,
      "outputs": [
        {
          "output_type": "stream",
          "name": "stderr",
          "text": [
            "Some weights of the model checkpoint at distilbert-base-uncased were not used when initializing DistilBertForSequenceClassification: ['vocab_layer_norm.bias', 'vocab_projector.bias', 'vocab_layer_norm.weight', 'vocab_projector.weight', 'vocab_transform.weight', 'vocab_transform.bias']\n",
            "- This IS expected if you are initializing DistilBertForSequenceClassification from the checkpoint of a model trained on another task or with another architecture (e.g. initializing a BertForSequenceClassification model from a BertForPreTraining model).\n",
            "- This IS NOT expected if you are initializing DistilBertForSequenceClassification from the checkpoint of a model that you expect to be exactly identical (initializing a BertForSequenceClassification model from a BertForSequenceClassification model).\n",
            "Some weights of DistilBertForSequenceClassification were not initialized from the model checkpoint at distilbert-base-uncased and are newly initialized: ['classifier.bias', 'pre_classifier.bias', 'pre_classifier.weight', 'classifier.weight']\n",
            "You should probably TRAIN this model on a down-stream task to be able to use it for predictions and inference.\n"
          ]
        }
      ]
    },
    {
      "cell_type": "markdown",
      "source": [
        "Next step is to define the metrics that we’ll use to evaluate our model’s performance during fine-tuning.\n",
        "Defining the performance metrics\n",
        "\n",
        "To monitor metrics during training, we need to define a compute_metrics() function for the Trainer. This function receives an EvalPrediction object (which is a named tuple with predictions and label_ids attributes) and needs to return a dictionary that maps each metric’s name to its value. For our application, we’ll compute the F1-score and the accuracy of the model as follows:"
      ],
      "metadata": {
        "id": "beZzHSjeQico"
      }
    },
    {
      "cell_type": "code",
      "source": [
        "from sklearn.metrics import accuracy_score, f1_score\n",
        "\n",
        "def compute_metrics(pred):\n",
        "  labels = pred.label_ids\n",
        "  preds = pred.predictions.argmax(-1)\n",
        "  f1 = f1_score(labels, preds, average=\"weighted\")\n",
        "  acc = accuracy_score(labels, preds)\n",
        "  return {\"accuracy\": acc, \"f1\": f1}\n"
      ],
      "metadata": {
        "id": "vjscFveUQWVG"
      },
      "execution_count": 31,
      "outputs": []
    },
    {
      "cell_type": "markdown",
      "source": [
        "Now our dataset as well as metruc is ready. One last thing we will need is Hyperparameters used for training. So let's define that next:"
      ],
      "metadata": {
        "id": "uNqaw4ZQRHB-"
      }
    },
    {
      "cell_type": "code",
      "source": [
        "from transformers import Trainer, TrainingArguments\n",
        "\n",
        "batch_size = 64\n",
        "logging_steps = len(emotions_encoded[\"train\"])//batch_size\n",
        "model_name = f\"{model_ckpt}-finetuned-emotion_classification\"\n",
        "training_args = TrainingArguments(output_dir = model_name,\n",
        "                                  num_train_epochs = 2,\n",
        "                                  learning_rate = 2e-5, \n",
        "                                  per_device_train_batch_size = batch_size,\n",
        "                                  weight_decay = 0.01,\n",
        "                                  evaluation_strategy = \"epoch\",\n",
        "                                  disable_tqdm = False,\n",
        "                                  logging_steps = logging_steps,\n",
        "                                  log_level = \"error\"\n",
        "                                  )"
      ],
      "metadata": {
        "id": "sz8jVb_4ROvL"
      },
      "execution_count": 32,
      "outputs": []
    },
    {
      "cell_type": "markdown",
      "source": [
        "Here we also set the batch size, learning rate, and number of epochs, and specify to load the best model at the end of the training run. With this final ingredient, we can instantiate and fine-tune our model with the Trainer API:"
      ],
      "metadata": {
        "id": "bPzxg6fNSOTt"
      }
    },
    {
      "cell_type": "code",
      "source": [
        "from transformers import Trainer\n",
        "\n",
        "trainer = Trainer(model = model, args =  training_args,\n",
        "                  compute_metrics = compute_metrics,\n",
        "                  train_dataset = emotions_encoded[\"train\"],\n",
        "                  eval_dataset = emotions_encoded[\"validation\"],\n",
        "                  tokenizer = tokenizer\n",
        "                  )\n",
        "\n",
        "\n",
        "trainer.train()"
      ],
      "metadata": {
        "colab": {
          "base_uri": "https://localhost:8080/",
          "height": 213
        },
        "id": "qHArdb_KSLLJ",
        "outputId": "c958febf-1db3-44e3-909f-ffb0d86c1524"
      },
      "execution_count": 33,
      "outputs": [
        {
          "output_type": "stream",
          "name": "stderr",
          "text": [
            "/usr/local/lib/python3.7/dist-packages/transformers/optimization.py:309: FutureWarning: This implementation of AdamW is deprecated and will be removed in a future version. Use the PyTorch implementation torch.optim.AdamW instead, or set `no_deprecation_warning=True` to disable this warning\n",
            "  FutureWarning,\n"
          ]
        },
        {
          "output_type": "display_data",
          "data": {
            "text/plain": [
              "<IPython.core.display.HTML object>"
            ],
            "text/html": [
              "\n",
              "    <div>\n",
              "      \n",
              "      <progress value='500' max='500' style='width:300px; height:20px; vertical-align: middle;'></progress>\n",
              "      [500/500 07:19, Epoch 2/2]\n",
              "    </div>\n",
              "    <table border=\"1\" class=\"dataframe\">\n",
              "  <thead>\n",
              " <tr style=\"text-align: left;\">\n",
              "      <th>Epoch</th>\n",
              "      <th>Training Loss</th>\n",
              "      <th>Validation Loss</th>\n",
              "      <th>Accuracy</th>\n",
              "      <th>F1</th>\n",
              "    </tr>\n",
              "  </thead>\n",
              "  <tbody>\n",
              "    <tr>\n",
              "      <td>1</td>\n",
              "      <td>0.859300</td>\n",
              "      <td>0.330907</td>\n",
              "      <td>0.902000</td>\n",
              "      <td>0.898454</td>\n",
              "    </tr>\n",
              "    <tr>\n",
              "      <td>2</td>\n",
              "      <td>0.255600</td>\n",
              "      <td>0.219073</td>\n",
              "      <td>0.927000</td>\n",
              "      <td>0.927039</td>\n",
              "    </tr>\n",
              "  </tbody>\n",
              "</table><p>"
            ]
          },
          "metadata": {}
        },
        {
          "output_type": "execute_result",
          "data": {
            "text/plain": [
              "TrainOutput(global_step=500, training_loss=0.557452392578125, metrics={'train_runtime': 440.2931, 'train_samples_per_second': 72.679, 'train_steps_per_second': 1.136, 'total_flos': 720342861696000.0, 'train_loss': 0.557452392578125, 'epoch': 2.0})"
            ]
          },
          "metadata": {},
          "execution_count": 33
        }
      ]
    },
    {
      "cell_type": "markdown",
      "source": [
        "looking at the training logs, we can see a significant improvement over the feature-based approach!\n",
        "\n",
        "We can take a more detailed look at the training metrics by calculating the confusion matrix. To visualize the confusion matrix, we first need to get the predictions on the validation set. The predict() method of the Trainer class returns several useful objects we can use for evaluation:"
      ],
      "metadata": {
        "id": "tBciSdHzTPGo"
      }
    },
    {
      "cell_type": "code",
      "source": [
        "preds_output = trainer.predict(emotions_encoded[\"validation\"])\n",
        "print(preds_output)"
      ],
      "metadata": {
        "colab": {
          "base_uri": "https://localhost:8080/",
          "height": 294
        },
        "id": "ZEG7po14S5GF",
        "outputId": "040f8ae1-2267-4dab-fe3c-192842670835"
      },
      "execution_count": 34,
      "outputs": [
        {
          "output_type": "display_data",
          "data": {
            "text/plain": [
              "<IPython.core.display.HTML object>"
            ],
            "text/html": [
              "\n",
              "    <div>\n",
              "      \n",
              "      <progress value='250' max='250' style='width:300px; height:20px; vertical-align: middle;'></progress>\n",
              "      [250/250 00:10]\n",
              "    </div>\n",
              "    "
            ]
          },
          "metadata": {}
        },
        {
          "output_type": "stream",
          "name": "stdout",
          "text": [
            "PredictionOutput(predictions=array([[ 4.447815  , -0.32156312, -1.0788645 , -0.7623756 , -1.3010443 ,\n",
            "        -1.6741749 ],\n",
            "       [ 4.584411  , -0.65111816, -1.7271302 , -0.22818562, -0.9512647 ,\n",
            "        -1.5231373 ],\n",
            "       [-1.3310747 ,  2.0560858 ,  2.6504405 , -1.2437224 , -1.6722848 ,\n",
            "        -1.5134388 ],\n",
            "       ...,\n",
            "       [-0.9815597 ,  4.306015  , -0.22993262, -1.2986394 , -1.6753329 ,\n",
            "        -0.9232682 ],\n",
            "       [-1.6588933 ,  2.7629302 ,  2.2913556 , -1.4590293 , -1.7329243 ,\n",
            "        -1.198903  ],\n",
            "       [-1.0368317 ,  4.270969  , -0.05742568, -1.6048366 , -1.6835663 ,\n",
            "        -0.60318065]], dtype=float32), label_ids=array([0, 0, 2, ..., 1, 1, 1]), metrics={'test_loss': 0.21907295286655426, 'test_accuracy': 0.927, 'test_f1': 0.9270389129875971, 'test_runtime': 10.3636, 'test_samples_per_second': 192.983, 'test_steps_per_second': 24.123})\n"
          ]
        }
      ]
    },
    {
      "cell_type": "markdown",
      "source": [
        "The output of the predict() method is a PredictionOutput object that contains arrays of predictions and label_ids, along with the metrics we passed to the trainer. For example, the metrics on the validation set can be accessed as follows:"
      ],
      "metadata": {
        "id": "Xgujy4SLVP4E"
      }
    },
    {
      "cell_type": "code",
      "source": [
        "preds_output.metrics"
      ],
      "metadata": {
        "colab": {
          "base_uri": "https://localhost:8080/"
        },
        "id": "nyDnfbDUVQTJ",
        "outputId": "71c8e2ef-d37e-45bd-a480-2114b01448cf"
      },
      "execution_count": 35,
      "outputs": [
        {
          "output_type": "execute_result",
          "data": {
            "text/plain": [
              "{'test_accuracy': 0.927,\n",
              " 'test_f1': 0.9270389129875971,\n",
              " 'test_loss': 0.21907295286655426,\n",
              " 'test_runtime': 10.3636,\n",
              " 'test_samples_per_second': 192.983,\n",
              " 'test_steps_per_second': 24.123}"
            ]
          },
          "metadata": {},
          "execution_count": 35
        }
      ]
    },
    {
      "cell_type": "markdown",
      "source": [
        "It also contains the raw predictions for each class. We can decode the predictions greedily using np.argmax(). This yields the predicted labels and has the same format as the labels returned by the Scikit-learn models in the feature-based approach/ We can plot confusion_matrix of prediction as:\n",
        "\n"
      ],
      "metadata": {
        "id": "hZ9Rg1unVdJ4"
      }
    },
    {
      "cell_type": "code",
      "source": [
        "y_preds = np.argmax(preds_output.predictions, axis=1)\n",
        "\n",
        "plot_confusion_matrix(y_preds, y_valid, label)"
      ],
      "metadata": {
        "colab": {
          "base_uri": "https://localhost:8080/",
          "height": 404
        },
        "id": "mQQBXvZ7VgAH",
        "outputId": "5ba545f5-72b3-42c0-e9e4-cae895a8904a"
      },
      "execution_count": 36,
      "outputs": [
        {
          "output_type": "display_data",
          "data": {
            "text/plain": [
              "<Figure size 432x432 with 1 Axes>"
            ],
            "image/png": "[encoded data removed]"
          },
          "metadata": {
            "needs_background": "light"
          }
        }
      ]
    },
    {
      "cell_type": "markdown",
      "source": [
        "This is much closer to the ideal diagonal confusion matrix. The love category is still often confused with joy, which seems natural. surprise is also frequently mistaken for joy, or confused with fear.. Overall the performance of the model seems quite good, but before we call it a day, let’s dive a little deeper into the types of errors our model is likely to make."
      ],
      "metadata": {
        "id": "HQBu40E1V1MH"
      }
    },
    {
      "cell_type": "markdown",
      "source": [
        "### Error analysis\n",
        "\n",
        "Before moving on to conclusion, we should investigate our model’s predictions a little bit further. A simple yet powerful technique is to sort the validation samples by the model loss. When we pass the label during the forward pass, the loss is automatically calculated and returned. Here’s a function that returns the loss along with the predicted label:"
      ],
      "metadata": {
        "id": "qPuKey21WDYR"
      }
    },
    {
      "cell_type": "code",
      "source": [
        "from torch.nn.functional import cross_entropy\n",
        "\n",
        "def forward_pass(batch):\n",
        "  inputs  = {k:v.to(device) for k,v in batch.items() if k in tokenizer.model_input_names}\n",
        "  \n",
        "  with torch.no_grad():\n",
        "    output = model(**inputs)\n",
        "    pred_label = torch.argmax(output.logits, axis = -1)\n",
        "    loss = cross_entropy(output.logits, batch[\"label\"].to(device), reduction = \"none\")\n",
        "      \n",
        "    # Place outputs on CPU for compatibility with other dataset columns\n",
        "    return {\"loss\": loss.cpu().numpy(),  \"predicted_label\": pred_label.cpu().numpy()}\n"
      ],
      "metadata": {
        "id": "L6oKxcqBVh_y"
      },
      "execution_count": 37,
      "outputs": []
    },
    {
      "cell_type": "markdown",
      "source": [
        "and map the forward_pass function to emotions dataset:"
      ],
      "metadata": {
        "id": "kJW_s0SttMBn"
      }
    },
    {
      "cell_type": "code",
      "source": [
        "# Convert our dataset back to PyTorch tensors\n",
        "emotions_encoded.set_format(\"torch\",\n",
        "                            columns=[\"input_ids\", \"attention_mask\", \"label\"])\n",
        "# Compute loss values\n",
        "emotions_encoded[\"validation\"] = emotions_encoded[\"validation\"].map(\n",
        "    forward_pass, batched=True, batch_size=16)"
      ],
      "metadata": {
        "colab": {
          "base_uri": "https://localhost:8080/",
          "height": 49,
          "referenced_widgets": [
            "cb9063b9971646e7adb925b28b6167f3",
            "7fad51d4378d4d84ba390040c0b48e20",
            "d2731802742b47879ed8ddae033b8190",
            "640157ac105d4335b9bad2ca033fc711",
            "e5f0a505840f4012a5b208aed8bdc0bf",
            "11e76771956d4ba6ae8a600962168de7",
            "f421fda6d1d24f9eaad531fd552c2787",
            "a0aed2aa912a4994a21642d67d507bbf",
            "12c6842e16f14219bd117c5b28ffc1ab",
            "0ea635043b0e466bb13164e9c8af5ca2",
            "200f4e3298de414ebb9aaa544a32afd9"
          ]
        },
        "id": "f3n91S5uVVH6",
        "outputId": "b4e5c9f7-7d22-47ed-87dc-ffa38f0c5c88"
      },
      "execution_count": 38,
      "outputs": [
        {
          "output_type": "display_data",
          "data": {
            "text/plain": [
              "  0%|          | 0/125 [00:00<?, ?ba/s]"
            ],
            "application/vnd.jupyter.widget-view+json": {
              "version_major": 2,
              "version_minor": 0,
              "model_id": "cb9063b9971646e7adb925b28b6167f3"
            }
          },
          "metadata": {}
        }
      ]
    },
    {
      "cell_type": "markdown",
      "source": [
        "Finally we con convert our dataset to a dataframe:"
      ],
      "metadata": {
        "id": "V-b5GNoytbtx"
      }
    },
    {
      "cell_type": "code",
      "source": [
        "emotions_encoded.set_format(\"pandas\")\n",
        "cols = [\"text\", \"label\", \"predicted_label\", \"loss\"]\n",
        "df_test = emotions_encoded[\"validation\"][:][cols]\n",
        "df_test[\"label\"] = df_test[\"label\"].apply(label_int2str)\n",
        "df_test[\"predicted_label\"] = (df_test[\"predicted_label\"]\n",
        "                              .apply(label_int2str))"
      ],
      "metadata": {
        "id": "jCf434LgtRU5"
      },
      "execution_count": 39,
      "outputs": []
    },
    {
      "cell_type": "markdown",
      "source": [
        "Let’s sort the dataset wrt Loss and have a look at the data samples with the highest losses:"
      ],
      "metadata": {
        "id": "kToTqbVJtmaz"
      }
    },
    {
      "cell_type": "code",
      "source": [
        "df_test.sort_values(\"loss\", ascending=False).head(10)"
      ],
      "metadata": {
        "colab": {
          "base_uri": "https://localhost:8080/",
          "height": 363
        },
        "id": "YedIPqWatqOw",
        "outputId": "c1731318-db36-4069-de24-0043e3b754f9"
      },
      "execution_count": 40,
      "outputs": [
        {
          "output_type": "execute_result",
          "data": {
            "text/plain": [
              "                                                   text  label  \\\n",
              "1801  i feel that he was being overshadowed by the s...   love   \n",
              "1963  i called myself pro life and voted for perry w...    joy   \n",
              "1509  i guess this is a memoir so it feels like that...    joy   \n",
              "1500  i guess we would naturally feel a sense of lon...  anger   \n",
              "1870  i guess i feel betrayed because i admired him ...    joy   \n",
              "1111  im lazy my characters fall into categories of ...    joy   \n",
              "882   i feel badly about reneging on my commitment t...   love   \n",
              "465   i would eventually go in to these stores but i...    joy   \n",
              "1274  i am going to several holiday parties and i ca...    joy   \n",
              "1683  i had applied for a job and they had assured m...  anger   \n",
              "\n",
              "     predicted_label      loss  \n",
              "1801         sadness  5.640646  \n",
              "1963         sadness  5.474519  \n",
              "1509            fear  5.457451  \n",
              "1500         sadness  5.456433  \n",
              "1870         sadness  5.269724  \n",
              "1111            fear  5.127424  \n",
              "882          sadness  5.106330  \n",
              "465             fear  5.083776  \n",
              "1274         sadness  4.697800  \n",
              "1683             joy  4.594402  "
            ],
            "text/html": [
              "\n",
              "  <div id=\"df-b8815f13-0528-41f6-a83e-fe99391867bf\">\n",
              "    <div class=\"colab-df-container\">\n",
              "      <div>\n",
              "<style scoped>\n",
              "    .dataframe tbody tr th:only-of-type {\n",
              "        vertical-align: middle;\n",
              "    }\n",
              "\n",
              "    .dataframe tbody tr th {\n",
              "        vertical-align: top;\n",
              "    }\n",
              "\n",
              "    .dataframe thead th {\n",
              "        text-align: right;\n",
              "    }\n",
              "</style>\n",
              "<table border=\"1\" class=\"dataframe\">\n",
              "  <thead>\n",
              "    <tr style=\"text-align: right;\">\n",
              "      <th></th>\n",
              "      <th>text</th>\n",
              "      <th>label</th>\n",
              "      <th>predicted_label</th>\n",
              "      <th>loss</th>\n",
              "    </tr>\n",
              "  </thead>\n",
              "  <tbody>\n",
              "    <tr>\n",
              "      <th>1801</th>\n",
              "      <td>i feel that he was being overshadowed by the s...</td>\n",
              "      <td>love</td>\n",
              "      <td>sadness</td>\n",
              "      <td>5.640646</td>\n",
              "    </tr>\n",
              "    <tr>\n",
              "      <th>1963</th>\n",
              "      <td>i called myself pro life and voted for perry w...</td>\n",
              "      <td>joy</td>\n",
              "      <td>sadness</td>\n",
              "      <td>5.474519</td>\n",
              "    </tr>\n",
              "    <tr>\n",
              "      <th>1509</th>\n",
              "      <td>i guess this is a memoir so it feels like that...</td>\n",
              "      <td>joy</td>\n",
              "      <td>fear</td>\n",
              "      <td>5.457451</td>\n",
              "    </tr>\n",
              "    <tr>\n",
              "      <th>1500</th>\n",
              "      <td>i guess we would naturally feel a sense of lon...</td>\n",
              "      <td>anger</td>\n",
              "      <td>sadness</td>\n",
              "      <td>5.456433</td>\n",
              "    </tr>\n",
              "    <tr>\n",
              "      <th>1870</th>\n",
              "      <td>i guess i feel betrayed because i admired him ...</td>\n",
              "      <td>joy</td>\n",
              "      <td>sadness</td>\n",
              "      <td>5.269724</td>\n",
              "    </tr>\n",
              "    <tr>\n",
              "      <th>1111</th>\n",
              "      <td>im lazy my characters fall into categories of ...</td>\n",
              "      <td>joy</td>\n",
              "      <td>fear</td>\n",
              "      <td>5.127424</td>\n",
              "    </tr>\n",
              "    <tr>\n",
              "      <th>882</th>\n",
              "      <td>i feel badly about reneging on my commitment t...</td>\n",
              "      <td>love</td>\n",
              "      <td>sadness</td>\n",
              "      <td>5.106330</td>\n",
              "    </tr>\n",
              "    <tr>\n",
              "      <th>465</th>\n",
              "      <td>i would eventually go in to these stores but i...</td>\n",
              "      <td>joy</td>\n",
              "      <td>fear</td>\n",
              "      <td>5.083776</td>\n",
              "    </tr>\n",
              "    <tr>\n",
              "      <th>1274</th>\n",
              "      <td>i am going to several holiday parties and i ca...</td>\n",
              "      <td>joy</td>\n",
              "      <td>sadness</td>\n",
              "      <td>4.697800</td>\n",
              "    </tr>\n",
              "    <tr>\n",
              "      <th>1683</th>\n",
              "      <td>i had applied for a job and they had assured m...</td>\n",
              "      <td>anger</td>\n",
              "      <td>joy</td>\n",
              "      <td>4.594402</td>\n",
              "    </tr>\n",
              "  </tbody>\n",
              "</table>\n",
              "</div>\n",
              "      <button class=\"colab-df-convert\" onclick=\"convertToInteractive('df-b8815f13-0528-41f6-a83e-fe99391867bf')\"\n",
              "              title=\"Convert this dataframe to an interactive table.\"\n",
              "              style=\"display:none;\">\n",
              "        \n",
              "  <svg xmlns=\"http://www.w3.org/2000/svg\" height=\"24px\"viewBox=\"0 0 24 24\"\n",
              "       width=\"24px\">\n",
              "    <path d=\"M0 0h24v24H0V0z\" fill=\"none\"/>\n",
              "    <path d=\"M18.56 5.44l.94 2.06.94-2.06 2.06-.94-2.06-.94-.94-2.06-.94 2.06-2.06.94zm-11 1L8.5 8.5l.94-2.06 2.06-.94-2.06-.94L8.5 2.5l-.94 2.06-2.06.94zm10 10l.94 2.06.94-2.06 2.06-.94-2.06-.94-.94-2.06-.94 2.06-2.06.94z\"/><path d=\"M17.41 7.96l-1.37-1.37c-.4-.4-.92-.59-1.43-.59-.52 0-1.04.2-1.43.59L10.3 9.45l-7.72 7.72c-.78.78-.78 2.05 0 2.83L4 21.41c.39.39.9.59 1.41.59.51 0 1.02-.2 1.41-.59l7.78-7.78 2.81-2.81c.8-.78.8-2.07 0-2.86zM5.41 20L4 18.59l7.72-7.72 1.47 1.35L5.41 20z\"/>\n",
              "  </svg>\n",
              "      </button>\n",
              "      \n",
              "  <style>\n",
              "    .colab-df-container {\n",
              "      display:flex;\n",
              "      flex-wrap:wrap;\n",
              "      gap: 12px;\n",
              "    }\n",
              "\n",
              "    .colab-df-convert {\n",
              "      background-color: #E8F0FE;\n",
              "      border: none;\n",
              "      border-radius: 50%;\n",
              "      cursor: pointer;\n",
              "      display: none;\n",
              "      fill: #1967D2;\n",
              "      height: 32px;\n",
              "      padding: 0 0 0 0;\n",
              "      width: 32px;\n",
              "    }\n",
              "\n",
              "    .colab-df-convert:hover {\n",
              "      background-color: #E2EBFA;\n",
              "      box-shadow: 0px 1px 2px rgba(60, 64, 67, 0.3), 0px 1px 3px 1px rgba(60, 64, 67, 0.15);\n",
              "      fill: #174EA6;\n",
              "    }\n",
              "\n",
              "    [theme=dark] .colab-df-convert {\n",
              "      background-color: #3B4455;\n",
              "      fill: #D2E3FC;\n",
              "    }\n",
              "\n",
              "    [theme=dark] .colab-df-convert:hover {\n",
              "      background-color: #434B5C;\n",
              "      box-shadow: 0px 1px 3px 1px rgba(0, 0, 0, 0.15);\n",
              "      filter: drop-shadow(0px 1px 2px rgba(0, 0, 0, 0.3));\n",
              "      fill: #FFFFFF;\n",
              "    }\n",
              "  </style>\n",
              "\n",
              "      <script>\n",
              "        const buttonEl =\n",
              "          document.querySelector('#df-b8815f13-0528-41f6-a83e-fe99391867bf button.colab-df-convert');\n",
              "        buttonEl.style.display =\n",
              "          google.colab.kernel.accessAllowed ? 'block' : 'none';\n",
              "\n",
              "        async function convertToInteractive(key) {\n",
              "          const element = document.querySelector('#df-b8815f13-0528-41f6-a83e-fe99391867bf');\n",
              "          const dataTable =\n",
              "            await google.colab.kernel.invokeFunction('convertToInteractive',\n",
              "                                                     [key], {});\n",
              "          if (!dataTable) return;\n",
              "\n",
              "          const docLinkHtml = 'Like what you see? Visit the ' +\n",
              "            '<a target=\"_blank\" href=https://colab.research.google.com/notebooks/data_table.ipynb>data table notebook</a>'\n",
              "            + ' to learn more about interactive tables.';\n",
              "          element.innerHTML = '';\n",
              "          dataTable['output_type'] = 'display_data';\n",
              "          await google.colab.output.renderOutput(dataTable, element);\n",
              "          const docLink = document.createElement('div');\n",
              "          docLink.innerHTML = docLinkHtml;\n",
              "          element.appendChild(docLink);\n",
              "        }\n",
              "      </script>\n",
              "    </div>\n",
              "  </div>\n",
              "  "
            ]
          },
          "metadata": {},
          "execution_count": 40
        }
      ]
    },
    {
      "cell_type": "markdown",
      "source": [
        "We can clearly see that the model predicted some of the labels incorrectly. On the other hand, it seems that there are quite a few examples with no clear class, which might be either mislabeled or require a new class altogether. In particular, joy seems to be mislabeled several times. With this information we can refine the dataset, which often can lead to as big a performance gain (or more) as having more data or larger models!\n",
        "\n",
        "When looking at the samples with the lowest losses, we observe that the model seems to be most confident when predicting the sadness class. Deep learning models are exceptionally good at finding and exploiting shortcuts to get to a prediction. For this reason, it is also worth investing time into looking at the examples that the model is most confident about, so that we can be confident that the model does not improperly exploit certain features of the text. So, let’s also look at the predictions with the smallest loss"
      ],
      "metadata": {
        "id": "2N4cgXmOtv2T"
      }
    },
    {
      "cell_type": "code",
      "source": [
        "df_test.sort_values(\"loss\", ascending=True).head(10)"
      ],
      "metadata": {
        "colab": {
          "base_uri": "https://localhost:8080/",
          "height": 363
        },
        "id": "Lu3FzQRPtwWw",
        "outputId": "d96eaac6-d757-42e0-a71a-99e2f44cf2ec"
      },
      "execution_count": 41,
      "outputs": [
        {
          "output_type": "execute_result",
          "data": {
            "text/plain": [
              "                                                   text    label  \\\n",
              "323              im starting to feel unwelcome in there  sadness   \n",
              "1531  i forgive stanley hes not so quick to forgive ...  sadness   \n",
              "368   i have to admit that i m feeling quite gloomy ...  sadness   \n",
              "1041  i suppose it all goes along with feeling unwel...  sadness   \n",
              "1861  im tired of feeling lethargic hating to work o...  sadness   \n",
              "1656  im feeling very jaded and uncertain about love...  sadness   \n",
              "76    i feel like im an unwelcome presence whenever ...  sadness   \n",
              "133   i and feel quite ungrateful for it but i m loo...  sadness   \n",
              "1954                      i feel beaten and discouraged  sadness   \n",
              "267   i feel like im alone in missing him and becaus...  sadness   \n",
              "\n",
              "     predicted_label      loss  \n",
              "323          sadness  0.016186  \n",
              "1531         sadness  0.016476  \n",
              "368          sadness  0.016543  \n",
              "1041         sadness  0.016595  \n",
              "1861         sadness  0.016618  \n",
              "1656         sadness  0.016747  \n",
              "76           sadness  0.016753  \n",
              "133          sadness  0.016829  \n",
              "1954         sadness  0.016849  \n",
              "267          sadness  0.016917  "
            ],
            "text/html": [
              "\n",
              "  <div id=\"df-dba0bdab-d770-4265-9705-261ac9d71f54\">\n",
              "    <div class=\"colab-df-container\">\n",
              "      <div>\n",
              "<style scoped>\n",
              "    .dataframe tbody tr th:only-of-type {\n",
              "        vertical-align: middle;\n",
              "    }\n",
              "\n",
              "    .dataframe tbody tr th {\n",
              "        vertical-align: top;\n",
              "    }\n",
              "\n",
              "    .dataframe thead th {\n",
              "        text-align: right;\n",
              "    }\n",
              "</style>\n",
              "<table border=\"1\" class=\"dataframe\">\n",
              "  <thead>\n",
              "    <tr style=\"text-align: right;\">\n",
              "      <th></th>\n",
              "      <th>text</th>\n",
              "      <th>label</th>\n",
              "      <th>predicted_label</th>\n",
              "      <th>loss</th>\n",
              "    </tr>\n",
              "  </thead>\n",
              "  <tbody>\n",
              "    <tr>\n",
              "      <th>323</th>\n",
              "      <td>im starting to feel unwelcome in there</td>\n",
              "      <td>sadness</td>\n",
              "      <td>sadness</td>\n",
              "      <td>0.016186</td>\n",
              "    </tr>\n",
              "    <tr>\n",
              "      <th>1531</th>\n",
              "      <td>i forgive stanley hes not so quick to forgive ...</td>\n",
              "      <td>sadness</td>\n",
              "      <td>sadness</td>\n",
              "      <td>0.016476</td>\n",
              "    </tr>\n",
              "    <tr>\n",
              "      <th>368</th>\n",
              "      <td>i have to admit that i m feeling quite gloomy ...</td>\n",
              "      <td>sadness</td>\n",
              "      <td>sadness</td>\n",
              "      <td>0.016543</td>\n",
              "    </tr>\n",
              "    <tr>\n",
              "      <th>1041</th>\n",
              "      <td>i suppose it all goes along with feeling unwel...</td>\n",
              "      <td>sadness</td>\n",
              "      <td>sadness</td>\n",
              "      <td>0.016595</td>\n",
              "    </tr>\n",
              "    <tr>\n",
              "      <th>1861</th>\n",
              "      <td>im tired of feeling lethargic hating to work o...</td>\n",
              "      <td>sadness</td>\n",
              "      <td>sadness</td>\n",
              "      <td>0.016618</td>\n",
              "    </tr>\n",
              "    <tr>\n",
              "      <th>1656</th>\n",
              "      <td>im feeling very jaded and uncertain about love...</td>\n",
              "      <td>sadness</td>\n",
              "      <td>sadness</td>\n",
              "      <td>0.016747</td>\n",
              "    </tr>\n",
              "    <tr>\n",
              "      <th>76</th>\n",
              "      <td>i feel like im an unwelcome presence whenever ...</td>\n",
              "      <td>sadness</td>\n",
              "      <td>sadness</td>\n",
              "      <td>0.016753</td>\n",
              "    </tr>\n",
              "    <tr>\n",
              "      <th>133</th>\n",
              "      <td>i and feel quite ungrateful for it but i m loo...</td>\n",
              "      <td>sadness</td>\n",
              "      <td>sadness</td>\n",
              "      <td>0.016829</td>\n",
              "    </tr>\n",
              "    <tr>\n",
              "      <th>1954</th>\n",
              "      <td>i feel beaten and discouraged</td>\n",
              "      <td>sadness</td>\n",
              "      <td>sadness</td>\n",
              "      <td>0.016849</td>\n",
              "    </tr>\n",
              "    <tr>\n",
              "      <th>267</th>\n",
              "      <td>i feel like im alone in missing him and becaus...</td>\n",
              "      <td>sadness</td>\n",
              "      <td>sadness</td>\n",
              "      <td>0.016917</td>\n",
              "    </tr>\n",
              "  </tbody>\n",
              "</table>\n",
              "</div>\n",
              "      <button class=\"colab-df-convert\" onclick=\"convertToInteractive('df-dba0bdab-d770-4265-9705-261ac9d71f54')\"\n",
              "              title=\"Convert this dataframe to an interactive table.\"\n",
              "              style=\"display:none;\">\n",
              "        \n",
              "  <svg xmlns=\"http://www.w3.org/2000/svg\" height=\"24px\"viewBox=\"0 0 24 24\"\n",
              "       width=\"24px\">\n",
              "    <path d=\"M0 0h24v24H0V0z\" fill=\"none\"/>\n",
              "    <path d=\"M18.56 5.44l.94 2.06.94-2.06 2.06-.94-2.06-.94-.94-2.06-.94 2.06-2.06.94zm-11 1L8.5 8.5l.94-2.06 2.06-.94-2.06-.94L8.5 2.5l-.94 2.06-2.06.94zm10 10l.94 2.06.94-2.06 2.06-.94-2.06-.94-.94-2.06-.94 2.06-2.06.94z\"/><path d=\"M17.41 7.96l-1.37-1.37c-.4-.4-.92-.59-1.43-.59-.52 0-1.04.2-1.43.59L10.3 9.45l-7.72 7.72c-.78.78-.78 2.05 0 2.83L4 21.41c.39.39.9.59 1.41.59.51 0 1.02-.2 1.41-.59l7.78-7.78 2.81-2.81c.8-.78.8-2.07 0-2.86zM5.41 20L4 18.59l7.72-7.72 1.47 1.35L5.41 20z\"/>\n",
              "  </svg>\n",
              "      </button>\n",
              "      \n",
              "  <style>\n",
              "    .colab-df-container {\n",
              "      display:flex;\n",
              "      flex-wrap:wrap;\n",
              "      gap: 12px;\n",
              "    }\n",
              "\n",
              "    .colab-df-convert {\n",
              "      background-color: #E8F0FE;\n",
              "      border: none;\n",
              "      border-radius: 50%;\n",
              "      cursor: pointer;\n",
              "      display: none;\n",
              "      fill: #1967D2;\n",
              "      height: 32px;\n",
              "      padding: 0 0 0 0;\n",
              "      width: 32px;\n",
              "    }\n",
              "\n",
              "    .colab-df-convert:hover {\n",
              "      background-color: #E2EBFA;\n",
              "      box-shadow: 0px 1px 2px rgba(60, 64, 67, 0.3), 0px 1px 3px 1px rgba(60, 64, 67, 0.15);\n",
              "      fill: #174EA6;\n",
              "    }\n",
              "\n",
              "    [theme=dark] .colab-df-convert {\n",
              "      background-color: #3B4455;\n",
              "      fill: #D2E3FC;\n",
              "    }\n",
              "\n",
              "    [theme=dark] .colab-df-convert:hover {\n",
              "      background-color: #434B5C;\n",
              "      box-shadow: 0px 1px 3px 1px rgba(0, 0, 0, 0.15);\n",
              "      filter: drop-shadow(0px 1px 2px rgba(0, 0, 0, 0.3));\n",
              "      fill: #FFFFFF;\n",
              "    }\n",
              "  </style>\n",
              "\n",
              "      <script>\n",
              "        const buttonEl =\n",
              "          document.querySelector('#df-dba0bdab-d770-4265-9705-261ac9d71f54 button.colab-df-convert');\n",
              "        buttonEl.style.display =\n",
              "          google.colab.kernel.accessAllowed ? 'block' : 'none';\n",
              "\n",
              "        async function convertToInteractive(key) {\n",
              "          const element = document.querySelector('#df-dba0bdab-d770-4265-9705-261ac9d71f54');\n",
              "          const dataTable =\n",
              "            await google.colab.kernel.invokeFunction('convertToInteractive',\n",
              "                                                     [key], {});\n",
              "          if (!dataTable) return;\n",
              "\n",
              "          const docLinkHtml = 'Like what you see? Visit the ' +\n",
              "            '<a target=\"_blank\" href=https://colab.research.google.com/notebooks/data_table.ipynb>data table notebook</a>'\n",
              "            + ' to learn more about interactive tables.';\n",
              "          element.innerHTML = '';\n",
              "          dataTable['output_type'] = 'display_data';\n",
              "          await google.colab.output.renderOutput(dataTable, element);\n",
              "          const docLink = document.createElement('div');\n",
              "          docLink.innerHTML = docLinkHtml;\n",
              "          element.appendChild(docLink);\n",
              "        }\n",
              "      </script>\n",
              "    </div>\n",
              "  </div>\n",
              "  "
            ]
          },
          "metadata": {},
          "execution_count": 41
        }
      ]
    },
    {
      "cell_type": "markdown",
      "source": [
        "We now know that the joy is sometimes mislabeled and that the model is most confident about predicting the label sadness. With this information we can make targeted improvements to our dataset, and also keep an eye on the class the model seems to be very confident about.\n",
        "\n",
        "The last step before serving the trained model is to save it for later usage.  Transformers allows us to do this in a few steps, which we’ll be exploring next"
      ],
      "metadata": {
        "id": "u5-cIKelt2K_"
      }
    }
  ]
}